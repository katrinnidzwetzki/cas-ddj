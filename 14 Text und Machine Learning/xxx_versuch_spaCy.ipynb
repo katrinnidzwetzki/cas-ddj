{
 "cells": [
  {
   "cell_type": "code",
   "execution_count": 9,
   "metadata": {},
   "outputs": [],
   "source": [
    "import spacy\n",
    "from spacy import displacy\n",
    "from collections import Counter\n",
    "import en_core_web_sm\n",
    "#nlp = en_core_web_sm.load()   ## english\n",
    "nlp = spacy.load('de_core_news_sm')   ## deutsch"
   ]
  },
  {
   "cell_type": "code",
   "execution_count": 7,
   "metadata": {},
   "outputs": [],
   "source": [
    "#!python -m spacy download de_core_news_sm --user"
   ]
  },
  {
   "cell_type": "code",
   "execution_count": 18,
   "metadata": {},
   "outputs": [],
   "source": [
    "article  = '''Steuerskandal\n",
    ":\n",
    "Neue Razzia wegen Cum-Ex-Geschäften\n",
    "Ermittler haben in Hessen und Bayern Wohnungen und Geschäftsräume durchsucht. Sechs Beschuldigte sollen einen Steuerschaden von rund 50 Millionen Euro verursacht haben.\n",
    "\n",
    "Steuerskandal: Blick auf die Frankfurter Skyline\n",
    "\n",
    "Ermittler haben im Cum-Ex-Skandal in zwölf Wohnungen und Büros in Hessen und Bayern nach Beweisen für Steuerhinterziehung gesucht. Die Ermittlungen richten sich gegen sechs Beschuldigte im Alter zwischen 50 und 57 Jahren, wie die Staatsanwaltschaft mitteilte. Sie sollen einen Steuerschaden von zusammen 53,3 Millionen Euro verursacht haben. Auch eine Wohnung in den Niederlanden sei durchsucht worden, weil einer der Beschuldigten auch dort einen Wohnsitz hat. An der Razzia waren mehr als 100 Ermittler beteiligt.\n",
    "\n",
    "\n",
    "Die Cum-Ex-Geschäfte gelten als größter Steuerskandal in der Geschichte der Bundesrepublik. Bei den Geschäften lassen sich Anleger die einmal gezahlte Kapitalertragssteuer auf Aktiendividenden mithilfe von Banken mehrfach zurückerstatten. Dadurch sind dem Staat laut Bundesfinanzministerium mehr als fünf Milliarden Euro entgangen. Andere Schätzungen gehen von einem weit höheren Steuerschaden aus.\n",
    "\n",
    "Die sechs Beschuldigten sollen in den Jahren 2008 und 2009 als Mittäter Aktiengeschäfte um den Dividendenstichtag mit einem Investitionsvolumen im dreistelligen Millionenbereich getätigt haben. Sie ließen sich dann Steuern erstatten, die tatsächlich nie gezahlt wurden. Zwei der Beschuldigten in dem neuen Verfahrenskomplex waren zum Zeitpunkt der Cum-Ex-Geschäfte Mitarbeiter einer kleineren Frankfurter Investmentbank. Bei den anderen vier Beschuldigten handelt es sich um Geschäftsführer kleinerer Firmen. Die gut 53 Millionen Euro Steuerschaden haben die Finanzbehörden bereits zurückgefordert. Das Geld wurde den Angaben zufolge bereits an die Staatskasse zurückgezahlt.\n",
    "\n",
    "Diverse Staatsanwaltschaften ermitteln seit Jahren wegen Cum-Ex-Geschäften. Insgesamt gehen Ermittler nach jüngsten Zahlen des Bundesfinanzministeriums inzwischen 499 Verdachtsfällen nach. Anfang September begann vor dem Bonner Landgericht der erste Strafprozess gegen zwei britische Wertpapierhändler. Bisher ist nicht höchstrichterlich geklärt, ob die Cum-Ex-Geschäfte nur moralisch fragwürdig oder auch illegal waren. Der Strafprozess in Bonn gilt in dieser Frage als wegweisend, er dauert mindestens noch bis Anfang 2020. '''\n"
   ]
  },
  {
   "cell_type": "code",
   "execution_count": 19,
   "metadata": {},
   "outputs": [
    {
     "data": {
      "text/plain": [
       "24"
      ]
     },
     "execution_count": 19,
     "metadata": {},
     "output_type": "execute_result"
    }
   ],
   "source": [
    "article = nlp(article)   # natural language processing\n",
    "len(article.ents)        # entities"
   ]
  },
  {
   "cell_type": "code",
   "execution_count": 20,
   "metadata": {},
   "outputs": [
    {
     "data": {
      "text/plain": [
       "Counter({'PER': 4, 'MISC': 4, 'LOC': 13, 'ORG': 3})"
      ]
     },
     "execution_count": 20,
     "metadata": {},
     "output_type": "execute_result"
    }
   ],
   "source": [
    "labels = [x.label_ for x in article.ents]\n",
    "Counter(labels)    ### zählt anzahl vorkommnisse"
   ]
  },
  {
   "cell_type": "code",
   "execution_count": null,
   "metadata": {},
   "outputs": [],
   "source": []
  },
  {
   "cell_type": "code",
   "execution_count": 21,
   "metadata": {},
   "outputs": [
    {
     "data": {
      "text/plain": [
       "Ermittler haben in Hessen und Bayern Wohnungen und Geschäftsräume durchsucht."
      ]
     },
     "execution_count": 21,
     "metadata": {},
     "output_type": "execute_result"
    }
   ],
   "source": [
    "sentences = [x for x in article.sents]\n",
    "#print(sentences[2])\n",
    "sentences[3]"
   ]
  },
  {
   "cell_type": "code",
   "execution_count": 22,
   "metadata": {},
   "outputs": [
    {
     "data": {
      "text/html": [
       "<div class=\"entities\" style=\"line-height: 2.5; direction: ltr\">Sechs Beschuldigte sollen einen Steuerschaden von rund 50 Millionen \n",
       "<mark class=\"entity\" style=\"background: #ddd; padding: 0.45em 0.6em; margin: 0 0.25em; line-height: 1; border-radius: 0.35em;\">\n",
       "    Euro\n",
       "    <span style=\"font-size: 0.8em; font-weight: bold; line-height: 1; border-radius: 0.35em; text-transform: uppercase; vertical-align: middle; margin-left: 0.5rem\">MISC</span>\n",
       "</mark>\n",
       " verursacht haben.\n",
       "\n",
       "</div>"
      ],
      "text/plain": [
       "<IPython.core.display.HTML object>"
      ]
     },
     "metadata": {},
     "output_type": "display_data"
    }
   ],
   "source": [
    "displacy.render(nlp(str(sentences[4])), jupyter=True, style='ent')"
   ]
  },
  {
   "cell_type": "code",
   "execution_count": 23,
   "metadata": {},
   "outputs": [
    {
     "data": {
      "text/html": [
       "<div class=\"entities\" style=\"line-height: 2.5; direction: ltr\">\n",
       "<mark class=\"entity\" style=\"background: #ddd; padding: 0.45em 0.6em; margin: 0 0.25em; line-height: 1; border-radius: 0.35em;\">\n",
       "    Steuerskandal\n",
       "\n",
       "    <span style=\"font-size: 0.8em; font-weight: bold; line-height: 1; border-radius: 0.35em; text-transform: uppercase; vertical-align: middle; margin-left: 0.5rem\">PER</span>\n",
       "</mark>\n",
       ":</br>Neue Razzia wegen \n",
       "<mark class=\"entity\" style=\"background: #ddd; padding: 0.45em 0.6em; margin: 0 0.25em; line-height: 1; border-radius: 0.35em;\">\n",
       "    Cum-Ex-Geschäften\n",
       "    <span style=\"font-size: 0.8em; font-weight: bold; line-height: 1; border-radius: 0.35em; text-transform: uppercase; vertical-align: middle; margin-left: 0.5rem\">MISC</span>\n",
       "</mark>\n",
       "</br>Ermittler haben in \n",
       "<mark class=\"entity\" style=\"background: #ff9561; padding: 0.45em 0.6em; margin: 0 0.25em; line-height: 1; border-radius: 0.35em;\">\n",
       "    Hessen\n",
       "    <span style=\"font-size: 0.8em; font-weight: bold; line-height: 1; border-radius: 0.35em; text-transform: uppercase; vertical-align: middle; margin-left: 0.5rem\">LOC</span>\n",
       "</mark>\n",
       " und \n",
       "<mark class=\"entity\" style=\"background: #ff9561; padding: 0.45em 0.6em; margin: 0 0.25em; line-height: 1; border-radius: 0.35em;\">\n",
       "    Bayern\n",
       "    <span style=\"font-size: 0.8em; font-weight: bold; line-height: 1; border-radius: 0.35em; text-transform: uppercase; vertical-align: middle; margin-left: 0.5rem\">LOC</span>\n",
       "</mark>\n",
       " Wohnungen und Geschäftsräume durchsucht. Sechs Beschuldigte sollen einen Steuerschaden von rund 50 Millionen Euro verursacht haben.</br></br>Steuerskandal: Blick auf die \n",
       "<mark class=\"entity\" style=\"background: #ddd; padding: 0.45em 0.6em; margin: 0 0.25em; line-height: 1; border-radius: 0.35em;\">\n",
       "    Frankfurter\n",
       "    <span style=\"font-size: 0.8em; font-weight: bold; line-height: 1; border-radius: 0.35em; text-transform: uppercase; vertical-align: middle; margin-left: 0.5rem\">MISC</span>\n",
       "</mark>\n",
       " Skyline</br></br>Ermittler haben im \n",
       "<mark class=\"entity\" style=\"background: #7aecec; padding: 0.45em 0.6em; margin: 0 0.25em; line-height: 1; border-radius: 0.35em;\">\n",
       "    Cum-Ex-Skandal\n",
       "    <span style=\"font-size: 0.8em; font-weight: bold; line-height: 1; border-radius: 0.35em; text-transform: uppercase; vertical-align: middle; margin-left: 0.5rem\">ORG</span>\n",
       "</mark>\n",
       " in zwölf Wohnungen und Büros in \n",
       "<mark class=\"entity\" style=\"background: #ff9561; padding: 0.45em 0.6em; margin: 0 0.25em; line-height: 1; border-radius: 0.35em;\">\n",
       "    Hessen\n",
       "    <span style=\"font-size: 0.8em; font-weight: bold; line-height: 1; border-radius: 0.35em; text-transform: uppercase; vertical-align: middle; margin-left: 0.5rem\">LOC</span>\n",
       "</mark>\n",
       " und \n",
       "<mark class=\"entity\" style=\"background: #ff9561; padding: 0.45em 0.6em; margin: 0 0.25em; line-height: 1; border-radius: 0.35em;\">\n",
       "    Bayern\n",
       "    <span style=\"font-size: 0.8em; font-weight: bold; line-height: 1; border-radius: 0.35em; text-transform: uppercase; vertical-align: middle; margin-left: 0.5rem\">LOC</span>\n",
       "</mark>\n",
       " nach \n",
       "<mark class=\"entity\" style=\"background: #ff9561; padding: 0.45em 0.6em; margin: 0 0.25em; line-height: 1; border-radius: 0.35em;\">\n",
       "    Beweisen\n",
       "    <span style=\"font-size: 0.8em; font-weight: bold; line-height: 1; border-radius: 0.35em; text-transform: uppercase; vertical-align: middle; margin-left: 0.5rem\">LOC</span>\n",
       "</mark>\n",
       " für \n",
       "<mark class=\"entity\" style=\"background: #7aecec; padding: 0.45em 0.6em; margin: 0 0.25em; line-height: 1; border-radius: 0.35em;\">\n",
       "    Steuerhinterziehung\n",
       "    <span style=\"font-size: 0.8em; font-weight: bold; line-height: 1; border-radius: 0.35em; text-transform: uppercase; vertical-align: middle; margin-left: 0.5rem\">ORG</span>\n",
       "</mark>\n",
       " gesucht. Die Ermittlungen richten sich gegen sechs Beschuldigte im Alter zwischen 50 und 57 Jahren, wie die Staatsanwaltschaft mitteilte. Sie sollen einen Steuerschaden von zusammen 53,3 Millionen Euro verursacht haben. Auch eine Wohnung in den \n",
       "<mark class=\"entity\" style=\"background: #ff9561; padding: 0.45em 0.6em; margin: 0 0.25em; line-height: 1; border-radius: 0.35em;\">\n",
       "    Niederlanden\n",
       "    <span style=\"font-size: 0.8em; font-weight: bold; line-height: 1; border-radius: 0.35em; text-transform: uppercase; vertical-align: middle; margin-left: 0.5rem\">LOC</span>\n",
       "</mark>\n",
       " sei durchsucht worden, weil einer der Beschuldigten auch dort einen Wohnsitz hat. An der \n",
       "<mark class=\"entity\" style=\"background: #ff9561; padding: 0.45em 0.6em; margin: 0 0.25em; line-height: 1; border-radius: 0.35em;\">\n",
       "    Razzia\n",
       "    <span style=\"font-size: 0.8em; font-weight: bold; line-height: 1; border-radius: 0.35em; text-transform: uppercase; vertical-align: middle; margin-left: 0.5rem\">LOC</span>\n",
       "</mark>\n",
       " waren mehr als 100 Ermittler beteiligt.</br></br></br>Die Cum-Ex-Geschäfte gelten als größter Steuerskandal in der Geschichte der \n",
       "<mark class=\"entity\" style=\"background: #ff9561; padding: 0.45em 0.6em; margin: 0 0.25em; line-height: 1; border-radius: 0.35em;\">\n",
       "    Bundesrepublik\n",
       "    <span style=\"font-size: 0.8em; font-weight: bold; line-height: 1; border-radius: 0.35em; text-transform: uppercase; vertical-align: middle; margin-left: 0.5rem\">LOC</span>\n",
       "</mark>\n",
       ". Bei den Geschäften lassen sich \n",
       "<mark class=\"entity\" style=\"background: #ddd; padding: 0.45em 0.6em; margin: 0 0.25em; line-height: 1; border-radius: 0.35em;\">\n",
       "    Anleger\n",
       "    <span style=\"font-size: 0.8em; font-weight: bold; line-height: 1; border-radius: 0.35em; text-transform: uppercase; vertical-align: middle; margin-left: 0.5rem\">PER</span>\n",
       "</mark>\n",
       " die einmal gezahlte Kapitalertragssteuer auf Aktiendividenden mithilfe von Banken mehrfach zurückerstatten. Dadurch sind dem Staat laut \n",
       "<mark class=\"entity\" style=\"background: #ddd; padding: 0.45em 0.6em; margin: 0 0.25em; line-height: 1; border-radius: 0.35em;\">\n",
       "    Bundesfinanzministerium\n",
       "    <span style=\"font-size: 0.8em; font-weight: bold; line-height: 1; border-radius: 0.35em; text-transform: uppercase; vertical-align: middle; margin-left: 0.5rem\">PER</span>\n",
       "</mark>\n",
       " mehr als fünf Milliarden Euro entgangen. Andere Schätzungen gehen von einem weit höheren Steuerschaden aus.</br></br>Die sechs Beschuldigten sollen in den Jahren 2008 und 2009 als Mittäter Aktiengeschäfte um den \n",
       "<mark class=\"entity\" style=\"background: #ff9561; padding: 0.45em 0.6em; margin: 0 0.25em; line-height: 1; border-radius: 0.35em;\">\n",
       "    Dividendenstichtag\n",
       "    <span style=\"font-size: 0.8em; font-weight: bold; line-height: 1; border-radius: 0.35em; text-transform: uppercase; vertical-align: middle; margin-left: 0.5rem\">LOC</span>\n",
       "</mark>\n",
       " mit einem Investitionsvolumen im dreistelligen \n",
       "<mark class=\"entity\" style=\"background: #ff9561; padding: 0.45em 0.6em; margin: 0 0.25em; line-height: 1; border-radius: 0.35em;\">\n",
       "    Millionenbereich\n",
       "    <span style=\"font-size: 0.8em; font-weight: bold; line-height: 1; border-radius: 0.35em; text-transform: uppercase; vertical-align: middle; margin-left: 0.5rem\">LOC</span>\n",
       "</mark>\n",
       " getätigt haben. Sie ließen sich dann Steuern erstatten, die tatsächlich nie gezahlt wurden. Zwei der Beschuldigten in dem neuen Verfahrenskomplex waren zum Zeitpunkt der Cum-Ex-Geschäfte Mitarbeiter einer kleineren \n",
       "<mark class=\"entity\" style=\"background: #7aecec; padding: 0.45em 0.6em; margin: 0 0.25em; line-height: 1; border-radius: 0.35em;\">\n",
       "    Frankfurter Investmentbank\n",
       "    <span style=\"font-size: 0.8em; font-weight: bold; line-height: 1; border-radius: 0.35em; text-transform: uppercase; vertical-align: middle; margin-left: 0.5rem\">ORG</span>\n",
       "</mark>\n",
       ". Bei den anderen vier Beschuldigten handelt es sich um Geschäftsführer kleinerer Firmen. Die gut 53 Millionen Euro Steuerschaden haben die Finanzbehörden bereits zurückgefordert. Das Geld wurde den Angaben zufolge bereits an die \n",
       "<mark class=\"entity\" style=\"background: #ddd; padding: 0.45em 0.6em; margin: 0 0.25em; line-height: 1; border-radius: 0.35em;\">\n",
       "    Staatskasse\n",
       "    <span style=\"font-size: 0.8em; font-weight: bold; line-height: 1; border-radius: 0.35em; text-transform: uppercase; vertical-align: middle; margin-left: 0.5rem\">MISC</span>\n",
       "</mark>\n",
       " zurückgezahlt.</br></br>Diverse Staatsanwaltschaften ermitteln seit \n",
       "<mark class=\"entity\" style=\"background: #ddd; padding: 0.45em 0.6em; margin: 0 0.25em; line-height: 1; border-radius: 0.35em;\">\n",
       "    Jahren\n",
       "    <span style=\"font-size: 0.8em; font-weight: bold; line-height: 1; border-radius: 0.35em; text-transform: uppercase; vertical-align: middle; margin-left: 0.5rem\">PER</span>\n",
       "</mark>\n",
       " wegen Cum-Ex-Geschäften. Insgesamt gehen Ermittler nach jüngsten Zahlen des \n",
       "<mark class=\"entity\" style=\"background: #ff9561; padding: 0.45em 0.6em; margin: 0 0.25em; line-height: 1; border-radius: 0.35em;\">\n",
       "    Bundesfinanzministeriums\n",
       "    <span style=\"font-size: 0.8em; font-weight: bold; line-height: 1; border-radius: 0.35em; text-transform: uppercase; vertical-align: middle; margin-left: 0.5rem\">LOC</span>\n",
       "</mark>\n",
       " inzwischen 499 Verdachtsfällen nach. Anfang September begann vor dem \n",
       "<mark class=\"entity\" style=\"background: #ff9561; padding: 0.45em 0.6em; margin: 0 0.25em; line-height: 1; border-radius: 0.35em;\">\n",
       "    Bonner Landgericht\n",
       "    <span style=\"font-size: 0.8em; font-weight: bold; line-height: 1; border-radius: 0.35em; text-transform: uppercase; vertical-align: middle; margin-left: 0.5rem\">LOC</span>\n",
       "</mark>\n",
       " der erste Strafprozess gegen zwei \n",
       "<mark class=\"entity\" style=\"background: #ddd; padding: 0.45em 0.6em; margin: 0 0.25em; line-height: 1; border-radius: 0.35em;\">\n",
       "    britische\n",
       "    <span style=\"font-size: 0.8em; font-weight: bold; line-height: 1; border-radius: 0.35em; text-transform: uppercase; vertical-align: middle; margin-left: 0.5rem\">MISC</span>\n",
       "</mark>\n",
       " Wertpapierhändler. Bisher ist nicht höchstrichterlich geklärt, ob die Cum-Ex-Geschäfte nur moralisch fragwürdig oder auch illegal waren. Der Strafprozess in \n",
       "<mark class=\"entity\" style=\"background: #ff9561; padding: 0.45em 0.6em; margin: 0 0.25em; line-height: 1; border-radius: 0.35em;\">\n",
       "    Bonn\n",
       "    <span style=\"font-size: 0.8em; font-weight: bold; line-height: 1; border-radius: 0.35em; text-transform: uppercase; vertical-align: middle; margin-left: 0.5rem\">LOC</span>\n",
       "</mark>\n",
       " gilt in dieser Frage als wegweisend, er dauert mindestens noch bis Anfang 2020. </div>"
      ],
      "text/plain": [
       "<IPython.core.display.HTML object>"
      ]
     },
     "metadata": {},
     "output_type": "display_data"
    }
   ],
   "source": [
    "displacy.render(article, jupyter=True, style='ent')"
   ]
  },
  {
   "cell_type": "code",
   "execution_count": 28,
   "metadata": {},
   "outputs": [
    {
     "name": "stdout",
     "output_type": "stream",
     "text": [
      "Steuerskandal\n",
      " False\n",
      "Cum-Ex-Geschäften False\n",
      "Hessen True\n",
      "Bayern True\n",
      "Frankfurter False\n",
      "Cum-Ex-Skandal False\n",
      "Hessen True\n",
      "Bayern True\n",
      "Beweisen True\n",
      "Steuerhinterziehung False\n",
      "Niederlanden True\n",
      "Razzia True\n",
      "Bundesrepublik True\n",
      "Anleger False\n",
      "Bundesfinanzministerium False\n",
      "Dividendenstichtag True\n",
      "Millionenbereich True\n",
      "Frankfurter Investmentbank False\n",
      "Staatskasse False\n",
      "Jahren False\n",
      "Bundesfinanzministeriums True\n",
      "Bonner Landgericht True\n",
      "britische False\n",
      "Bonn True\n"
     ]
    }
   ],
   "source": [
    "for entity in article.ents:\n",
    "    print (entity, entity.label_ == 'LOC')   ## Liste Entities + spezifisches Label"
   ]
  },
  {
   "cell_type": "code",
   "execution_count": null,
   "metadata": {},
   "outputs": [],
   "source": [
    "for entity in article.ents\n",
    "if\n",
    "    print (entity, entity.label_ == 'LOC')   ## Liste Entities + spezifisches Label"
   ]
  },
  {
   "cell_type": "code",
   "execution_count": null,
   "metadata": {},
   "outputs": [],
   "source": []
  },
  {
   "cell_type": "code",
   "execution_count": null,
   "metadata": {},
   "outputs": [],
   "source": []
  }
 ],
 "metadata": {
  "kernelspec": {
   "display_name": "Python 3",
   "language": "python",
   "name": "python3"
  },
  "language_info": {
   "codemirror_mode": {
    "name": "ipython",
    "version": 3
   },
   "file_extension": ".py",
   "mimetype": "text/x-python",
   "name": "python",
   "nbconvert_exporter": "python",
   "pygments_lexer": "ipython3",
   "version": "3.7.3"
  }
 },
 "nbformat": 4,
 "nbformat_minor": 2
}
