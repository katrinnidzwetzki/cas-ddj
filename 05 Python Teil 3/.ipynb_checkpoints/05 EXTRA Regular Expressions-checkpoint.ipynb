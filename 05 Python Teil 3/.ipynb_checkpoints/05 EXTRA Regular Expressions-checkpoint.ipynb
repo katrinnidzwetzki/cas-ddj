{
 "cells": [
  {
   "cell_type": "markdown",
   "metadata": {},
   "source": [
    "# Regular Expressions \n",
    "Ermöglicht mit sog. \"regulären Ausdrücken\" sehr flexibel, Strings zu durchsuchen."
   ]
  },
  {
   "cell_type": "markdown",
   "metadata": {},
   "source": [
    "#### Modul einbinden"
   ]
  },
  {
   "cell_type": "code",
   "execution_count": 1,
   "metadata": {},
   "outputs": [],
   "source": [
    "import re"
   ]
  },
  {
   "cell_type": "markdown",
   "metadata": {},
   "source": [
    "### Findall"
   ]
  },
  {
   "cell_type": "code",
   "execution_count": 34,
   "metadata": {},
   "outputs": [
    {
     "data": {
      "text/plain": [
       "['30', '4', '2']"
      ]
     },
     "execution_count": 34,
     "metadata": {},
     "output_type": "execute_result"
    }
   ],
   "source": [
    "sentence = \"Habe 30 Hunde, die jeweils 4 Liter Wasser brauchen und 2 kg Nahrung.\"\n",
    "re.findall(\"[0-9]+\", sentence)"
   ]
  },
  {
   "cell_type": "markdown",
   "metadata": {},
   "source": [
    "### Suche nach Zahlen"
   ]
  },
  {
   "cell_type": "code",
   "execution_count": 30,
   "metadata": {},
   "outputs": [
    {
     "data": {
      "text/plain": [
       "<_sre.SRE_Match object; span=(9, 11), match='30'>"
      ]
     },
     "execution_count": 30,
     "metadata": {},
     "output_type": "execute_result"
    }
   ],
   "source": [
    "sentence = \"Ich habe 30 Hunde, die jeweils 4 Liter Wasser brauchen und 2 kg Nahrung.\"\n",
    "re.search(\"[0-9]+\", sentence)[0]"
   ]
  },
  {
   "cell_type": "markdown",
   "metadata": {},
   "source": [
    "pythex.org\n",
    "Pythex: a Python regular expression editor"
   ]
  },
  {
   "cell_type": "markdown",
   "metadata": {},
   "source": [
    "### Suche nach Zahlen []"
   ]
  },
  {
   "cell_type": "code",
   "execution_count": 41,
   "metadata": {},
   "outputs": [
    {
     "name": "stdout",
     "output_type": "stream",
     "text": [
      "<_sre.SRE_Match object; span=(6, 9), match='123'>\n",
      "<_sre.SRE_Match object; span=(6, 9), match='123'>\n"
     ]
    }
   ],
   "source": [
    "print(re.search(\"[0123456789]+\", \"Hallo 123 Hallo\"))\n",
    "print(re.search(\"[0-9]+\", \"Hallo 123 Hallo\"))"
   ]
  },
  {
   "cell_type": "markdown",
   "metadata": {},
   "source": [
    "### Suche nach Wörtern"
   ]
  },
  {
   "cell_type": "code",
   "execution_count": 34,
   "metadata": {},
   "outputs": [
    {
     "data": {
      "text/plain": [
       "<_sre.SRE_Match object; span=(6, 9), match='der'>"
      ]
     },
     "execution_count": 34,
     "metadata": {},
     "output_type": "execute_result"
    }
   ],
   "source": [
    "re.search(\"der?\", \"Hallo der Hallo\")"
   ]
  },
  {
   "cell_type": "markdown",
   "metadata": {},
   "source": [
    "### Suche nach Wörtern *"
   ]
  },
  {
   "cell_type": "code",
   "execution_count": null,
   "metadata": {},
   "outputs": [],
   "source": [
    "print(re.search(\"der*\", \"Hallo de Hallo\"))    # * null oder mehr zeichen\n",
    "print(re.search(\"der*\", \"Hallo der Hallo\"))\n",
    "print(re.search(\"der*\", \"Hallo derrrrrrrr Hallo\"))"
   ]
  },
  {
   "cell_type": "markdown",
   "metadata": {},
   "source": [
    "### Suche nach Wörtern +"
   ]
  },
  {
   "cell_type": "code",
   "execution_count": 37,
   "metadata": {},
   "outputs": [
    {
     "name": "stdout",
     "output_type": "stream",
     "text": [
      "None\n",
      "<_sre.SRE_Match object; span=(6, 9), match='der'>\n",
      "<_sre.SRE_Match object; span=(6, 16), match='derrrrrrrr'>\n"
     ]
    }
   ],
   "source": [
    "print(re.search(\"der+\", \"Hallo de Hallo\"))   # + r mindestens einmal\n",
    "print(re.search(\"der+\", \"Hallo der Hallo\"))\n",
    "print(re.search(\"der+\", \"Hallo derrrrrrrr Hallo\"))"
   ]
  },
  {
   "cell_type": "markdown",
   "metadata": {},
   "source": [
    "#### Weitere Infos:\n",
    "\n",
    "- https://docs.python.org/3.6/library/re.html\n",
    "- http://rubular.com"
   ]
  },
  {
   "cell_type": "markdown",
   "metadata": {},
   "source": [
    "## Übung\n",
    "\n",
    "- Kopiert einen Text aus 20 min. \n",
    "- Wie oft kommt dort das Wort \"der\" vor?"
   ]
  },
  {
   "cell_type": "code",
   "execution_count": 1,
   "metadata": {},
   "outputs": [],
   "source": [
    "### Hier kommt euer code"
   ]
  },
  {
   "cell_type": "code",
   "execution_count": 13,
   "metadata": {},
   "outputs": [
    {
     "data": {
      "text/plain": [
       "14"
      ]
     },
     "execution_count": 13,
     "metadata": {},
     "output_type": "execute_result"
    }
   ],
   "source": [
    "######\n",
    "\n",
    "a = re.findall(\"der\", '''Am Mittwochnachmittag gegen 16.30 Uhr fiel auf einem Waldweg in Fulenbach ein Mädchen von einem Pferd und verletzte sich dabei schwer. Wie die Kantonspolizei Solothurn in einer Mitteilung schreibt, wurde das Mädchen nach der medizinischen Erstversorgung vor Ort mit einem Rettungshelikopter der REGA in ein Spital geflogen. Trotz aller ärztlichen Bemühungen ist die Primarschülerin in der Zwischenzeit gestorben.\n",
    "\n",
    "Nach ersten Erkenntnissen, nahm das Kind an einer geführten Tour eines Pferdehofs aus der Region teil. Dieser bietet unter anderem auch geführte Waldspaziergänge für Kinder mit Pferden und Ponys an.\n",
    "\n",
    "Zur Klärung des Unfallhergangs und der Umstände hat die Polizei eine Untersuchung eingeleitet. Aus Rücksicht auf die Betroffenen machte die Kantonspolizei keine weiteren Angaben zum tragischen Unfall.\n",
    "\n",
    "Unfall löst Betroffenheit aus\n",
    "\n",
    "Der Unfall wühlt auf: «Es ist tragisch, was passiert ist», sagt Doris Kägi, die selbst in der Region lebt. Sie führt mit ihrem Mann einen Pferdehof im benachbarten Wolfwil. Generell gebe es keine Bestimmungen, die einem Betrieb vorschreiben würden, ab wann ein Kind auf einem Pferd reiten darf, erklärt Kägi.\n",
    "\n",
    "«In der Regel wird das Kind geführt und trägt einen Helm und eine Pferdeweste, die es von einem Sturz schützt». Man könne jedoch noch so vorsichtig sein: «Es kann immer etwas passieren», so die Fachfrau.\n",
    "\n",
    "Pferde sind keine ungefährlichen Tiere\n",
    "\n",
    "«Man muss sich der Gefahr, die von einem Pferd ausgehen kann, stets bewusst sein», sagt Kägi. Dabei sollte man bedenken, dass Pferde Lebewesen sind, die je nach Situation verschieden reagieren. Gerade bei Kindern würde man das Pferd deswegen von Hand führen.\n",
    "\n",
    "«Man kann das Risiko nicht eingehen, dass man selbst auch auf das Pferd sitzt. Das wäre zu gefährlich», so Kägi. Die Pferdefachfrau kennt die genauen Umstände des Unfalls nicht und kann deswegen nur mutmassen, was der Grund für den Unfall war: «Es könnte sein, dass sich das Pferd erschrocken hat. Ein Kind kann sich in einer solchen Situation kaum auf dem Pferd halten.»\n",
    "\n",
    "8000 Reitunfälle pro Jahr\n",
    "\n",
    "Wie Zahlen der Beratungsstelle für Unfallverhütung zeigen, verunfallen jedes Jahr in der Schweiz über 8000 Menschen beim Pferdesport. Im Schnitt enden zwei dieser Fälle tödlich. Verletzungen nach Reitunfällen sind oft schwer und in den meisten Fällen die Folge eines Sturzes vom Pferd.\n",
    "\n",
    "''')\n",
    "\n",
    "\n",
    "len(a)"
   ]
  },
  {
   "cell_type": "code",
   "execution_count": null,
   "metadata": {},
   "outputs": [],
   "source": []
  }
 ],
 "metadata": {
  "kernelspec": {
   "display_name": "Python 3",
   "language": "python",
   "name": "python3"
  },
  "language_info": {
   "codemirror_mode": {
    "name": "ipython",
    "version": 3
   },
   "file_extension": ".py",
   "mimetype": "text/x-python",
   "name": "python",
   "nbconvert_exporter": "python",
   "pygments_lexer": "ipython3",
   "version": "3.7.3"
  }
 },
 "nbformat": 4,
 "nbformat_minor": 2
}
