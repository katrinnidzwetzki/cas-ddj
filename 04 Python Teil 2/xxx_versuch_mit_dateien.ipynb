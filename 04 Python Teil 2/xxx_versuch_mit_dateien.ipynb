{
 "cells": [
  {
   "cell_type": "code",
   "execution_count": 4,
   "metadata": {},
   "outputs": [
    {
     "data": {
      "text/plain": [
       "'Sopron'"
      ]
     },
     "execution_count": 4,
     "metadata": {},
     "output_type": "execute_result"
    }
   ],
   "source": [
    "liste = [\n",
    "    [\"Berlin\", \"München\", \"Köln\"],\n",
    "    [\"Budapest\", \"Pécs\", \"Sopron\"]\n",
    "]\n",
    "\n",
    "liste[1][2]"
   ]
  },
  {
   "cell_type": "code",
   "execution_count": 16,
   "metadata": {},
   "outputs": [],
   "source": [
    "# Wir öffnen eine Datei zum Schreiben (\"w\": write)\n",
    "file = open(\"schreiben.txt\", \"w\")\n",
    "\n",
    "#students = [\"Max\", \"Monika\", \"Erik\", \"Franziska\"]\n",
    "\n",
    "# Wir loopen mit einer for-Schleife durch die Liste students\n",
    "#for student in students:\n",
    "    # Mit der write-Methode schreiben wir den aktuellen String student und einen Zeilenumbruch in das file-Objekt\n",
    "    #file.write(student + \"\\n\")\n",
    "\n",
    "# Abschließend müssen wir die Datei wieder schließen\n",
    "#file.close()\n",
    "\n",
    "#print()\n"
   ]
  },
  {
   "cell_type": "code",
   "execution_count": null,
   "metadata": {},
   "outputs": [],
   "source": []
  }
 ],
 "metadata": {
  "kernelspec": {
   "display_name": "Python 3",
   "language": "python",
   "name": "python3"
  },
  "language_info": {
   "codemirror_mode": {
    "name": "ipython",
    "version": 3
   },
   "file_extension": ".py",
   "mimetype": "text/x-python",
   "name": "python",
   "nbconvert_exporter": "python",
   "pygments_lexer": "ipython3",
   "version": "3.7.3"
  }
 },
 "nbformat": 4,
 "nbformat_minor": 2
}
