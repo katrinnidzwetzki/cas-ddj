{
 "cells": [
  {
   "cell_type": "markdown",
   "metadata": {},
   "source": [
    "# Einführung Pandas"
   ]
  },
  {
   "cell_type": "markdown",
   "metadata": {},
   "source": [
    "**Inhalt:** Pandas kennenlernen\n",
    "\n",
    "**Nötige skills**: Keine\n",
    "\n",
    "**Lerniziele**:\n",
    "- Ein neues Datenset anschauen und Fragen stellen\n",
    "- Eine erste Idee erhalten: Wozu ist Pandas gut?"
   ]
  },
  {
   "cell_type": "markdown",
   "metadata": {},
   "source": [
    "### Was ist Pandas?\n",
    "Kurz gesagt: Pandas ist Excel für Python.\n",
    "\n",
    "Das Modul ermöglicht ähnliche Operationen wie ein Tabellenkalkulationsprogramm, aber\n",
    "- in Logbuchform statt als Tabellenblatt\n",
    "- mit reproduzierbarem Code\n",
    "- viel mehr Funktionalität\n",
    "- kombinierbar mit anderen Modulen\n",
    "\n",
    "Ohne Pandas (fast) kein Datenjournalismus mit Python."
   ]
  },
  {
   "cell_type": "markdown",
   "metadata": {},
   "source": [
    "### Installation\n",
    "Command line: `pip install pandas`\n",
    "\n",
    "...\n",
    "\n",
    "...\n",
    "\n",
    "... und wenn das alles geklappt hat:"
   ]
  },
  {
   "cell_type": "code",
   "execution_count": 1,
   "metadata": {},
   "outputs": [],
   "source": [
    "import pandas as pd"
   ]
  },
  {
   "cell_type": "code",
   "execution_count": 2,
   "metadata": {},
   "outputs": [],
   "source": [
    "%matplotlib inline"
   ]
  },
  {
   "cell_type": "code",
   "execution_count": 3,
   "metadata": {},
   "outputs": [
    {
     "name": "stdout",
     "output_type": "stream",
     "text": [
      "Hooray!\n"
     ]
    }
   ],
   "source": [
    "print (\"Hooray!\")"
   ]
  },
  {
   "cell_type": "markdown",
   "metadata": {},
   "source": [
    "# Das Beispiel"
   ]
  },
  {
   "cell_type": "markdown",
   "metadata": {},
   "source": [
    "Eine Datenbank über Kraftwerke auf der ganzen Welt. Enthält Geolocation, Kapazität, Typ und einige andere Angaben zu knapp 30'000 Kraftwerken.\n",
    "\n",
    "Quelle: http://datasets.wri.org/dataset/globalpowerplantdatabase\n",
    "\n",
    "Ein pdf-Beschrieb sowie das csv-Datenfile sind im Unterordner `dataprojects/powerplants` abgelegt."
   ]
  },
  {
   "cell_type": "code",
   "execution_count": null,
   "metadata": {},
   "outputs": [],
   "source": []
  },
  {
   "cell_type": "code",
   "execution_count": null,
   "metadata": {},
   "outputs": [],
   "source": []
  },
  {
   "cell_type": "markdown",
   "metadata": {},
   "source": [
    "## Noch ohne Pandas..."
   ]
  },
  {
   "cell_type": "markdown",
   "metadata": {},
   "source": [
    "### Erster Eindruck"
   ]
  },
  {
   "cell_type": "markdown",
   "metadata": {},
   "source": [
    "Als erstes navigieren wir in den Ordner und schauen uns die vorhandenen Materialien an.\n",
    "- das pdf-Dokument\n",
    "- die csv-Datei\n",
    "\n",
    "Wir öffnen die csv mal in Excel um zu schauen, was dort drin ist."
   ]
  },
  {
   "cell_type": "code",
   "execution_count": null,
   "metadata": {},
   "outputs": [],
   "source": []
  },
  {
   "cell_type": "code",
   "execution_count": null,
   "metadata": {},
   "outputs": [],
   "source": []
  },
  {
   "cell_type": "markdown",
   "metadata": {},
   "source": [
    "### Mögliche Fragestellungen"
   ]
  },
  {
   "cell_type": "markdown",
   "metadata": {},
   "source": [
    "Ausgehend vom Excelfile machen wir uns einige Überlegungen:\n",
    "- Welche Informationen enthält die Datenbank genau?\n",
    "- Was für Auswertungen sind denkbar, was wäre interessant?\n",
    "- Was wären mögliche Thesen, die wir anhand dieser Daten überprüfen können?\n",
    "\n",
    "\n",
    "Diskutieren Sie kurz in Gruppen, noch ohne irgendwas konkret zu programmieren oder zu visualisieren."
   ]
  },
  {
   "cell_type": "code",
   "execution_count": null,
   "metadata": {},
   "outputs": [],
   "source": []
  },
  {
   "cell_type": "code",
   "execution_count": null,
   "metadata": {},
   "outputs": [],
   "source": []
  },
  {
   "cell_type": "code",
   "execution_count": null,
   "metadata": {},
   "outputs": [],
   "source": []
  },
  {
   "cell_type": "code",
   "execution_count": null,
   "metadata": {},
   "outputs": [],
   "source": []
  },
  {
   "cell_type": "code",
   "execution_count": null,
   "metadata": {},
   "outputs": [],
   "source": []
  },
  {
   "cell_type": "code",
   "execution_count": null,
   "metadata": {},
   "outputs": [],
   "source": []
  },
  {
   "cell_type": "code",
   "execution_count": null,
   "metadata": {},
   "outputs": [],
   "source": []
  },
  {
   "cell_type": "code",
   "execution_count": null,
   "metadata": {},
   "outputs": [],
   "source": []
  },
  {
   "cell_type": "code",
   "execution_count": null,
   "metadata": {},
   "outputs": [],
   "source": []
  },
  {
   "cell_type": "code",
   "execution_count": null,
   "metadata": {},
   "outputs": [],
   "source": []
  },
  {
   "cell_type": "code",
   "execution_count": null,
   "metadata": {},
   "outputs": [],
   "source": []
  },
  {
   "cell_type": "code",
   "execution_count": null,
   "metadata": {},
   "outputs": [],
   "source": []
  },
  {
   "cell_type": "markdown",
   "metadata": {},
   "source": [
    "## In Pandas..."
   ]
  },
  {
   "cell_type": "markdown",
   "metadata": {},
   "source": [
    "Statt in Excel öffnen wir das File nun in Pandas und versuchen, Antworten auf einige unserer Fragen zu erhalten."
   ]
  },
  {
   "cell_type": "markdown",
   "metadata": {},
   "source": [
    "### File öffnen"
   ]
  },
  {
   "cell_type": "code",
   "execution_count": 4,
   "metadata": {},
   "outputs": [],
   "source": [
    "path = \"dataprojects/powerplants/global_power_plant_database.csv\""
   ]
  },
  {
   "cell_type": "code",
   "execution_count": 5,
   "metadata": {},
   "outputs": [],
   "source": [
    "df = pd.read_csv(path)"
   ]
  },
  {
   "cell_type": "code",
   "execution_count": null,
   "metadata": {},
   "outputs": [],
   "source": []
  },
  {
   "cell_type": "markdown",
   "metadata": {},
   "source": [
    "### Inhalt anzeigen"
   ]
  },
  {
   "cell_type": "markdown",
   "metadata": {},
   "source": [
    "**Übersicht über die Spalten**"
   ]
  },
  {
   "cell_type": "code",
   "execution_count": 6,
   "metadata": {},
   "outputs": [
    {
     "data": {
      "text/plain": [
       "country                      object\n",
       "country_long                 object\n",
       "name                         object\n",
       "gppd_idnr                    object\n",
       "capacity_mw                 float64\n",
       "latitude                    float64\n",
       "longitude                   float64\n",
       "primary_fuel                 object\n",
       "other_fuel1                  object\n",
       "other_fuel2                  object\n",
       "other_fuel3                  object\n",
       "commissioning_year          float64\n",
       "owner                        object\n",
       "source                       object\n",
       "url                          object\n",
       "geolocation_source           object\n",
       "wepp_id                      object\n",
       "year_of_capacity_data       float64\n",
       "generation_gwh_2013         float64\n",
       "generation_gwh_2014         float64\n",
       "generation_gwh_2015         float64\n",
       "generation_gwh_2016         float64\n",
       "generation_gwh_2017         float64\n",
       "estimated_generation_gwh    float64\n",
       "dtype: object"
      ]
     },
     "execution_count": 6,
     "metadata": {},
     "output_type": "execute_result"
    }
   ],
   "source": [
    "df.dtypes"
   ]
  },
  {
   "cell_type": "markdown",
   "metadata": {},
   "source": [
    "**Visuelle Repräsentation**"
   ]
  },
  {
   "cell_type": "code",
   "execution_count": 7,
   "metadata": {},
   "outputs": [
    {
     "data": {
      "text/html": [
       "<div>\n",
       "<style scoped>\n",
       "    .dataframe tbody tr th:only-of-type {\n",
       "        vertical-align: middle;\n",
       "    }\n",
       "\n",
       "    .dataframe tbody tr th {\n",
       "        vertical-align: top;\n",
       "    }\n",
       "\n",
       "    .dataframe thead th {\n",
       "        text-align: right;\n",
       "    }\n",
       "</style>\n",
       "<table border=\"1\" class=\"dataframe\">\n",
       "  <thead>\n",
       "    <tr style=\"text-align: right;\">\n",
       "      <th></th>\n",
       "      <th>country</th>\n",
       "      <th>country_long</th>\n",
       "      <th>name</th>\n",
       "      <th>gppd_idnr</th>\n",
       "      <th>capacity_mw</th>\n",
       "      <th>latitude</th>\n",
       "      <th>longitude</th>\n",
       "      <th>primary_fuel</th>\n",
       "      <th>other_fuel1</th>\n",
       "      <th>other_fuel2</th>\n",
       "      <th>...</th>\n",
       "      <th>url</th>\n",
       "      <th>geolocation_source</th>\n",
       "      <th>wepp_id</th>\n",
       "      <th>year_of_capacity_data</th>\n",
       "      <th>generation_gwh_2013</th>\n",
       "      <th>generation_gwh_2014</th>\n",
       "      <th>generation_gwh_2015</th>\n",
       "      <th>generation_gwh_2016</th>\n",
       "      <th>generation_gwh_2017</th>\n",
       "      <th>estimated_generation_gwh</th>\n",
       "    </tr>\n",
       "  </thead>\n",
       "  <tbody>\n",
       "    <tr>\n",
       "      <th>0</th>\n",
       "      <td>AFG</td>\n",
       "      <td>Afghanistan</td>\n",
       "      <td>Kajaki Hydroelectric Power Plant Afghanistan</td>\n",
       "      <td>GEODB0040538</td>\n",
       "      <td>33.00</td>\n",
       "      <td>32.3220</td>\n",
       "      <td>65.1190</td>\n",
       "      <td>Hydro</td>\n",
       "      <td>NaN</td>\n",
       "      <td>NaN</td>\n",
       "      <td>...</td>\n",
       "      <td>http://globalenergyobservatory.org</td>\n",
       "      <td>GEODB</td>\n",
       "      <td>1009793</td>\n",
       "      <td>2017.0</td>\n",
       "      <td>NaN</td>\n",
       "      <td>NaN</td>\n",
       "      <td>NaN</td>\n",
       "      <td>NaN</td>\n",
       "      <td>NaN</td>\n",
       "      <td>NaN</td>\n",
       "    </tr>\n",
       "    <tr>\n",
       "      <th>1</th>\n",
       "      <td>AFG</td>\n",
       "      <td>Afghanistan</td>\n",
       "      <td>Mahipar Hydroelectric Power Plant Afghanistan</td>\n",
       "      <td>GEODB0040541</td>\n",
       "      <td>66.00</td>\n",
       "      <td>34.5560</td>\n",
       "      <td>69.4787</td>\n",
       "      <td>Hydro</td>\n",
       "      <td>NaN</td>\n",
       "      <td>NaN</td>\n",
       "      <td>...</td>\n",
       "      <td>http://globalenergyobservatory.org</td>\n",
       "      <td>GEODB</td>\n",
       "      <td>1009795</td>\n",
       "      <td>2017.0</td>\n",
       "      <td>NaN</td>\n",
       "      <td>NaN</td>\n",
       "      <td>NaN</td>\n",
       "      <td>NaN</td>\n",
       "      <td>NaN</td>\n",
       "      <td>NaN</td>\n",
       "    </tr>\n",
       "    <tr>\n",
       "      <th>2</th>\n",
       "      <td>AFG</td>\n",
       "      <td>Afghanistan</td>\n",
       "      <td>Naghlu Dam Hydroelectric Power Plant Afghanistan</td>\n",
       "      <td>GEODB0040534</td>\n",
       "      <td>100.00</td>\n",
       "      <td>34.6410</td>\n",
       "      <td>69.7170</td>\n",
       "      <td>Hydro</td>\n",
       "      <td>NaN</td>\n",
       "      <td>NaN</td>\n",
       "      <td>...</td>\n",
       "      <td>http://globalenergyobservatory.org</td>\n",
       "      <td>GEODB</td>\n",
       "      <td>1009797</td>\n",
       "      <td>2017.0</td>\n",
       "      <td>NaN</td>\n",
       "      <td>NaN</td>\n",
       "      <td>NaN</td>\n",
       "      <td>NaN</td>\n",
       "      <td>NaN</td>\n",
       "      <td>NaN</td>\n",
       "    </tr>\n",
       "    <tr>\n",
       "      <th>3</th>\n",
       "      <td>AFG</td>\n",
       "      <td>Afghanistan</td>\n",
       "      <td>Nangarhar (Darunta) Hydroelectric Power Plant ...</td>\n",
       "      <td>GEODB0040536</td>\n",
       "      <td>11.55</td>\n",
       "      <td>34.4847</td>\n",
       "      <td>70.3633</td>\n",
       "      <td>Hydro</td>\n",
       "      <td>NaN</td>\n",
       "      <td>NaN</td>\n",
       "      <td>...</td>\n",
       "      <td>http://globalenergyobservatory.org</td>\n",
       "      <td>GEODB</td>\n",
       "      <td>1009787</td>\n",
       "      <td>2017.0</td>\n",
       "      <td>NaN</td>\n",
       "      <td>NaN</td>\n",
       "      <td>NaN</td>\n",
       "      <td>NaN</td>\n",
       "      <td>NaN</td>\n",
       "      <td>NaN</td>\n",
       "    </tr>\n",
       "    <tr>\n",
       "      <th>4</th>\n",
       "      <td>AFG</td>\n",
       "      <td>Afghanistan</td>\n",
       "      <td>Northwest Kabul Power Plant Afghanistan</td>\n",
       "      <td>GEODB0040540</td>\n",
       "      <td>42.00</td>\n",
       "      <td>34.5638</td>\n",
       "      <td>69.1134</td>\n",
       "      <td>Gas</td>\n",
       "      <td>NaN</td>\n",
       "      <td>NaN</td>\n",
       "      <td>...</td>\n",
       "      <td>http://globalenergyobservatory.org</td>\n",
       "      <td>GEODB</td>\n",
       "      <td>NaN</td>\n",
       "      <td>2017.0</td>\n",
       "      <td>NaN</td>\n",
       "      <td>NaN</td>\n",
       "      <td>NaN</td>\n",
       "      <td>NaN</td>\n",
       "      <td>NaN</td>\n",
       "      <td>NaN</td>\n",
       "    </tr>\n",
       "    <tr>\n",
       "      <th>5</th>\n",
       "      <td>AFG</td>\n",
       "      <td>Afghanistan</td>\n",
       "      <td>Pul-e-Khumri Hydroelectric Power Plant Afghani...</td>\n",
       "      <td>GEODB0040537</td>\n",
       "      <td>6.00</td>\n",
       "      <td>35.9416</td>\n",
       "      <td>68.7100</td>\n",
       "      <td>Hydro</td>\n",
       "      <td>NaN</td>\n",
       "      <td>NaN</td>\n",
       "      <td>...</td>\n",
       "      <td>http://globalenergyobservatory.org</td>\n",
       "      <td>GEODB</td>\n",
       "      <td>NaN</td>\n",
       "      <td>2017.0</td>\n",
       "      <td>NaN</td>\n",
       "      <td>NaN</td>\n",
       "      <td>NaN</td>\n",
       "      <td>NaN</td>\n",
       "      <td>NaN</td>\n",
       "      <td>NaN</td>\n",
       "    </tr>\n",
       "    <tr>\n",
       "      <th>6</th>\n",
       "      <td>AFG</td>\n",
       "      <td>Afghanistan</td>\n",
       "      <td>Sarobi Dam Hydroelectric Power Plant Afghanistan</td>\n",
       "      <td>GEODB0040535</td>\n",
       "      <td>22.00</td>\n",
       "      <td>34.5865</td>\n",
       "      <td>69.7757</td>\n",
       "      <td>Hydro</td>\n",
       "      <td>NaN</td>\n",
       "      <td>NaN</td>\n",
       "      <td>...</td>\n",
       "      <td>http://globalenergyobservatory.org</td>\n",
       "      <td>GEODB</td>\n",
       "      <td>1009799</td>\n",
       "      <td>2017.0</td>\n",
       "      <td>NaN</td>\n",
       "      <td>NaN</td>\n",
       "      <td>NaN</td>\n",
       "      <td>NaN</td>\n",
       "      <td>NaN</td>\n",
       "      <td>NaN</td>\n",
       "    </tr>\n",
       "    <tr>\n",
       "      <th>7</th>\n",
       "      <td>ALB</td>\n",
       "      <td>Albania</td>\n",
       "      <td>Bistrica 1</td>\n",
       "      <td>WRI1002169</td>\n",
       "      <td>27.00</td>\n",
       "      <td>39.9116</td>\n",
       "      <td>20.1047</td>\n",
       "      <td>Hydro</td>\n",
       "      <td>NaN</td>\n",
       "      <td>NaN</td>\n",
       "      <td>...</td>\n",
       "      <td>http://www.energycharter.org/fileadmin/Documen...</td>\n",
       "      <td>GEODB</td>\n",
       "      <td>1021225</td>\n",
       "      <td>NaN</td>\n",
       "      <td>NaN</td>\n",
       "      <td>NaN</td>\n",
       "      <td>NaN</td>\n",
       "      <td>NaN</td>\n",
       "      <td>NaN</td>\n",
       "      <td>89.132075</td>\n",
       "    </tr>\n",
       "    <tr>\n",
       "      <th>8</th>\n",
       "      <td>ALB</td>\n",
       "      <td>Albania</td>\n",
       "      <td>Fierza</td>\n",
       "      <td>WRI1002170</td>\n",
       "      <td>500.00</td>\n",
       "      <td>42.2514</td>\n",
       "      <td>20.0431</td>\n",
       "      <td>Hydro</td>\n",
       "      <td>NaN</td>\n",
       "      <td>NaN</td>\n",
       "      <td>...</td>\n",
       "      <td>http://www.energycharter.org/fileadmin/Documen...</td>\n",
       "      <td>GEODB</td>\n",
       "      <td>1021231</td>\n",
       "      <td>NaN</td>\n",
       "      <td>NaN</td>\n",
       "      <td>NaN</td>\n",
       "      <td>NaN</td>\n",
       "      <td>NaN</td>\n",
       "      <td>NaN</td>\n",
       "      <td>1650.593990</td>\n",
       "    </tr>\n",
       "    <tr>\n",
       "      <th>9</th>\n",
       "      <td>ALB</td>\n",
       "      <td>Albania</td>\n",
       "      <td>Koman</td>\n",
       "      <td>WRI1002171</td>\n",
       "      <td>600.00</td>\n",
       "      <td>42.1033</td>\n",
       "      <td>19.8224</td>\n",
       "      <td>Hydro</td>\n",
       "      <td>NaN</td>\n",
       "      <td>NaN</td>\n",
       "      <td>...</td>\n",
       "      <td>http://www.energycharter.org/fileadmin/Documen...</td>\n",
       "      <td>GEODB</td>\n",
       "      <td>1021233</td>\n",
       "      <td>NaN</td>\n",
       "      <td>NaN</td>\n",
       "      <td>NaN</td>\n",
       "      <td>NaN</td>\n",
       "      <td>NaN</td>\n",
       "      <td>NaN</td>\n",
       "      <td>1980.712788</td>\n",
       "    </tr>\n",
       "  </tbody>\n",
       "</table>\n",
       "<p>10 rows × 24 columns</p>\n",
       "</div>"
      ],
      "text/plain": [
       "  country country_long                                               name  \\\n",
       "0     AFG  Afghanistan       Kajaki Hydroelectric Power Plant Afghanistan   \n",
       "1     AFG  Afghanistan      Mahipar Hydroelectric Power Plant Afghanistan   \n",
       "2     AFG  Afghanistan   Naghlu Dam Hydroelectric Power Plant Afghanistan   \n",
       "3     AFG  Afghanistan  Nangarhar (Darunta) Hydroelectric Power Plant ...   \n",
       "4     AFG  Afghanistan            Northwest Kabul Power Plant Afghanistan   \n",
       "5     AFG  Afghanistan  Pul-e-Khumri Hydroelectric Power Plant Afghani...   \n",
       "6     AFG  Afghanistan   Sarobi Dam Hydroelectric Power Plant Afghanistan   \n",
       "7     ALB      Albania                                         Bistrica 1   \n",
       "8     ALB      Albania                                             Fierza   \n",
       "9     ALB      Albania                                              Koman   \n",
       "\n",
       "      gppd_idnr  capacity_mw  latitude  longitude primary_fuel other_fuel1  \\\n",
       "0  GEODB0040538        33.00   32.3220    65.1190        Hydro         NaN   \n",
       "1  GEODB0040541        66.00   34.5560    69.4787        Hydro         NaN   \n",
       "2  GEODB0040534       100.00   34.6410    69.7170        Hydro         NaN   \n",
       "3  GEODB0040536        11.55   34.4847    70.3633        Hydro         NaN   \n",
       "4  GEODB0040540        42.00   34.5638    69.1134          Gas         NaN   \n",
       "5  GEODB0040537         6.00   35.9416    68.7100        Hydro         NaN   \n",
       "6  GEODB0040535        22.00   34.5865    69.7757        Hydro         NaN   \n",
       "7    WRI1002169        27.00   39.9116    20.1047        Hydro         NaN   \n",
       "8    WRI1002170       500.00   42.2514    20.0431        Hydro         NaN   \n",
       "9    WRI1002171       600.00   42.1033    19.8224        Hydro         NaN   \n",
       "\n",
       "  other_fuel2  ...                                                url  \\\n",
       "0         NaN  ...                 http://globalenergyobservatory.org   \n",
       "1         NaN  ...                 http://globalenergyobservatory.org   \n",
       "2         NaN  ...                 http://globalenergyobservatory.org   \n",
       "3         NaN  ...                 http://globalenergyobservatory.org   \n",
       "4         NaN  ...                 http://globalenergyobservatory.org   \n",
       "5         NaN  ...                 http://globalenergyobservatory.org   \n",
       "6         NaN  ...                 http://globalenergyobservatory.org   \n",
       "7         NaN  ...  http://www.energycharter.org/fileadmin/Documen...   \n",
       "8         NaN  ...  http://www.energycharter.org/fileadmin/Documen...   \n",
       "9         NaN  ...  http://www.energycharter.org/fileadmin/Documen...   \n",
       "\n",
       "   geolocation_source  wepp_id year_of_capacity_data generation_gwh_2013  \\\n",
       "0               GEODB  1009793                2017.0                 NaN   \n",
       "1               GEODB  1009795                2017.0                 NaN   \n",
       "2               GEODB  1009797                2017.0                 NaN   \n",
       "3               GEODB  1009787                2017.0                 NaN   \n",
       "4               GEODB      NaN                2017.0                 NaN   \n",
       "5               GEODB      NaN                2017.0                 NaN   \n",
       "6               GEODB  1009799                2017.0                 NaN   \n",
       "7               GEODB  1021225                   NaN                 NaN   \n",
       "8               GEODB  1021231                   NaN                 NaN   \n",
       "9               GEODB  1021233                   NaN                 NaN   \n",
       "\n",
       "  generation_gwh_2014 generation_gwh_2015  generation_gwh_2016  \\\n",
       "0                 NaN                 NaN                  NaN   \n",
       "1                 NaN                 NaN                  NaN   \n",
       "2                 NaN                 NaN                  NaN   \n",
       "3                 NaN                 NaN                  NaN   \n",
       "4                 NaN                 NaN                  NaN   \n",
       "5                 NaN                 NaN                  NaN   \n",
       "6                 NaN                 NaN                  NaN   \n",
       "7                 NaN                 NaN                  NaN   \n",
       "8                 NaN                 NaN                  NaN   \n",
       "9                 NaN                 NaN                  NaN   \n",
       "\n",
       "   generation_gwh_2017  estimated_generation_gwh  \n",
       "0                  NaN                       NaN  \n",
       "1                  NaN                       NaN  \n",
       "2                  NaN                       NaN  \n",
       "3                  NaN                       NaN  \n",
       "4                  NaN                       NaN  \n",
       "5                  NaN                       NaN  \n",
       "6                  NaN                       NaN  \n",
       "7                  NaN                 89.132075  \n",
       "8                  NaN               1650.593990  \n",
       "9                  NaN               1980.712788  \n",
       "\n",
       "[10 rows x 24 columns]"
      ]
     },
     "execution_count": 7,
     "metadata": {},
     "output_type": "execute_result"
    }
   ],
   "source": [
    "df.head(10)"
   ]
  },
  {
   "cell_type": "code",
   "execution_count": null,
   "metadata": {},
   "outputs": [],
   "source": []
  },
  {
   "cell_type": "code",
   "execution_count": null,
   "metadata": {},
   "outputs": [],
   "source": []
  },
  {
   "cell_type": "markdown",
   "metadata": {},
   "source": [
    "### Auswertungen"
   ]
  },
  {
   "cell_type": "markdown",
   "metadata": {},
   "source": [
    "Nun versuchen wir, einige der gestellten Fragen quick&dirty zu beantworten..."
   ]
  },
  {
   "cell_type": "code",
   "execution_count": null,
   "metadata": {},
   "outputs": [],
   "source": []
  },
  {
   "cell_type": "code",
   "execution_count": null,
   "metadata": {},
   "outputs": [],
   "source": []
  },
  {
   "cell_type": "markdown",
   "metadata": {},
   "source": [
    "**Bsp: Anzahl / Kapazität der Kraftwerke nach Ländern**"
   ]
  },
  {
   "cell_type": "code",
   "execution_count": 8,
   "metadata": {},
   "outputs": [
    {
     "data": {
      "text/plain": [
       "country_long\n",
       "China                       1.363283e+06\n",
       "United States of America    1.193616e+06\n",
       "India                       2.886941e+05\n",
       "Russia                      2.275556e+05\n",
       "Japan                       2.116677e+05\n",
       "Brazil                      1.457885e+05\n",
       "Canada                      1.434552e+05\n",
       "France                      1.092853e+05\n",
       "Germany                     1.091628e+05\n",
       "South Korea                 9.940678e+04\n",
       "Name: capacity_mw, dtype: float64"
      ]
     },
     "execution_count": 8,
     "metadata": {},
     "output_type": "execute_result"
    }
   ],
   "source": [
    "df.groupby('country_long')['capacity_mw'].sum().sort_values(ascending=False).head(10)"
   ]
  },
  {
   "cell_type": "code",
   "execution_count": 9,
   "metadata": {},
   "outputs": [
    {
     "data": {
      "text/plain": [
       "<matplotlib.axes._subplots.AxesSubplot at 0x7ff56c554128>"
      ]
     },
     "execution_count": 9,
     "metadata": {},
     "output_type": "execute_result"
    },
    {
     "data": {
      "image/png": "[encoded data removed]",
      "text/plain": [
       "<Figure size 432x288 with 1 Axes>"
      ]
     },
     "metadata": {
      "needs_background": "light"
     },
     "output_type": "display_data"
    }
   ],
   "source": [
    "df.groupby('country_long')['capacity_mw'].sum().sort_values(ascending=False).head(10).plot(kind='barh')"
   ]
  },
  {
   "cell_type": "code",
   "execution_count": null,
   "metadata": {},
   "outputs": [],
   "source": []
  },
  {
   "cell_type": "markdown",
   "metadata": {},
   "source": [
    "**Bsp: Die grössten Kraftwerke der Welt**"
   ]
  },
  {
   "cell_type": "code",
   "execution_count": 21,
   "metadata": {},
   "outputs": [
    {
     "data": {
      "text/html": [
       "<div>\n",
       "<style scoped>\n",
       "    .dataframe tbody tr th:only-of-type {\n",
       "        vertical-align: middle;\n",
       "    }\n",
       "\n",
       "    .dataframe tbody tr th {\n",
       "        vertical-align: top;\n",
       "    }\n",
       "\n",
       "    .dataframe thead th {\n",
       "        text-align: right;\n",
       "    }\n",
       "</style>\n",
       "<table border=\"1\" class=\"dataframe\">\n",
       "  <thead>\n",
       "    <tr style=\"text-align: right;\">\n",
       "      <th></th>\n",
       "      <th>country_long</th>\n",
       "      <th>name</th>\n",
       "      <th>primary_fuel</th>\n",
       "      <th>capacity_mw</th>\n",
       "    </tr>\n",
       "  </thead>\n",
       "  <tbody>\n",
       "    <tr>\n",
       "      <td>7298</td>\n",
       "      <td>China</td>\n",
       "      <td>Three Gorges Dam</td>\n",
       "      <td>Hydro</td>\n",
       "      <td>22500.0</td>\n",
       "    </tr>\n",
       "    <tr>\n",
       "      <td>4888</td>\n",
       "      <td>China</td>\n",
       "      <td>Baihetan Dam</td>\n",
       "      <td>Hydro</td>\n",
       "      <td>13050.0</td>\n",
       "    </tr>\n",
       "    <tr>\n",
       "      <td>7484</td>\n",
       "      <td>China</td>\n",
       "      <td>Xiluodu</td>\n",
       "      <td>Hydro</td>\n",
       "      <td>12600.0</td>\n",
       "    </tr>\n",
       "    <tr>\n",
       "      <td>16327</td>\n",
       "      <td>Russia</td>\n",
       "      <td>Surgutskaya GRES-2</td>\n",
       "      <td>Gas</td>\n",
       "      <td>8865.0</td>\n",
       "    </tr>\n",
       "    <tr>\n",
       "      <td>29659</td>\n",
       "      <td>Venezuela</td>\n",
       "      <td>Simon Bolivar (Guri)</td>\n",
       "      <td>Hydro</td>\n",
       "      <td>8851.0</td>\n",
       "    </tr>\n",
       "    <tr>\n",
       "      <td>3147</td>\n",
       "      <td>Brazil</td>\n",
       "      <td>Tucuruí</td>\n",
       "      <td>Hydro</td>\n",
       "      <td>8535.0</td>\n",
       "    </tr>\n",
       "    <tr>\n",
       "      <td>13701</td>\n",
       "      <td>Japan</td>\n",
       "      <td>Kashiwazaki Kariwa</td>\n",
       "      <td>Nuclear</td>\n",
       "      <td>8212.0</td>\n",
       "    </tr>\n",
       "    <tr>\n",
       "      <td>2082</td>\n",
       "      <td>Brazil</td>\n",
       "      <td>Itaipu (Parte Brasileira)</td>\n",
       "      <td>Hydro</td>\n",
       "      <td>7000.0</td>\n",
       "    </tr>\n",
       "    <tr>\n",
       "      <td>15108</td>\n",
       "      <td>Paraguay</td>\n",
       "      <td>Itaipu Binacional Dam (Paraguay part)</td>\n",
       "      <td>Hydro</td>\n",
       "      <td>7000.0</td>\n",
       "    </tr>\n",
       "    <tr>\n",
       "      <td>5302</td>\n",
       "      <td>China</td>\n",
       "      <td>East Hope Metals Wucaiwan power station</td>\n",
       "      <td>Coal</td>\n",
       "      <td>7000.0</td>\n",
       "    </tr>\n",
       "  </tbody>\n",
       "</table>\n",
       "</div>"
      ],
      "text/plain": [
       "      country_long                                     name primary_fuel  \\\n",
       "7298         China                         Three Gorges Dam        Hydro   \n",
       "4888         China                             Baihetan Dam        Hydro   \n",
       "7484         China                                  Xiluodu        Hydro   \n",
       "16327       Russia                       Surgutskaya GRES-2          Gas   \n",
       "29659    Venezuela                     Simon Bolivar (Guri)        Hydro   \n",
       "3147        Brazil                                  Tucuruí        Hydro   \n",
       "13701        Japan                       Kashiwazaki Kariwa      Nuclear   \n",
       "2082        Brazil                Itaipu (Parte Brasileira)        Hydro   \n",
       "15108     Paraguay    Itaipu Binacional Dam (Paraguay part)        Hydro   \n",
       "5302         China  East Hope Metals Wucaiwan power station         Coal   \n",
       "\n",
       "       capacity_mw  \n",
       "7298       22500.0  \n",
       "4888       13050.0  \n",
       "7484       12600.0  \n",
       "16327       8865.0  \n",
       "29659       8851.0  \n",
       "3147        8535.0  \n",
       "13701       8212.0  \n",
       "2082        7000.0  \n",
       "15108       7000.0  \n",
       "5302        7000.0  "
      ]
     },
     "execution_count": 21,
     "metadata": {},
     "output_type": "execute_result"
    }
   ],
   "source": [
    "df.sort_values('capacity_mw', ascending=False).head(10)[['country_long', 'name', 'primary_fuel', 'capacity_mw']]"
   ]
  },
  {
   "cell_type": "code",
   "execution_count": null,
   "metadata": {},
   "outputs": [],
   "source": []
  },
  {
   "cell_type": "code",
   "execution_count": null,
   "metadata": {},
   "outputs": [],
   "source": []
  },
  {
   "cell_type": "markdown",
   "metadata": {},
   "source": [
    "**Bsp: Kraftwerke nach Typ in der Schweiz**"
   ]
  },
  {
   "cell_type": "code",
   "execution_count": 23,
   "metadata": {},
   "outputs": [
    {
     "data": {
      "text/plain": [
       "Hydro      162\n",
       "Nuclear      4\n",
       "Name: primary_fuel, dtype: int64"
      ]
     },
     "execution_count": 23,
     "metadata": {},
     "output_type": "execute_result"
    }
   ],
   "source": [
    "df[df['country_long'] == 'Switzerland']['primary_fuel'].value_counts()"
   ]
  },
  {
   "cell_type": "code",
   "execution_count": 25,
   "metadata": {},
   "outputs": [
    {
     "data": {
      "text/plain": [
       "primary_fuel\n",
       "Hydro      9667.8\n",
       "Nuclear    3430.0\n",
       "Name: capacity_mw, dtype: float64"
      ]
     },
     "execution_count": 25,
     "metadata": {},
     "output_type": "execute_result"
    }
   ],
   "source": [
    "df[df['country_long'] == 'Switzerland'].groupby('primary_fuel')['capacity_mw'].sum()"
   ]
  },
  {
   "cell_type": "code",
   "execution_count": null,
   "metadata": {},
   "outputs": [],
   "source": []
  },
  {
   "cell_type": "markdown",
   "metadata": {},
   "source": [
    "**Bsp: Energiemix... je nach Land**"
   ]
  },
  {
   "cell_type": "code",
   "execution_count": 33,
   "metadata": {},
   "outputs": [],
   "source": [
    "df_fuels = df.groupby(['country_long','primary_fuel'])['capacity_mw'].sum().to_frame().reset_index()"
   ]
  },
  {
   "cell_type": "code",
   "execution_count": 44,
   "metadata": {},
   "outputs": [],
   "source": [
    "df_countries = df_fuels.pivot(index='country_long', columns='primary_fuel', values='capacity_mw').fillna(0).astype(int)"
   ]
  },
  {
   "cell_type": "code",
   "execution_count": 46,
   "metadata": {},
   "outputs": [],
   "source": [
    "s_countries = df_countries.sum(axis=1)"
   ]
  },
  {
   "cell_type": "code",
   "execution_count": 53,
   "metadata": {},
   "outputs": [],
   "source": [
    "df_countries_p = df_countries.divide(s_countries, axis=0)"
   ]
  },
  {
   "cell_type": "code",
   "execution_count": 68,
   "metadata": {},
   "outputs": [],
   "source": [
    "# Bsp: Fünf Länder, die uns interessieren\n",
    "laender = ['United States of America', 'Germany', 'China', 'India', 'Switzerland']"
   ]
  },
  {
   "cell_type": "code",
   "execution_count": 69,
   "metadata": {},
   "outputs": [
    {
     "data": {
      "text/html": [
       "<div>\n",
       "<style scoped>\n",
       "    .dataframe tbody tr th:only-of-type {\n",
       "        vertical-align: middle;\n",
       "    }\n",
       "\n",
       "    .dataframe tbody tr th {\n",
       "        vertical-align: top;\n",
       "    }\n",
       "\n",
       "    .dataframe thead th {\n",
       "        text-align: right;\n",
       "    }\n",
       "</style>\n",
       "<table border=\"1\" class=\"dataframe\">\n",
       "  <thead>\n",
       "    <tr style=\"text-align: right;\">\n",
       "      <th>primary_fuel</th>\n",
       "      <th>Biomass</th>\n",
       "      <th>Coal</th>\n",
       "      <th>Cogeneration</th>\n",
       "      <th>Gas</th>\n",
       "      <th>Geothermal</th>\n",
       "      <th>Hydro</th>\n",
       "      <th>Nuclear</th>\n",
       "      <th>Oil</th>\n",
       "      <th>Other</th>\n",
       "      <th>Petcoke</th>\n",
       "      <th>Solar</th>\n",
       "      <th>Storage</th>\n",
       "      <th>Waste</th>\n",
       "      <th>Wave and Tidal</th>\n",
       "      <th>Wind</th>\n",
       "    </tr>\n",
       "    <tr>\n",
       "      <th>country_long</th>\n",
       "      <th></th>\n",
       "      <th></th>\n",
       "      <th></th>\n",
       "      <th></th>\n",
       "      <th></th>\n",
       "      <th></th>\n",
       "      <th></th>\n",
       "      <th></th>\n",
       "      <th></th>\n",
       "      <th></th>\n",
       "      <th></th>\n",
       "      <th></th>\n",
       "      <th></th>\n",
       "      <th></th>\n",
       "      <th></th>\n",
       "    </tr>\n",
       "  </thead>\n",
       "  <tbody>\n",
       "    <tr>\n",
       "      <td>China</td>\n",
       "      <td>0.000000</td>\n",
       "      <td>0.701043</td>\n",
       "      <td>0.000000</td>\n",
       "      <td>0.043846</td>\n",
       "      <td>0.000019</td>\n",
       "      <td>0.190001</td>\n",
       "      <td>0.024501</td>\n",
       "      <td>0.000975</td>\n",
       "      <td>0.000000</td>\n",
       "      <td>0.000000</td>\n",
       "      <td>0.002213</td>\n",
       "      <td>0.00000</td>\n",
       "      <td>0.000000</td>\n",
       "      <td>0.0</td>\n",
       "      <td>0.037402</td>\n",
       "    </tr>\n",
       "    <tr>\n",
       "      <td>Germany</td>\n",
       "      <td>0.015162</td>\n",
       "      <td>0.437641</td>\n",
       "      <td>0.000000</td>\n",
       "      <td>0.223804</td>\n",
       "      <td>0.000000</td>\n",
       "      <td>0.091464</td>\n",
       "      <td>0.102338</td>\n",
       "      <td>0.026118</td>\n",
       "      <td>0.006926</td>\n",
       "      <td>0.000000</td>\n",
       "      <td>0.035655</td>\n",
       "      <td>0.00000</td>\n",
       "      <td>0.014548</td>\n",
       "      <td>0.0</td>\n",
       "      <td>0.046346</td>\n",
       "    </tr>\n",
       "    <tr>\n",
       "      <td>India</td>\n",
       "      <td>0.003474</td>\n",
       "      <td>0.694525</td>\n",
       "      <td>0.000000</td>\n",
       "      <td>0.086244</td>\n",
       "      <td>0.000000</td>\n",
       "      <td>0.157438</td>\n",
       "      <td>0.030413</td>\n",
       "      <td>0.006512</td>\n",
       "      <td>0.000000</td>\n",
       "      <td>0.000000</td>\n",
       "      <td>0.008760</td>\n",
       "      <td>0.00000</td>\n",
       "      <td>0.000000</td>\n",
       "      <td>0.0</td>\n",
       "      <td>0.012633</td>\n",
       "    </tr>\n",
       "    <tr>\n",
       "      <td>Switzerland</td>\n",
       "      <td>0.000000</td>\n",
       "      <td>0.000000</td>\n",
       "      <td>0.000000</td>\n",
       "      <td>0.000000</td>\n",
       "      <td>0.000000</td>\n",
       "      <td>0.738108</td>\n",
       "      <td>0.261892</td>\n",
       "      <td>0.000000</td>\n",
       "      <td>0.000000</td>\n",
       "      <td>0.000000</td>\n",
       "      <td>0.000000</td>\n",
       "      <td>0.00000</td>\n",
       "      <td>0.000000</td>\n",
       "      <td>0.0</td>\n",
       "      <td>0.000000</td>\n",
       "    </tr>\n",
       "    <tr>\n",
       "      <td>United States of America</td>\n",
       "      <td>0.004689</td>\n",
       "      <td>0.237087</td>\n",
       "      <td>0.000834</td>\n",
       "      <td>0.440417</td>\n",
       "      <td>0.003154</td>\n",
       "      <td>0.084814</td>\n",
       "      <td>0.088930</td>\n",
       "      <td>0.031374</td>\n",
       "      <td>0.000601</td>\n",
       "      <td>0.002039</td>\n",
       "      <td>0.022930</td>\n",
       "      <td>0.00038</td>\n",
       "      <td>0.008604</td>\n",
       "      <td>0.0</td>\n",
       "      <td>0.074146</td>\n",
       "    </tr>\n",
       "  </tbody>\n",
       "</table>\n",
       "</div>"
      ],
      "text/plain": [
       "primary_fuel               Biomass      Coal  Cogeneration       Gas  \\\n",
       "country_long                                                           \n",
       "China                     0.000000  0.701043      0.000000  0.043846   \n",
       "Germany                   0.015162  0.437641      0.000000  0.223804   \n",
       "India                     0.003474  0.694525      0.000000  0.086244   \n",
       "Switzerland               0.000000  0.000000      0.000000  0.000000   \n",
       "United States of America  0.004689  0.237087      0.000834  0.440417   \n",
       "\n",
       "primary_fuel              Geothermal     Hydro   Nuclear       Oil     Other  \\\n",
       "country_long                                                                   \n",
       "China                       0.000019  0.190001  0.024501  0.000975  0.000000   \n",
       "Germany                     0.000000  0.091464  0.102338  0.026118  0.006926   \n",
       "India                       0.000000  0.157438  0.030413  0.006512  0.000000   \n",
       "Switzerland                 0.000000  0.738108  0.261892  0.000000  0.000000   \n",
       "United States of America    0.003154  0.084814  0.088930  0.031374  0.000601   \n",
       "\n",
       "primary_fuel               Petcoke     Solar  Storage     Waste  \\\n",
       "country_long                                                      \n",
       "China                     0.000000  0.002213  0.00000  0.000000   \n",
       "Germany                   0.000000  0.035655  0.00000  0.014548   \n",
       "India                     0.000000  0.008760  0.00000  0.000000   \n",
       "Switzerland               0.000000  0.000000  0.00000  0.000000   \n",
       "United States of America  0.002039  0.022930  0.00038  0.008604   \n",
       "\n",
       "primary_fuel              Wave and Tidal      Wind  \n",
       "country_long                                        \n",
       "China                                0.0  0.037402  \n",
       "Germany                              0.0  0.046346  \n",
       "India                                0.0  0.012633  \n",
       "Switzerland                          0.0  0.000000  \n",
       "United States of America             0.0  0.074146  "
      ]
     },
     "execution_count": 69,
     "metadata": {},
     "output_type": "execute_result"
    }
   ],
   "source": [
    "df_countries_p[df_countries_p.index.isin(laender)]"
   ]
  },
  {
   "cell_type": "code",
   "execution_count": 72,
   "metadata": {},
   "outputs": [
    {
     "data": {
      "text/plain": [
       "<matplotlib.axes._subplots.AxesSubplot at 0x1148ae748>"
      ]
     },
     "execution_count": 72,
     "metadata": {},
     "output_type": "execute_result"
    },
    {
     "data": {
      "image/png": "[encoded data removed]",
      "text/plain": [
       "<Figure size 864x432 with 1 Axes>"
      ]
     },
     "metadata": {
      "needs_background": "light"
     },
     "output_type": "display_data"
    }
   ],
   "source": [
    "df_countries_p[df_countries_p.index.isin(laender)].sort_values('Coal').plot(kind='barh', stacked=True, figsize=(12,6))\n"
   ]
  },
  {
   "cell_type": "code",
   "execution_count": null,
   "metadata": {},
   "outputs": [],
   "source": []
  },
  {
   "cell_type": "code",
   "execution_count": null,
   "metadata": {},
   "outputs": [],
   "source": []
  },
  {
   "cell_type": "code",
   "execution_count": null,
   "metadata": {},
   "outputs": [],
   "source": []
  },
  {
   "cell_type": "code",
   "execution_count": null,
   "metadata": {},
   "outputs": [],
   "source": []
  },
  {
   "cell_type": "code",
   "execution_count": null,
   "metadata": {},
   "outputs": [],
   "source": []
  },
  {
   "cell_type": "code",
   "execution_count": null,
   "metadata": {},
   "outputs": [],
   "source": []
  },
  {
   "cell_type": "code",
   "execution_count": null,
   "metadata": {},
   "outputs": [],
   "source": []
  }
 ],
 "metadata": {
  "kernelspec": {
   "display_name": "Python 3",
   "language": "python",
   "name": "python3"
  },
  "language_info": {
   "codemirror_mode": {
    "name": "ipython",
    "version": 3
   },
   "file_extension": ".py",
   "mimetype": "text/x-python",
   "name": "python",
   "nbconvert_exporter": "python",
   "pygments_lexer": "ipython3",
   "version": "3.7.3"
  }
 },
 "nbformat": 4,
 "nbformat_minor": 2
}
