{
 "cells": [
  {
   "cell_type": "code",
   "execution_count": 2,
   "metadata": {},
   "outputs": [],
   "source": [
    "from bs4 import BeautifulSoup\n",
    "import pandas as pd\n",
    "import time\n",
    "import os           ## auf files zugreifen\n",
    "import re\n",
    "from tqdm import tqdm"
   ]
  },
  {
   "cell_type": "code",
   "execution_count": 4,
   "metadata": {},
   "outputs": [
    {
     "data": {
      "text/plain": [
       "['page8.htm',\n",
       " 'page26.htm',\n",
       " 'page1.htm',\n",
       " 'page14.htm',\n",
       " 'page32.htm',\n",
       " 'page17.htm',\n",
       " 'page33.htm',\n",
       " 'page24.htm',\n",
       " 'page19.htm',\n",
       " 'page15.htm',\n",
       " 'page20.htm',\n",
       " 'page18.htm',\n",
       " 'page12.htm',\n",
       " 'page4.htm',\n",
       " 'page6.htm',\n",
       " 'page29.htm',\n",
       " 'page0.htm',\n",
       " 'page25.htm',\n",
       " 'page.htm',\n",
       " 'page11.htm',\n",
       " 'page5.htm',\n",
       " 'page28.htm',\n",
       " 'page13.htm',\n",
       " 'page27.htm',\n",
       " 'page22.htm',\n",
       " 'page30.htm',\n",
       " 'page2.htm',\n",
       " 'page31.htm',\n",
       " 'page23.htm',\n",
       " 'page9.htm',\n",
       " 'page7.htm',\n",
       " 'page21.htm',\n",
       " 'page3.htm',\n",
       " 'page34.htm',\n",
       " 'page10.htm',\n",
       " 'page16.htm']"
      ]
     },
     "execution_count": 4,
     "metadata": {},
     "output_type": "execute_result"
    }
   ],
   "source": [
    "os.listdir('pages')   ### Files auf gleicher ebene in ordner"
   ]
  },
  {
   "cell_type": "code",
   "execution_count": 5,
   "metadata": {},
   "outputs": [],
   "source": [
    "lst = os.listdir('pages') "
   ]
  },
  {
   "cell_type": "code",
   "execution_count": 6,
   "metadata": {
    "scrolled": true
   },
   "outputs": [
    {
     "data": {
      "text/plain": [
       "36"
      ]
     },
     "execution_count": 6,
     "metadata": {},
     "output_type": "execute_result"
    }
   ],
   "source": [
    "len(lst)"
   ]
  },
  {
   "cell_type": "code",
   "execution_count": 15,
   "metadata": {},
   "outputs": [
    {
     "data": {
      "text/plain": [
       "'page8.htm'"
      ]
     },
     "execution_count": 15,
     "metadata": {},
     "output_type": "execute_result"
    }
   ],
   "source": [
    "lst[0]"
   ]
  },
  {
   "cell_type": "code",
   "execution_count": 16,
   "metadata": {},
   "outputs": [],
   "source": [
    "file = open('pages/' + lst[0], 'r')     ### erste seite lesen"
   ]
  },
  {
   "cell_type": "code",
   "execution_count": 17,
   "metadata": {},
   "outputs": [
    {
     "data": {
      "text/plain": [
       "<_io.TextIOWrapper name='pages/page8.htm' mode='r' encoding='UTF-8'>"
      ]
     },
     "execution_count": 17,
     "metadata": {},
     "output_type": "execute_result"
    }
   ],
   "source": [
    "file"
   ]
  },
  {
   "cell_type": "code",
   "execution_count": 32,
   "metadata": {},
   "outputs": [],
   "source": [
    "file = open('pages/' + lst[0], 'r')     ### erste seite lesen\n",
    "text = file.read()\n",
    "h = BeautifulSoup(text, 'html.parser')"
   ]
  },
  {
   "cell_type": "code",
   "execution_count": 33,
   "metadata": {},
   "outputs": [
    {
     "data": {
      "text/plain": [
       "10"
      ]
     },
     "execution_count": 33,
     "metadata": {},
     "output_type": "execute_result"
    }
   ],
   "source": [
    "len(h.find_all('tr', {'class':'ng-scope'}))    ## tr aus html code und firmennamen auswählen ANZAHL "
   ]
  },
  {
   "cell_type": "code",
   "execution_count": 34,
   "metadata": {},
   "outputs": [],
   "source": [
    "zeilen = h.find_all('tr', {'class':'ng-scope'})"
   ]
  },
  {
   "cell_type": "code",
   "execution_count": 38,
   "metadata": {},
   "outputs": [],
   "source": [
    "#zeilen[0]   ### erste zeile"
   ]
  },
  {
   "cell_type": "code",
   "execution_count": 36,
   "metadata": {
    "scrolled": true
   },
   "outputs": [
    {
     "data": {
      "text/plain": [
       "'Bäckerei Kaffee Spontan GmbH'"
      ]
     },
     "execution_count": 36,
     "metadata": {},
     "output_type": "execute_result"
    }
   ],
   "source": [
    "h.find_all('tr', {'class':'ng-scope'})[0].find('div')['title']"
   ]
  },
  {
   "cell_type": "code",
   "execution_count": 46,
   "metadata": {},
   "outputs": [
    {
     "data": {
      "text/plain": [
       "'Bäckerei Kaffee Spontan GmbH'"
      ]
     },
     "execution_count": 46,
     "metadata": {},
     "output_type": "execute_result"
    }
   ],
   "source": [
    "zeilen[0].find_all('div')[0].text"
   ]
  },
  {
   "cell_type": "code",
   "execution_count": 47,
   "metadata": {},
   "outputs": [],
   "source": [
    "u_id = zeilen[0].find_all('div')[2].text"
   ]
  },
  {
   "cell_type": "code",
   "execution_count": 48,
   "metadata": {},
   "outputs": [
    {
     "data": {
      "text/plain": [
       "'CHE-234.076.108'"
      ]
     },
     "execution_count": 48,
     "metadata": {},
     "output_type": "execute_result"
    }
   ],
   "source": [
    "u_id"
   ]
  },
  {
   "cell_type": "code",
   "execution_count": 49,
   "metadata": {},
   "outputs": [],
   "source": [
    "sitz = zeilen[0].find_all('div')[4].text"
   ]
  },
  {
   "cell_type": "code",
   "execution_count": 50,
   "metadata": {},
   "outputs": [
    {
     "data": {
      "text/plain": [
       "'Mühleberg'"
      ]
     },
     "execution_count": 50,
     "metadata": {},
     "output_type": "execute_result"
    }
   ],
   "source": [
    "sitz"
   ]
  },
  {
   "cell_type": "code",
   "execution_count": 56,
   "metadata": {},
   "outputs": [
    {
     "data": {
      "text/plain": [
       "'BE - Bern'"
      ]
     },
     "execution_count": 56,
     "metadata": {},
     "output_type": "execute_result"
    }
   ],
   "source": [
    "kanton = zeilen[0].find_all('div')[5].text\n",
    "kanton"
   ]
  },
  {
   "cell_type": "code",
   "execution_count": 57,
   "metadata": {},
   "outputs": [
    {
     "ename": "SyntaxError",
     "evalue": "unexpected EOF while parsing (<ipython-input-57-b5d0b8e7b386>, line 1)",
     "output_type": "error",
     "traceback": [
      "\u001b[0;36m  File \u001b[0;32m\"<ipython-input-57-b5d0b8e7b386>\"\u001b[0;36m, line \u001b[0;32m1\u001b[0m\n\u001b[0;31m    zeilen[0].find('div').find_next('div'.find('a')['href']\u001b[0m\n\u001b[0m                                                           ^\u001b[0m\n\u001b[0;31mSyntaxError\u001b[0m\u001b[0;31m:\u001b[0m unexpected EOF while parsing\n"
     ]
    }
   ],
   "source": [
    "zeilen[0].find('div').find_next('div'.find('a')['href']\n"
   ]
  },
  {
   "cell_type": "code",
   "execution_count": 59,
   "metadata": {},
   "outputs": [],
   "source": [
    "name = zeilen[0].find_all('div')[0].text\n",
    "uid = zeilen[0].find_all('div')[2].text\n",
    "sitz = zeilen[0].find_all('div')[4].text\n",
    "kanton = zeilen[0].find_all('div')[5].text\n",
    "url = zeilen[0].find_all('div')[5].text\n",
    "\n",
    "minidict = {'Name': name,\n",
    "           'uid':uid,\n",
    "           'Sitz': sitz,\n",
    "           'Kanton': kanton}\n",
    "\n",
    "\n",
    "\n",
    "\n"
   ]
  },
  {
   "cell_type": "code",
   "execution_count": 61,
   "metadata": {},
   "outputs": [],
   "source": [
    "#pd.DataFrame(minidict)\n",
    "\n",
    "\n",
    "\n"
   ]
  },
  {
   "cell_type": "code",
   "execution_count": 62,
   "metadata": {},
   "outputs": [],
   "source": [
    "####loesung barnaby\n",
    "blist = []\n",
    "zeilen = h.find_all('tr', {'class':'ng-scope'})\n",
    "for zeile in zeilen:\n",
    "    \n",
    "    name = zeile.find(\"div\").text\n",
    "    uid = zeile.find_all('div')[2].text\n",
    "    sitz = zeile.find_all('div')[4].text\n",
    "    kanton = zeile.find_all('div')[5].text\n",
    "    url = zeile.find('div').find_next('div').find('a')['href']\n",
    "    \n",
    "    minidict = {'Name':name,\n",
    "            'uid': uid,\n",
    "            'Sitz': sitz,\n",
    "            'Kanton': kanton,\n",
    "            'url': url}\n",
    "    \n",
    "    blist.append(minidict)\n",
    "    "
   ]
  },
  {
   "cell_type": "code",
   "execution_count": 63,
   "metadata": {},
   "outputs": [
    {
     "data": {
      "text/html": [
       "<div>\n",
       "<style scoped>\n",
       "    .dataframe tbody tr th:only-of-type {\n",
       "        vertical-align: middle;\n",
       "    }\n",
       "\n",
       "    .dataframe tbody tr th {\n",
       "        vertical-align: top;\n",
       "    }\n",
       "\n",
       "    .dataframe thead th {\n",
       "        text-align: right;\n",
       "    }\n",
       "</style>\n",
       "<table border=\"1\" class=\"dataframe\">\n",
       "  <thead>\n",
       "    <tr style=\"text-align: right;\">\n",
       "      <th></th>\n",
       "      <th>Kanton</th>\n",
       "      <th>Name</th>\n",
       "      <th>Sitz</th>\n",
       "      <th>uid</th>\n",
       "      <th>url</th>\n",
       "    </tr>\n",
       "  </thead>\n",
       "  <tbody>\n",
       "    <tr>\n",
       "      <th>0</th>\n",
       "      <td>BE - Bern</td>\n",
       "      <td>Bäckerei Kaffee Spontan GmbH</td>\n",
       "      <td>Mühleberg</td>\n",
       "      <td>CHE-234.076.108</td>\n",
       "      <td>https://be.chregister.ch/cr-portal/auszug/zefi...</td>\n",
       "    </tr>\n",
       "    <tr>\n",
       "      <th>1</th>\n",
       "      <td>TG - Thurgau</td>\n",
       "      <td>Bäckerei Kafi Berlinge Nüesch</td>\n",
       "      <td>Berlingen</td>\n",
       "      <td>CHE-229.442.348</td>\n",
       "      <td>https://tg.chregister.ch/cr-portal/auszug/zefi...</td>\n",
       "    </tr>\n",
       "    <tr>\n",
       "      <th>2</th>\n",
       "      <td>AR - Appenzell A. Rh.</td>\n",
       "      <td>Bäckerei Kast AG</td>\n",
       "      <td>Reute (AR)</td>\n",
       "      <td>CHE-106.848.555</td>\n",
       "      <td>https://ar.chregister.ch/cr-portal/auszug/zefi...</td>\n",
       "    </tr>\n",
       "    <tr>\n",
       "      <th>3</th>\n",
       "      <td>SZ - Schwyz</td>\n",
       "      <td>Bäckerei Knobel GmbH</td>\n",
       "      <td>Tuggen</td>\n",
       "      <td>CHE-108.640.735</td>\n",
       "      <td>https://sz.chregister.ch/cr-portal/auszug/zefi...</td>\n",
       "    </tr>\n",
       "    <tr>\n",
       "      <th>4</th>\n",
       "      <td>AR - Appenzell A. Rh.</td>\n",
       "      <td>Bäckerei Koller GmbH</td>\n",
       "      <td>Teufen (AR)</td>\n",
       "      <td>CHE-107.068.399</td>\n",
       "      <td>https://ar.chregister.ch/cr-portal/auszug/zefi...</td>\n",
       "    </tr>\n",
       "    <tr>\n",
       "      <th>5</th>\n",
       "      <td>GR - Graubünden</td>\n",
       "      <td>Bäckerei Konditorei Adula GmbH</td>\n",
       "      <td>Tujetsch</td>\n",
       "      <td>CHE-145.311.649</td>\n",
       "      <td>https://gr.chregister.ch/cr-portal/auszug/zefi...</td>\n",
       "    </tr>\n",
       "    <tr>\n",
       "      <th>6</th>\n",
       "      <td>AG - Aargau</td>\n",
       "      <td>Bäckerei Konditorei Albert Fähndrich</td>\n",
       "      <td>Sins</td>\n",
       "      <td>CHE-107.469.657</td>\n",
       "      <td>https://ag.chregister.ch/cr-portal/auszug/zefi...</td>\n",
       "    </tr>\n",
       "    <tr>\n",
       "      <th>7</th>\n",
       "      <td>SG - St. Gallen</td>\n",
       "      <td>Bäckerei Konditorei Bachmann GmbH</td>\n",
       "      <td>Rheineck</td>\n",
       "      <td>CHE-391.154.650</td>\n",
       "      <td>https://sg.chregister.ch/cr-portal/auszug/zefi...</td>\n",
       "    </tr>\n",
       "    <tr>\n",
       "      <th>8</th>\n",
       "      <td>BE - Bern</td>\n",
       "      <td>Bäckerei Konditorei Bruderer AG</td>\n",
       "      <td>Wichtrach</td>\n",
       "      <td>CHE-265.591.932</td>\n",
       "      <td>https://be.chregister.ch/cr-portal/auszug/zefi...</td>\n",
       "    </tr>\n",
       "    <tr>\n",
       "      <th>9</th>\n",
       "      <td>ZH - Zürich</td>\n",
       "      <td>BÄCKEREI KONDITOREI CAFÉ HAUSAMMANN</td>\n",
       "      <td>Zürich</td>\n",
       "      <td>CHE-109.384.807</td>\n",
       "      <td>https://zh.chregister.ch/cr-portal/auszug/zefi...</td>\n",
       "    </tr>\n",
       "  </tbody>\n",
       "</table>\n",
       "</div>"
      ],
      "text/plain": [
       "                  Kanton                                  Name         Sitz  \\\n",
       "0              BE - Bern          Bäckerei Kaffee Spontan GmbH    Mühleberg   \n",
       "1           TG - Thurgau         Bäckerei Kafi Berlinge Nüesch    Berlingen   \n",
       "2  AR - Appenzell A. Rh.                      Bäckerei Kast AG   Reute (AR)   \n",
       "3            SZ - Schwyz                  Bäckerei Knobel GmbH       Tuggen   \n",
       "4  AR - Appenzell A. Rh.                  Bäckerei Koller GmbH  Teufen (AR)   \n",
       "5        GR - Graubünden        Bäckerei Konditorei Adula GmbH     Tujetsch   \n",
       "6            AG - Aargau  Bäckerei Konditorei Albert Fähndrich         Sins   \n",
       "7        SG - St. Gallen     Bäckerei Konditorei Bachmann GmbH     Rheineck   \n",
       "8              BE - Bern       Bäckerei Konditorei Bruderer AG    Wichtrach   \n",
       "9            ZH - Zürich   BÄCKEREI KONDITOREI CAFÉ HAUSAMMANN       Zürich   \n",
       "\n",
       "               uid                                                url  \n",
       "0  CHE-234.076.108  https://be.chregister.ch/cr-portal/auszug/zefi...  \n",
       "1  CHE-229.442.348  https://tg.chregister.ch/cr-portal/auszug/zefi...  \n",
       "2  CHE-106.848.555  https://ar.chregister.ch/cr-portal/auszug/zefi...  \n",
       "3  CHE-108.640.735  https://sz.chregister.ch/cr-portal/auszug/zefi...  \n",
       "4  CHE-107.068.399  https://ar.chregister.ch/cr-portal/auszug/zefi...  \n",
       "5  CHE-145.311.649  https://gr.chregister.ch/cr-portal/auszug/zefi...  \n",
       "6  CHE-107.469.657  https://ag.chregister.ch/cr-portal/auszug/zefi...  \n",
       "7  CHE-391.154.650  https://sg.chregister.ch/cr-portal/auszug/zefi...  \n",
       "8  CHE-265.591.932  https://be.chregister.ch/cr-portal/auszug/zefi...  \n",
       "9  CHE-109.384.807  https://zh.chregister.ch/cr-portal/auszug/zefi...  "
      ]
     },
     "execution_count": 63,
     "metadata": {},
     "output_type": "execute_result"
    }
   ],
   "source": [
    "## banaby\n",
    "pd.DataFrame(blist)"
   ]
  },
  {
   "cell_type": "code",
   "execution_count": null,
   "metadata": {},
   "outputs": [],
   "source": [
    "### funktion bauen für ALLE dokumente:\n"
   ]
  },
  {
   "cell_type": "code",
   "execution_count": 64,
   "metadata": {},
   "outputs": [],
   "source": [
    "def extractbakeries(elem):\n",
    "    \n",
    "    zeilen = h.find_all('tr', {'class':'ng-scope'})\n",
    "    blist = []    \n",
    "    for zeile in zeilen:\n",
    "    \n",
    "        name = zeile.find(\"div\").text\n",
    "        uid = zeile.find_all('div')[2].text\n",
    "        sitz = zeile.find_all('div')[4].text\n",
    "        kanton = zeile.find_all('div')[5].text\n",
    "        url = zeile.find('div').find_next('div').find('a')['href']\n",
    "    \n",
    "        minidict = {'Name':name,\n",
    "            'uid': uid,\n",
    "            'Sitz': sitz,\n",
    "            'Kanton': kanton,\n",
    "            'url': url}\n",
    "    \n",
    "        blist.append(minidict)\n",
    "    \n",
    "    \n",
    "    return blist \n",
    "    "
   ]
  },
  {
   "cell_type": "code",
   "execution_count": 65,
   "metadata": {},
   "outputs": [],
   "source": [
    "file = open('pages/' + lst[0], 'r')     \n",
    "text = file.read()\n",
    "h = BeautifulSoup(text, 'html.parser')"
   ]
  },
  {
   "cell_type": "code",
   "execution_count": 67,
   "metadata": {},
   "outputs": [
    {
     "data": {
      "text/html": [
       "<div>\n",
       "<style scoped>\n",
       "    .dataframe tbody tr th:only-of-type {\n",
       "        vertical-align: middle;\n",
       "    }\n",
       "\n",
       "    .dataframe tbody tr th {\n",
       "        vertical-align: top;\n",
       "    }\n",
       "\n",
       "    .dataframe thead th {\n",
       "        text-align: right;\n",
       "    }\n",
       "</style>\n",
       "<table border=\"1\" class=\"dataframe\">\n",
       "  <thead>\n",
       "    <tr style=\"text-align: right;\">\n",
       "      <th></th>\n",
       "      <th>Kanton</th>\n",
       "      <th>Name</th>\n",
       "      <th>Sitz</th>\n",
       "      <th>uid</th>\n",
       "      <th>url</th>\n",
       "    </tr>\n",
       "  </thead>\n",
       "  <tbody>\n",
       "    <tr>\n",
       "      <th>0</th>\n",
       "      <td>BE - Bern</td>\n",
       "      <td>Bäckerei Kaffee Spontan GmbH</td>\n",
       "      <td>Mühleberg</td>\n",
       "      <td>CHE-234.076.108</td>\n",
       "      <td>https://be.chregister.ch/cr-portal/auszug/zefi...</td>\n",
       "    </tr>\n",
       "    <tr>\n",
       "      <th>1</th>\n",
       "      <td>TG - Thurgau</td>\n",
       "      <td>Bäckerei Kafi Berlinge Nüesch</td>\n",
       "      <td>Berlingen</td>\n",
       "      <td>CHE-229.442.348</td>\n",
       "      <td>https://tg.chregister.ch/cr-portal/auszug/zefi...</td>\n",
       "    </tr>\n",
       "    <tr>\n",
       "      <th>2</th>\n",
       "      <td>AR - Appenzell A. Rh.</td>\n",
       "      <td>Bäckerei Kast AG</td>\n",
       "      <td>Reute (AR)</td>\n",
       "      <td>CHE-106.848.555</td>\n",
       "      <td>https://ar.chregister.ch/cr-portal/auszug/zefi...</td>\n",
       "    </tr>\n",
       "    <tr>\n",
       "      <th>3</th>\n",
       "      <td>SZ - Schwyz</td>\n",
       "      <td>Bäckerei Knobel GmbH</td>\n",
       "      <td>Tuggen</td>\n",
       "      <td>CHE-108.640.735</td>\n",
       "      <td>https://sz.chregister.ch/cr-portal/auszug/zefi...</td>\n",
       "    </tr>\n",
       "    <tr>\n",
       "      <th>4</th>\n",
       "      <td>AR - Appenzell A. Rh.</td>\n",
       "      <td>Bäckerei Koller GmbH</td>\n",
       "      <td>Teufen (AR)</td>\n",
       "      <td>CHE-107.068.399</td>\n",
       "      <td>https://ar.chregister.ch/cr-portal/auszug/zefi...</td>\n",
       "    </tr>\n",
       "    <tr>\n",
       "      <th>5</th>\n",
       "      <td>GR - Graubünden</td>\n",
       "      <td>Bäckerei Konditorei Adula GmbH</td>\n",
       "      <td>Tujetsch</td>\n",
       "      <td>CHE-145.311.649</td>\n",
       "      <td>https://gr.chregister.ch/cr-portal/auszug/zefi...</td>\n",
       "    </tr>\n",
       "    <tr>\n",
       "      <th>6</th>\n",
       "      <td>AG - Aargau</td>\n",
       "      <td>Bäckerei Konditorei Albert Fähndrich</td>\n",
       "      <td>Sins</td>\n",
       "      <td>CHE-107.469.657</td>\n",
       "      <td>https://ag.chregister.ch/cr-portal/auszug/zefi...</td>\n",
       "    </tr>\n",
       "    <tr>\n",
       "      <th>7</th>\n",
       "      <td>SG - St. Gallen</td>\n",
       "      <td>Bäckerei Konditorei Bachmann GmbH</td>\n",
       "      <td>Rheineck</td>\n",
       "      <td>CHE-391.154.650</td>\n",
       "      <td>https://sg.chregister.ch/cr-portal/auszug/zefi...</td>\n",
       "    </tr>\n",
       "    <tr>\n",
       "      <th>8</th>\n",
       "      <td>BE - Bern</td>\n",
       "      <td>Bäckerei Konditorei Bruderer AG</td>\n",
       "      <td>Wichtrach</td>\n",
       "      <td>CHE-265.591.932</td>\n",
       "      <td>https://be.chregister.ch/cr-portal/auszug/zefi...</td>\n",
       "    </tr>\n",
       "    <tr>\n",
       "      <th>9</th>\n",
       "      <td>ZH - Zürich</td>\n",
       "      <td>BÄCKEREI KONDITOREI CAFÉ HAUSAMMANN</td>\n",
       "      <td>Zürich</td>\n",
       "      <td>CHE-109.384.807</td>\n",
       "      <td>https://zh.chregister.ch/cr-portal/auszug/zefi...</td>\n",
       "    </tr>\n",
       "  </tbody>\n",
       "</table>\n",
       "</div>"
      ],
      "text/plain": [
       "                  Kanton                                  Name         Sitz  \\\n",
       "0              BE - Bern          Bäckerei Kaffee Spontan GmbH    Mühleberg   \n",
       "1           TG - Thurgau         Bäckerei Kafi Berlinge Nüesch    Berlingen   \n",
       "2  AR - Appenzell A. Rh.                      Bäckerei Kast AG   Reute (AR)   \n",
       "3            SZ - Schwyz                  Bäckerei Knobel GmbH       Tuggen   \n",
       "4  AR - Appenzell A. Rh.                  Bäckerei Koller GmbH  Teufen (AR)   \n",
       "5        GR - Graubünden        Bäckerei Konditorei Adula GmbH     Tujetsch   \n",
       "6            AG - Aargau  Bäckerei Konditorei Albert Fähndrich         Sins   \n",
       "7        SG - St. Gallen     Bäckerei Konditorei Bachmann GmbH     Rheineck   \n",
       "8              BE - Bern       Bäckerei Konditorei Bruderer AG    Wichtrach   \n",
       "9            ZH - Zürich   BÄCKEREI KONDITOREI CAFÉ HAUSAMMANN       Zürich   \n",
       "\n",
       "               uid                                                url  \n",
       "0  CHE-234.076.108  https://be.chregister.ch/cr-portal/auszug/zefi...  \n",
       "1  CHE-229.442.348  https://tg.chregister.ch/cr-portal/auszug/zefi...  \n",
       "2  CHE-106.848.555  https://ar.chregister.ch/cr-portal/auszug/zefi...  \n",
       "3  CHE-108.640.735  https://sz.chregister.ch/cr-portal/auszug/zefi...  \n",
       "4  CHE-107.068.399  https://ar.chregister.ch/cr-portal/auszug/zefi...  \n",
       "5  CHE-145.311.649  https://gr.chregister.ch/cr-portal/auszug/zefi...  \n",
       "6  CHE-107.469.657  https://ag.chregister.ch/cr-portal/auszug/zefi...  \n",
       "7  CHE-391.154.650  https://sg.chregister.ch/cr-portal/auszug/zefi...  \n",
       "8  CHE-265.591.932  https://be.chregister.ch/cr-portal/auszug/zefi...  \n",
       "9  CHE-109.384.807  https://zh.chregister.ch/cr-portal/auszug/zefi...  "
      ]
     },
     "execution_count": 67,
     "metadata": {},
     "output_type": "execute_result"
    }
   ],
   "source": [
    "pd.DataFrame(extractbakeries(h))"
   ]
  },
  {
   "cell_type": "code",
   "execution_count": null,
   "metadata": {},
   "outputs": [],
   "source": []
  },
  {
   "cell_type": "code",
   "execution_count": null,
   "metadata": {},
   "outputs": [],
   "source": []
  },
  {
   "cell_type": "code",
   "execution_count": null,
   "metadata": {},
   "outputs": [],
   "source": []
  },
  {
   "cell_type": "code",
   "execution_count": 39,
   "metadata": {},
   "outputs": [],
   "source": [
    "### marius' versuch\n",
    "#daten[0].find_all(\"div\")[0].text\n"
   ]
  },
  {
   "cell_type": "code",
   "execution_count": 41,
   "metadata": {},
   "outputs": [],
   "source": [
    "#### manuelas versuch\n",
    "\n",
    "#u_id = rows[0].find_all('div')[2].text"
   ]
  },
  {
   "cell_type": "code",
   "execution_count": null,
   "metadata": {},
   "outputs": [],
   "source": []
  }
 ],
 "metadata": {
  "kernelspec": {
   "display_name": "Python 3",
   "language": "python",
   "name": "python3"
  },
  "language_info": {
   "codemirror_mode": {
    "name": "ipython",
    "version": 3
   },
   "file_extension": ".py",
   "mimetype": "text/x-python",
   "name": "python",
   "nbconvert_exporter": "python",
   "pygments_lexer": "ipython3",
   "version": "3.7.3"
  }
 },
 "nbformat": 4,
 "nbformat_minor": 2
}
