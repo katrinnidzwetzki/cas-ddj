{
 "cells": [
  {
   "cell_type": "code",
   "execution_count": 50,
   "metadata": {},
   "outputs": [],
   "source": [
    "from selenium import webdriver\n",
    "from selenium.webdriver.common.keys import Keys          ## begriff an stelle\n",
    "from selenium.webdriver.common.by import By            ###\n",
    "from selenium.webdriver.support.ui import Select\n",
    "import time\n",
    "import pandas as pd\n",
    "from bs4 import BeautifulSoup\n",
    "import random"
   ]
  },
  {
   "cell_type": "code",
   "execution_count": 17,
   "metadata": {},
   "outputs": [],
   "source": [
    "#Wir starten den BRowser auf\n",
    "driver = webdriver.Chrome(executable_path=\"chromedriver\")\n",
    "\n"
   ]
  },
  {
   "cell_type": "code",
   "execution_count": 24,
   "metadata": {},
   "outputs": [],
   "source": [
    "#Und nun sagen wir dem Browser, welche Seite er besuchen sollte. \n",
    "driver.get('https://www.zefix.ch')"
   ]
  },
  {
   "cell_type": "code",
   "execution_count": 25,
   "metadata": {},
   "outputs": [],
   "source": [
    "#driver.quit()"
   ]
  },
  {
   "cell_type": "code",
   "execution_count": 26,
   "metadata": {},
   "outputs": [],
   "source": [
    "#Vielleicht möchten wir ihm noch etwas ZEit lassen, weil der BEsuch kann dauern. Genehmigen wir ihm \n",
    "#deshalb 2 Sekunden extra.\n",
    "driver.get('https://www.zefix.ch')\n",
    "time.sleep(2)"
   ]
  },
  {
   "cell_type": "code",
   "execution_count": 27,
   "metadata": {},
   "outputs": [],
   "source": [
    "#Und nun geben wir unseren Begriff ein. ZUerst suchen wir das richtige Feld. Wir benutzen dafür den Webinspector.\n",
    "#https://selenium-python.readthedocs.io/locating-elements.html\n",
    "#search = driver.find_element_by_id('firm-name-fomfield')"
   ]
  },
  {
   "cell_type": "code",
   "execution_count": 29,
   "metadata": {},
   "outputs": [
    {
     "data": {
      "text/plain": [
       "[<selenium.webdriver.remote.webelement.WebElement (session=\"ca60b964e752fe60c48781bd48a3433f\", element=\"0.5701437084498195-1\")>]"
      ]
     },
     "execution_count": 29,
     "metadata": {},
     "output_type": "execute_result"
    }
   ],
   "source": [
    "driver.find_elements_by_id('firm-name-fomfield')    ### find elements für alle"
   ]
  },
  {
   "cell_type": "code",
   "execution_count": 33,
   "metadata": {},
   "outputs": [],
   "source": [
    "search = driver.find_element_by_id('firm-name-fomfield')"
   ]
  },
  {
   "cell_type": "code",
   "execution_count": 34,
   "metadata": {},
   "outputs": [],
   "source": [
    "#Jetzt schicken wir das, was wir suchen wollen\n",
    "search.send_keys('bäckerei')"
   ]
  },
  {
   "cell_type": "code",
   "execution_count": null,
   "metadata": {},
   "outputs": [],
   "source": [
    "# search.clear um feld zu leeren, wenn nötig"
   ]
  },
  {
   "cell_type": "code",
   "execution_count": 44,
   "metadata": {},
   "outputs": [],
   "source": [
    "#Und jetzt suchen wir nach dem Button\n",
    "searchclick = driver.find_element_by_id('submit-search-btn')\n"
   ]
  },
  {
   "cell_type": "code",
   "execution_count": 45,
   "metadata": {},
   "outputs": [
    {
     "data": {
      "text/plain": [
       "<selenium.webdriver.remote.webelement.WebElement (session=\"ca60b964e752fe60c48781bd48a3433f\", element=\"0.5701437084498195-2\")>"
      ]
     },
     "execution_count": 45,
     "metadata": {},
     "output_type": "execute_result"
    }
   ],
   "source": [
    "searchclick"
   ]
  },
  {
   "cell_type": "code",
   "execution_count": 80,
   "metadata": {},
   "outputs": [],
   "source": [
    "## Clicken auf feld\n",
    "searchclick.click()"
   ]
  },
  {
   "cell_type": "code",
   "execution_count": 52,
   "metadata": {},
   "outputs": [],
   "source": [
    "#Das kann dauern, bauen wir zur Not genügend Zeit ein. \n",
    "#time.sleep(2)    zwei sekunden"
   ]
  },
  {
   "cell_type": "code",
   "execution_count": 53,
   "metadata": {},
   "outputs": [],
   "source": [
    "###  random.random()    zufallszahl"
   ]
  },
  {
   "cell_type": "code",
   "execution_count": 63,
   "metadata": {},
   "outputs": [
    {
     "data": {
      "text/plain": [
       "31"
      ]
     },
     "execution_count": 63,
     "metadata": {},
     "output_type": "execute_result"
    }
   ],
   "source": [
    "len(driver.find_elements_by_class_name('btn'))"
   ]
  },
  {
   "cell_type": "code",
   "execution_count": 82,
   "metadata": {},
   "outputs": [],
   "source": [
    "driver.find_elements_by_class_name('icon--right')[0].click()  ### nächste seite ansteuern"
   ]
  },
  {
   "cell_type": "code",
   "execution_count": 76,
   "metadata": {},
   "outputs": [],
   "source": [
    "#Save this one IN AKTUELLEN ORDNER\n",
    "page = driver.page_source.encode('utf-8')\n"
   ]
  },
  {
   "cell_type": "code",
   "execution_count": 77,
   "metadata": {},
   "outputs": [],
   "source": [
    "with open(\"page.htm\", \"wb+\") as file:\n",
    "    file.write(page)\n",
    "    file.close()"
   ]
  },
  {
   "cell_type": "code",
   "execution_count": 78,
   "metadata": {
    "scrolled": false
   },
   "outputs": [
    {
     "name": "stdout",
     "output_type": "stream",
     "text": [
      "'01 Scraping Zefix.ipynb'   chromedriver   xxx_baeckereien.ipynb\r\n",
      "'2 Htmls auslesen.ipynb'    page.htm\r\n",
      " bäckereien_list.csv\t    pages\r\n"
     ]
    }
   ],
   "source": [
    "!ls    ###  Zeigt Inhalt von Ebene an"
   ]
  },
  {
   "cell_type": "code",
   "execution_count": null,
   "metadata": {},
   "outputs": [],
   "source": [
    "for elem in range(35):\n",
    "    driver.find_elements_by_class_name('btn')[14].click()\n",
    "    time.sleep(3)\n",
    "    page = driver.page_source.encode('utf-8')\n",
    "    with open(\"page\"+str(elem)+\".htm\", \"wb+\") as file:\n",
    "        file.write(page)\n",
    "        file.close()"
   ]
  },
  {
   "cell_type": "code",
   "execution_count": null,
   "metadata": {},
   "outputs": [],
   "source": []
  },
  {
   "cell_type": "code",
   "execution_count": null,
   "metadata": {},
   "outputs": [],
   "source": []
  },
  {
   "cell_type": "markdown",
   "metadata": {},
   "source": [
    "# Code zusammensetzen"
   ]
  },
  {
   "cell_type": "code",
   "execution_count": null,
   "metadata": {},
   "outputs": [],
   "source": [
    "driver.get('https://www.zefix.ch')\n",
    "time.sleep(2)\n",
    "#### eingabefeld\n",
    "search = driver.find_element_by_id('firm-name-fomfield')\n",
    "## suchbegriff\n",
    "search.send_keys('bäckerei')\n",
    "### button definieren\n",
    "searchclick = driver.find_element_by_id('submit-search-btn')\n",
    "### button clicken, verzögert\n",
    "searchclick.click()\n",
    "time.sleep(2)\n",
    "##### nächste seite ansteuern\n",
    "driver.find_elements_by_class_name('icon--right')[0].click()  \n",
    "## seiten sichern\n",
    "page = driver.page_source.encode('utf-8')\n",
    "\n",
    "with open(\"page.htm\", \"wb+\") as file:                     ##wb+  write binary +\n",
    "    file.write(page)\n",
    "    file.close()\n"
   ]
  },
  {
   "cell_type": "code",
   "execution_count": 83,
   "metadata": {},
   "outputs": [],
   "source": [
    "##### Marius' Version\n",
    "\n",
    "driver = webdriver.Chrome(executable_path=\"chromedriver\")\n",
    "driver.get(\"https://www.zefix.ch\")\n",
    "time.sleep(2)\n",
    "search = driver.find_element_by_id('firm-name-fomfield')\n",
    "search.send_keys(\"Bäckerei\")\n",
    "searchclick = driver.find_element_by_id(\"submit-search-btn\")\n",
    "searchclick.click()\n",
    "buttons = driver.find_elements_by_class_name('icon--right')\n",
    "for nummer in range(1,36):\n",
    "    page = driver.page_source.encode('utf-8')\n",
    "    with open(\"seite\"+str(nummer)+\".htm\", \"wb+\") as file:\n",
    "        file.write(page)\n",
    "        file.close()\n",
    "    buttons[0].click()\n",
    "    time.sleep(1)\n",
    "\n",
    "\n",
    "\n",
    "\n"
   ]
  },
  {
   "cell_type": "code",
   "execution_count": null,
   "metadata": {},
   "outputs": [],
   "source": [
    "!mkdir 'test'  ### ordner kreieren"
   ]
  },
  {
   "cell_type": "code",
   "execution_count": null,
   "metadata": {},
   "outputs": [],
   "source": []
  },
  {
   "cell_type": "code",
   "execution_count": null,
   "metadata": {},
   "outputs": [],
   "source": []
  }
 ],
 "metadata": {
  "kernelspec": {
   "display_name": "Python 3",
   "language": "python",
   "name": "python3"
  },
  "language_info": {
   "codemirror_mode": {
    "name": "ipython",
    "version": 3
   },
   "file_extension": ".py",
   "mimetype": "text/x-python",
   "name": "python",
   "nbconvert_exporter": "python",
   "pygments_lexer": "ipython3",
   "version": "3.7.3"
  }
 },
 "nbformat": 4,
 "nbformat_minor": 2
}
