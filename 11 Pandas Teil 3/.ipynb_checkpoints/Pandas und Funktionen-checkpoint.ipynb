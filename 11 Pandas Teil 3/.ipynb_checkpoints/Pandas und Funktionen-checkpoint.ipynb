{
 "cells": [
  {
   "cell_type": "markdown",
   "metadata": {},
   "source": [
    "# Pandas und Funktionen"
   ]
  },
  {
   "cell_type": "markdown",
   "metadata": {},
   "source": [
    "**Inhalt:** Komplexere Zellen- und Spalten-Operationen\n",
    "\n",
    "**Nötige Skills:** Einführung in Pandas\n",
    "\n",
    "**Lernziele:**\n",
    "- Review: Mehrere Codezeilen zu Funktionen zusammenfassen\n",
    "- Review: Funktionen aus Listen heraus abrufen (list comprehension)\n",
    "- Funktionen auf bestimmte Bestandteile von Dataframes ausführen (apply)"
   ]
  },
  {
   "cell_type": "markdown",
   "metadata": {},
   "source": [
    "## Das Beispiel"
   ]
  },
  {
   "cell_type": "markdown",
   "metadata": {},
   "source": [
    "Eine kleine Datenbank der besten alltime-Singles aus der Schweizer Hitparade und den Songtexten dazu.\n",
    "\n",
    "Quellen:\n",
    "- https://hitparade.ch/charts/best/singles\n",
    "- https://www.songtexte.com/"
   ]
  },
  {
   "cell_type": "markdown",
   "metadata": {},
   "source": [
    "Das Scrape-File dazu findet sich hier: `dataprojects/Songtexte/scraper.ipynb`\n",
    "\n",
    "Das Daten-File hier: `dataprojects/Songtexte/charts_mit_texten.csv`"
   ]
  },
  {
   "cell_type": "code",
   "execution_count": null,
   "metadata": {},
   "outputs": [],
   "source": []
  },
  {
   "cell_type": "markdown",
   "metadata": {},
   "source": [
    "## Vorbereitung"
   ]
  },
  {
   "cell_type": "code",
   "execution_count": 168,
   "metadata": {},
   "outputs": [],
   "source": [
    "import pandas as pd"
   ]
  },
  {
   "cell_type": "code",
   "execution_count": 169,
   "metadata": {},
   "outputs": [],
   "source": [
    "import re"
   ]
  },
  {
   "cell_type": "code",
   "execution_count": 170,
   "metadata": {},
   "outputs": [],
   "source": [
    "%matplotlib inline"
   ]
  },
  {
   "cell_type": "code",
   "execution_count": 41,
   "metadata": {},
   "outputs": [],
   "source": [
    "# Damit stellen wir die Anzeige so ein, dass Text-Inhalte weniger schnell abgeschnitten werden\n",
    "pd.set_option('display.max_colwidth', 200)"
   ]
  },
  {
   "cell_type": "code",
   "execution_count": null,
   "metadata": {},
   "outputs": [],
   "source": []
  },
  {
   "cell_type": "markdown",
   "metadata": {},
   "source": [
    "## Eine einfache Funktion schreiben (review)"
   ]
  },
  {
   "cell_type": "markdown",
   "metadata": {},
   "source": [
    "Zum Start kreieren wir uns eine Funktion, die wir später anwenden wollen.\n",
    "\n",
    "Der Input ist ein Extrakt eines Sontexts. Zum Beispiel dieser hier:"
   ]
  },
  {
   "cell_type": "code",
   "execution_count": 42,
   "metadata": {},
   "outputs": [],
   "source": [
    "my_text = '''\n",
    "I schänke dir mis Härz\n",
    "Meh han i nid\n",
    "Du chasch es ha, we dä wosch\n",
    "Es isch es guets\n",
    "U es git no mängi, wos würd näh,\n",
    "Aber dir würdis gäh\n",
    "'''"
   ]
  },
  {
   "cell_type": "markdown",
   "metadata": {},
   "source": [
    "Der Output kann irgendwas sein. Be creative! Zum Beispiel:\n",
    "- Buchstaben austauschen\n",
    "- Wörterreihenfolge rückwärts\n",
    "- Alles in Grossbuchstaben\n",
    "- Bestimmte Wörter Zählen\n",
    "- Bestimmte Buchstaben zählen\n",
    "- ...\n",
    "\n",
    "Für Ideen, hier eine Liste von Python's String-Funktionen: https://www.w3schools.com/python/python_ref_string.asp\n",
    "\n",
    "Zur Erinnerung: Den Outpur spucken wir aus mit dem Befehl `return ...`"
   ]
  },
  {
   "cell_type": "markdown",
   "metadata": {},
   "source": [
    "**To Do:** Schreiben und beschreiben Sie eine Funktion."
   ]
  },
  {
   "cell_type": "code",
   "execution_count": 137,
   "metadata": {},
   "outputs": [],
   "source": [
    "def mach_was_mit_text(text):\n",
    "    \n",
    "    # Hier Code der Funktion...\n",
    "    \n",
    "    return"
   ]
  },
  {
   "cell_type": "code",
   "execution_count": 159,
   "metadata": {},
   "outputs": [],
   "source": [
    "def mach_was_mit_text(text):\n",
    "    return my_text.find('Härz')\n",
    "\n"
   ]
  },
  {
   "cell_type": "code",
   "execution_count": 174,
   "metadata": {},
   "outputs": [
    {
     "name": "stdout",
     "output_type": "stream",
     "text": [
      "['Härz']\n"
     ]
    }
   ],
   "source": [
    "### NEUER VERSUCH, noch nicht weiter angewendet\n",
    "\n",
    "wortimtext = re.findall('Härz', my_text, re.IGNORECASE)\n",
    "print(wortimtext)"
   ]
  },
  {
   "cell_type": "code",
   "execution_count": 172,
   "metadata": {},
   "outputs": [
    {
     "data": {
      "text/plain": [
       "<function __main__.mach_was_mit_text(text)>"
      ]
     },
     "execution_count": 172,
     "metadata": {},
     "output_type": "execute_result"
    }
   ],
   "source": [
    "mach_was_mit_text"
   ]
  },
  {
   "cell_type": "markdown",
   "metadata": {},
   "source": [
    "Zum Testen:"
   ]
  },
  {
   "cell_type": "code",
   "execution_count": 160,
   "metadata": {},
   "outputs": [
    {
     "data": {
      "text/plain": [
       "19"
      ]
     },
     "execution_count": 160,
     "metadata": {},
     "output_type": "execute_result"
    }
   ],
   "source": [
    "mach_was_mit_text(my_text)"
   ]
  },
  {
   "cell_type": "code",
   "execution_count": null,
   "metadata": {},
   "outputs": [],
   "source": []
  },
  {
   "cell_type": "markdown",
   "metadata": {},
   "source": [
    "## Funktion ausführen 1: List Comprehension (review)"
   ]
  },
  {
   "cell_type": "markdown",
   "metadata": {},
   "source": [
    "Das kennen wir bereits: Wir wollen dieselbe Funktion auf alle Elemente in einer Liste anwenden!"
   ]
  },
  {
   "cell_type": "code",
   "execution_count": 10,
   "metadata": {},
   "outputs": [],
   "source": [
    "def mach_weiblich(name):\n",
    "    return name + \"a\""
   ]
  },
  {
   "cell_type": "code",
   "execution_count": 11,
   "metadata": {},
   "outputs": [
    {
     "data": {
      "text/plain": [
       "'Michaela'"
      ]
     },
     "execution_count": 11,
     "metadata": {},
     "output_type": "execute_result"
    }
   ],
   "source": [
    "mach_weiblich('Michael')"
   ]
  },
  {
   "cell_type": "code",
   "execution_count": 12,
   "metadata": {},
   "outputs": [],
   "source": [
    "names = ['Michael', 'Paul', 'Simon']"
   ]
  },
  {
   "cell_type": "code",
   "execution_count": 13,
   "metadata": {},
   "outputs": [
    {
     "data": {
      "text/plain": [
       "['Michaela', 'Paula', 'Simona']"
      ]
     },
     "execution_count": 13,
     "metadata": {},
     "output_type": "execute_result"
    }
   ],
   "source": [
    "[mach_weiblich(name) for name in names]"
   ]
  },
  {
   "cell_type": "markdown",
   "metadata": {},
   "source": [
    "Unsere Liste besteht in diesem Fall aus drei Songtexten. Sie sind in den folgenden Dateien gespeichert:"
   ]
  },
  {
   "cell_type": "code",
   "execution_count": 65,
   "metadata": {},
   "outputs": [],
   "source": [
    "files = [\n",
    "    'Züri West - I schänke dir mis Härz.txt',\n",
    "    'Patent Ochsner - Venus vo Bümpliz.txt',\n",
    "    'DJ Bobo - Chihuahua.txt'\n",
    "]"
   ]
  },
  {
   "cell_type": "markdown",
   "metadata": {},
   "source": [
    "Eine einzelne Textdatei einzulesen, geht so:"
   ]
  },
  {
   "cell_type": "code",
   "execution_count": 66,
   "metadata": {},
   "outputs": [
    {
     "data": {
      "text/plain": [
       "'I schänke dir mis Härz\\nMeh han i nid\\nDu chasch es ha, we dä wosch\\nEs isch es guets\\nU es git no mängi, wos würd näh,\\nAber dir würdis gäh\\nD szene isch ä chlini Bar\\nIrgenwo i dere Stadt\\nUnd i bsteue ä Whisky\\nHocke irgendwo ab\\nWos ke Platz u luege so chli ume\\nWär so umänang hocket\\nAber kenne tuä-ni niemer hie inne\\nÜberall hocke Lüt\\nhinger de Schampus-Chüble\\nGeng ä Frou u ne Typ\\nU nippe amne Flûte u hange angenang a\\nu rede öppis über nüt\\nU nume ig bi allei hie\\nu da wächslet ds\\'Liecht\\nHie u da verschwinde wider zwöi irgendwo\\nU irgendeinisch geit hinde\\nÄ dunkublaue Vorhang uuf\\nHinger em Vorhang hets ä Bühni\\nUf dr Bühni steit ä Frou\\nWo i dä Ungerhose irgendsone Show zeigt\\nI luege so chli zue\\nU i hocke so chli da\\nU gspüre plötzlech\\nDass i irgendsone Hang ufem Chnöi ha\\nU dräie mi um\\nU näbe mir hocket eini\\nWoni nie voher ha gseh\\nU fragt, ob ig alleini sig\\nU sie sig ou allei\\nI söu nid überlege\\nI gfaui re no so\\nu si wöu eifach chli rede\\nViellech sött i hie no säge\\nSie gseht schön us\\nSie isch ä schöni mit schöne, länge Haar\\nU klar bin i närvös worde\\nKlar han i drunke\\nU mit jedem Schlunk het sie mi no chli schöner afa dünke\\nU nach jedem Glas Champagner\\nHet sie gäng no eis wöue\\nI ha zaut u zaut\\nBis i eifach nüm ha chönne\\nU ha gseit:\"Hey,\\nWei mer nid zu mir oder so?\"\\nU sie het gseit:\\n\"I chönnt di so verwöhne.\\nSo ire haub Stung chönnti cho -\\nu jitz säg mer eifach numeno wiviu\\nSäg wiviu,\\nWiviu gisch mer, wenn i chume?\"\\nI schänke dir mis Härz meh han i nid\\nDu chasch es ha, we de wosch\\nes isch es guets und es git\\nno mängi, wos würd näh\\nAber dir würd is gä\\n'"
      ]
     },
     "execution_count": 66,
     "metadata": {},
     "output_type": "execute_result"
    }
   ],
   "source": [
    "open('dataprojects/Songtexte/Züri West - I schänke dir mis Härz.txt', \"r\").read()"
   ]
  },
  {
   "cell_type": "markdown",
   "metadata": {},
   "source": [
    "Um die ganze Liste einzulesen, verwenden wir list comprehension!"
   ]
  },
  {
   "cell_type": "code",
   "execution_count": 67,
   "metadata": {},
   "outputs": [],
   "source": [
    "texts = [open('dataprojects/Songtexte/' + file, \"r\").read() for file in files]"
   ]
  },
  {
   "cell_type": "code",
   "execution_count": 82,
   "metadata": {},
   "outputs": [
    {
     "data": {
      "text/plain": [
       "['I schänke dir mis Härz\\nMeh han i nid\\nDu chasch es ha, we dä wosch\\nEs isch es guets\\nU es git no mängi, wos würd näh,\\nAber dir würdis gäh\\nD szene isch ä chlini Bar\\nIrgenwo i dere Stadt\\nUnd i bsteue ä Whisky\\nHocke irgendwo ab\\nWos ke Platz u luege so chli ume\\nWär so umänang hocket\\nAber kenne tuä-ni niemer hie inne\\nÜberall hocke Lüt\\nhinger de Schampus-Chüble\\nGeng ä Frou u ne Typ\\nU nippe amne Flûte u hange angenang a\\nu rede öppis über nüt\\nU nume ig bi allei hie\\nu da wächslet ds\\'Liecht\\nHie u da verschwinde wider zwöi irgendwo\\nU irgendeinisch geit hinde\\nÄ dunkublaue Vorhang uuf\\nHinger em Vorhang hets ä Bühni\\nUf dr Bühni steit ä Frou\\nWo i dä Ungerhose irgendsone Show zeigt\\nI luege so chli zue\\nU i hocke so chli da\\nU gspüre plötzlech\\nDass i irgendsone Hang ufem Chnöi ha\\nU dräie mi um\\nU näbe mir hocket eini\\nWoni nie voher ha gseh\\nU fragt, ob ig alleini sig\\nU sie sig ou allei\\nI söu nid überlege\\nI gfaui re no so\\nu si wöu eifach chli rede\\nViellech sött i hie no säge\\nSie gseht schön us\\nSie isch ä schöni mit schöne, länge Haar\\nU klar bin i närvös worde\\nKlar han i drunke\\nU mit jedem Schlunk het sie mi no chli schöner afa dünke\\nU nach jedem Glas Champagner\\nHet sie gäng no eis wöue\\nI ha zaut u zaut\\nBis i eifach nüm ha chönne\\nU ha gseit:\"Hey,\\nWei mer nid zu mir oder so?\"\\nU sie het gseit:\\n\"I chönnt di so verwöhne.\\nSo ire haub Stung chönnti cho -\\nu jitz säg mer eifach numeno wiviu\\nSäg wiviu,\\nWiviu gisch mer, wenn i chume?\"\\nI schänke dir mis Härz meh han i nid\\nDu chasch es ha, we de wosch\\nes isch es guets und es git\\nno mängi, wos würd näh\\nAber dir würd is gä\\n',\n",
       " \"D'w. Nuss vo Bümpliz geit dür d'Strass\\nliecht u flüchtig, wie nes ¨Gas\\nso unerreichbar höch\\n\\nBockstössigi Himbeerbuebe\\nschüüch u brav wie Schaf\\nschön föhnfrisiert\\nchöme tubetänzig nöch\\n\\nU d'Spargle wachse i bluetjung Morge\\nd'Sunne chunnt 's wird langsam warm\\n\\nSie het meh als hundert ching\\nu jede Früehlig git 's es nöis\\nhet d'Chiuchefänschterouge off\\nu macht se zue bi jedem Kuss\\nu we sie lachet wärde Bärge zu schtoub\\nu jedes zäihe Läderhärz wird weich\\n\\nD'w. Nuss vo Bümpliz\\nisch schön win es Füür i dr Nacht\\nwin e Rose im Schnee\\nwe se gseh duss in Bümpliz\\nde schlat mir mis Härz hert i Hals\\nu i gseh win i ungergah\\n\\nSi wohnt im ne Huus us Glas\\nhinger Türe ohni Schloss\\ngseht dür jedi Muur\\ndänkt wi nes Füürwärch\\nwin e Zuckerstock\\nläbt win e Wasserfau\\nfür si git's nüt, wo's nid git\\nu aus wo's git, git's nid für ging\\nsi nimmt's wi's chunnt u lat's la gah\\n\\nD'w. Nuss vo Bümpliz\\nisch schön win es Füür i dr Nacht\\nwin e Rose im Schnee\\nwe se gseh duss in Bümpliz\\nde schlat mir mis Härz hert i Hals\\nu i gseh win i ungergah\\n\",\n",
       " \"Chihuahua! x4\\n\\nOh, chihuahua!\\n\\nI'm walking in the street\\nAnd the moon shines bright\\nA little melody keeps feeling on my mind tonight\\nI gotcha!\\nIt's the song about Chihuahua\\nYeah, that's cool alright\\n\\nIt was fun\\nAnd a life without sorrow\\nFeels young\\nAnd when you think about tomorrow\\nSay YO!\\nWhen you're about to freak out\\nJust go and then shout it out loud\\n\\nChihuahua here\\nChihuahua there\\nEverybody wants it everywhere\\nSing it loud\\nAnd life can be so easy\\n\\nWhat can make you move, Chihuahua\\nCan you feel the groove Chihuahua\\nWhat can make you dance\\nOh Chihuahua!\\nWhat can make you sing Chihuahua\\nTake it and you win Chihuahua\\nWhat can bring you joy\\nOh Chihuahua!\\n\\nI'm driving in my car\\nLooking for a parking space\\nThere it is my place someone else wins the race\\nNO, I give up\\nToday is not my day\\nBut then I take a deep breathe and say:\\n\\nCalm down\\nWhen you're about to go crazy\\nTurn around\\nAnd feel as fresh as a daisy\\nJust run\\nBecause it's time to go\\nHave fun and let the whole world know\\n\\nChihuahua here\\nChihuahua there\\nEverybody wants it everywhere\\nSing it loud\\nAnd life can be so easy Chihuahua\\n\\nWhat can make you move Chihuahua\\nCan you feel the groove Chihuahua\\nWhat can make you dance\\nOh Chihuahua!\\nWhat can make you sing Chihuahua\\nTake it and you win Chihuahua\\nWhat can bring you joy\\nOh Chihuahua!\\n\\nChihuahua (8x)\\nOh Chihuahua!\\n\\nWhat can make you move Chihuahua\\nCan you feel the groove Chihuahua\\nWhat can make you dance\\nOh Chihuahua!\\nWhat can make you shout Chihuahua\\nWhat it's all about Chihuahua\\nWhat can bring you love\\nOh Chihuahua!\\n\"]"
      ]
     },
     "execution_count": 82,
     "metadata": {},
     "output_type": "execute_result"
    }
   ],
   "source": [
    "texts[0:]"
   ]
  },
  {
   "cell_type": "markdown",
   "metadata": {},
   "source": [
    "Mit list comprehension können wir nun unsere Funktion auf alle Texte ausführen:"
   ]
  },
  {
   "cell_type": "code",
   "execution_count": 115,
   "metadata": {},
   "outputs": [
    {
     "data": {
      "text/plain": [
       "[1, 1, 1]"
      ]
     },
     "execution_count": 115,
     "metadata": {},
     "output_type": "execute_result"
    }
   ],
   "source": [
    "[mach_was_mit_text(text) for text in texts[0:]]"
   ]
  },
  {
   "cell_type": "code",
   "execution_count": null,
   "metadata": {},
   "outputs": [],
   "source": []
  },
  {
   "cell_type": "code",
   "execution_count": null,
   "metadata": {},
   "outputs": [],
   "source": []
  },
  {
   "cell_type": "markdown",
   "metadata": {},
   "source": [
    "## Funktion ausführen 2: Apply"
   ]
  },
  {
   "cell_type": "markdown",
   "metadata": {},
   "source": [
    "Apply ist ein ähnliches Prinzip wie List Comprehension - aber in Pandas.\n",
    "\n",
    "Wir wollen unsere Funktion nun auf Texte anwenden, die in der Hitparaden-Datenbank drin sind."
   ]
  },
  {
   "cell_type": "code",
   "execution_count": 84,
   "metadata": {},
   "outputs": [],
   "source": [
    "df = pd.read_csv('dataprojects/Songtexte/charts_mit_texten.csv')"
   ]
  },
  {
   "cell_type": "code",
   "execution_count": 85,
   "metadata": {},
   "outputs": [
    {
     "data": {
      "text/plain": [
       "(100, 9)"
      ]
     },
     "execution_count": 85,
     "metadata": {},
     "output_type": "execute_result"
    }
   ],
   "source": [
    "df.shape"
   ]
  },
  {
   "cell_type": "code",
   "execution_count": 86,
   "metadata": {},
   "outputs": [
    {
     "data": {
      "text/html": [
       "<div>\n",
       "<style scoped>\n",
       "    .dataframe tbody tr th:only-of-type {\n",
       "        vertical-align: middle;\n",
       "    }\n",
       "\n",
       "    .dataframe tbody tr th {\n",
       "        vertical-align: top;\n",
       "    }\n",
       "\n",
       "    .dataframe thead th {\n",
       "        text-align: right;\n",
       "    }\n",
       "</style>\n",
       "<table border=\"1\" class=\"dataframe\">\n",
       "  <thead>\n",
       "    <tr style=\"text-align: right;\">\n",
       "      <th></th>\n",
       "      <th>Rang</th>\n",
       "      <th>Artist</th>\n",
       "      <th>Titel</th>\n",
       "      <th>Eintritt</th>\n",
       "      <th>Wochen</th>\n",
       "      <th>Peak</th>\n",
       "      <th>Punkte</th>\n",
       "      <th>Link</th>\n",
       "      <th>Songtext</th>\n",
       "    </tr>\n",
       "  </thead>\n",
       "  <tbody>\n",
       "    <tr>\n",
       "      <th>0</th>\n",
       "      <td>1</td>\n",
       "      <td>DJ Ötzi &amp; Nik P.</td>\n",
       "      <td>Ein Stern (... der deinen Namen trägt)</td>\n",
       "      <td>18.02.2007</td>\n",
       "      <td>118</td>\n",
       "      <td>2</td>\n",
       "      <td>8109</td>\n",
       "      <td>/song/DJ-Oetzi-&amp;-Nik-P./Ein-Stern-(...-der-deinen-Namen-traegt)-283118</td>\n",
       "      <td>Einen Stern, der deinen Namen trägt\\nHoch am Himmelszelt\\nDen schenk ich Dir heut' Nacht\\nEinen Stern, der deinen Namen trägt\\nAlle Zeiten überlebt\\nUnd über unsere Liebe wacht\\n\\nSeit Jahren scho...</td>\n",
       "    </tr>\n",
       "    <tr>\n",
       "      <th>1</th>\n",
       "      <td>2</td>\n",
       "      <td>Ed Sheeran</td>\n",
       "      <td>Shape Of You</td>\n",
       "      <td>15.01.2017</td>\n",
       "      <td>93</td>\n",
       "      <td>1</td>\n",
       "      <td>7196</td>\n",
       "      <td>/song/Ed-Sheeran/Shape-Of-You-1622943</td>\n",
       "      <td>The club isn't the best place to find a lover\\nSo the bar is where I go\\nMe and my friends at the table doing shots\\nDrinking fast and then we talk slow\\n\\nCome over and start up a conversation wi...</td>\n",
       "    </tr>\n",
       "    <tr>\n",
       "      <th>2</th>\n",
       "      <td>3</td>\n",
       "      <td>Luis Fonsi feat. Daddy Yankee</td>\n",
       "      <td>Despacito</td>\n",
       "      <td>22.01.2017</td>\n",
       "      <td>90</td>\n",
       "      <td>1</td>\n",
       "      <td>6854</td>\n",
       "      <td>/song/Luis-Fonsi-feat.-Daddy-Yankee/Despacito-1625640</td>\n",
       "      <td>Ay\\nFonsi, DY\\nOh, oh no, oh no (ey)\\nHey, yeah, diri-diri-diriridi, Daddy, go!\\n\\nSí, sabes que ya llevo un rato mirándote\\nTengo que bailar contigo hoy (DY)\\nVi que tu mirada ya estaba llamándom...</td>\n",
       "    </tr>\n",
       "    <tr>\n",
       "      <th>3</th>\n",
       "      <td>4</td>\n",
       "      <td>DJ Antoine feat. The Beat Shakers</td>\n",
       "      <td>\"Ma chérie\"</td>\n",
       "      <td>06.06.2010</td>\n",
       "      <td>99</td>\n",
       "      <td>2</td>\n",
       "      <td>6745</td>\n",
       "      <td>/song/DJ-Antoine-feat.-The-Beat-Shakers/Ma-cherie-711060</td>\n",
       "      <td>When I look into your eyes\\nI see rainbows in the skies.\\nBaby when you're close to me\\nI know you are ma cherie.\\n\\nWe are gonna dance into the sea\\nAll I want is you - you're ma cherie\\nNever se...</td>\n",
       "    </tr>\n",
       "    <tr>\n",
       "      <th>4</th>\n",
       "      <td>5</td>\n",
       "      <td>Adele</td>\n",
       "      <td>Rolling In The Deep</td>\n",
       "      <td>30.01.2011</td>\n",
       "      <td>93</td>\n",
       "      <td>1</td>\n",
       "      <td>6588</td>\n",
       "      <td>/song/Adele/Rolling-In-The-Deep-767937</td>\n",
       "      <td>There's a fire starting in my heart\\nReaching a fever pitch and it's bring me out the dark\\nFinally, I can see you crystal clear\\nGo ahead and sell me out and I'll lay your ship bare\\n\\nSee how I'...</td>\n",
       "    </tr>\n",
       "  </tbody>\n",
       "</table>\n",
       "</div>"
      ],
      "text/plain": [
       "   Rang                             Artist  \\\n",
       "0     1                   DJ Ötzi & Nik P.   \n",
       "1     2                         Ed Sheeran   \n",
       "2     3      Luis Fonsi feat. Daddy Yankee   \n",
       "3     4  DJ Antoine feat. The Beat Shakers   \n",
       "4     5                              Adele   \n",
       "\n",
       "                                    Titel    Eintritt  Wochen  Peak  Punkte  \\\n",
       "0  Ein Stern (... der deinen Namen trägt)  18.02.2007     118     2    8109   \n",
       "1                            Shape Of You  15.01.2017      93     1    7196   \n",
       "2                               Despacito  22.01.2017      90     1    6854   \n",
       "3                             \"Ma chérie\"  06.06.2010      99     2    6745   \n",
       "4                     Rolling In The Deep  30.01.2011      93     1    6588   \n",
       "\n",
       "                                                                     Link  \\\n",
       "0  /song/DJ-Oetzi-&-Nik-P./Ein-Stern-(...-der-deinen-Namen-traegt)-283118   \n",
       "1                                   /song/Ed-Sheeran/Shape-Of-You-1622943   \n",
       "2                   /song/Luis-Fonsi-feat.-Daddy-Yankee/Despacito-1625640   \n",
       "3                /song/DJ-Antoine-feat.-The-Beat-Shakers/Ma-cherie-711060   \n",
       "4                                  /song/Adele/Rolling-In-The-Deep-767937   \n",
       "\n",
       "                                                                                                                                                                                                  Songtext  \n",
       "0  Einen Stern, der deinen Namen trägt\\nHoch am Himmelszelt\\nDen schenk ich Dir heut' Nacht\\nEinen Stern, der deinen Namen trägt\\nAlle Zeiten überlebt\\nUnd über unsere Liebe wacht\\n\\nSeit Jahren scho...  \n",
       "1  The club isn't the best place to find a lover\\nSo the bar is where I go\\nMe and my friends at the table doing shots\\nDrinking fast and then we talk slow\\n\\nCome over and start up a conversation wi...  \n",
       "2  Ay\\nFonsi, DY\\nOh, oh no, oh no (ey)\\nHey, yeah, diri-diri-diriridi, Daddy, go!\\n\\nSí, sabes que ya llevo un rato mirándote\\nTengo que bailar contigo hoy (DY)\\nVi que tu mirada ya estaba llamándom...  \n",
       "3  When I look into your eyes\\nI see rainbows in the skies.\\nBaby when you're close to me\\nI know you are ma cherie.\\n\\nWe are gonna dance into the sea\\nAll I want is you - you're ma cherie\\nNever se...  \n",
       "4  There's a fire starting in my heart\\nReaching a fever pitch and it's bring me out the dark\\nFinally, I can see you crystal clear\\nGo ahead and sell me out and I'll lay your ship bare\\n\\nSee how I'...  "
      ]
     },
     "execution_count": 86,
     "metadata": {},
     "output_type": "execute_result"
    }
   ],
   "source": [
    "df.head()"
   ]
  },
  {
   "cell_type": "markdown",
   "metadata": {},
   "source": [
    "### Apply mit einzelnen Einträgen"
   ]
  },
  {
   "cell_type": "markdown",
   "metadata": {},
   "source": [
    "Und das geht so:"
   ]
  },
  {
   "cell_type": "code",
   "execution_count": 116,
   "metadata": {},
   "outputs": [
    {
     "data": {
      "text/plain": [
       "0     1\n",
       "1     1\n",
       "2     1\n",
       "3     1\n",
       "4     1\n",
       "5     1\n",
       "6     1\n",
       "7     1\n",
       "8     1\n",
       "9     1\n",
       "10    1\n",
       "11    1\n",
       "12    1\n",
       "13    1\n",
       "14    1\n",
       "15    1\n",
       "16    1\n",
       "17    1\n",
       "18    1\n",
       "19    1\n",
       "20    1\n",
       "21    1\n",
       "22    1\n",
       "23    1\n",
       "24    1\n",
       "25    1\n",
       "26    1\n",
       "27    1\n",
       "28    1\n",
       "29    1\n",
       "     ..\n",
       "70    1\n",
       "71    1\n",
       "72    1\n",
       "73    1\n",
       "74    1\n",
       "75    1\n",
       "76    1\n",
       "77    1\n",
       "78    1\n",
       "79    1\n",
       "80    1\n",
       "81    1\n",
       "82    1\n",
       "83    1\n",
       "84    1\n",
       "85    1\n",
       "86    1\n",
       "87    1\n",
       "88    1\n",
       "89    1\n",
       "90    1\n",
       "91    1\n",
       "92    1\n",
       "93    1\n",
       "94    1\n",
       "95    1\n",
       "96    1\n",
       "97    1\n",
       "98    1\n",
       "99    1\n",
       "Name: Songtext, Length: 100, dtype: int64"
      ]
     },
     "execution_count": 116,
     "metadata": {},
     "output_type": "execute_result"
    }
   ],
   "source": [
    "#Testen Sie hier Ihre Text-Funktion\n",
    "df['Songtext'].astype(str).apply(mach_was_mit_text)"
   ]
  },
  {
   "cell_type": "markdown",
   "metadata": {},
   "source": [
    "Das Resultat können wir auch als separate Spalte speichern:"
   ]
  },
  {
   "cell_type": "code",
   "execution_count": 119,
   "metadata": {},
   "outputs": [],
   "source": [
    "df['Textanalyse'] = df['Songtext'].astype(str).apply(mach_was_mit_text)"
   ]
  },
  {
   "cell_type": "code",
   "execution_count": 121,
   "metadata": {},
   "outputs": [],
   "source": [
    "df.head()"
   ]
  },
  {
   "cell_type": "code",
   "execution_count": 122,
   "metadata": {},
   "outputs": [
    {
     "data": {
      "text/plain": [
       "0    1\n",
       "1    1\n",
       "2    1\n",
       "3    1\n",
       "4    1\n",
       "Name: Textanalyse, dtype: int64"
      ]
     },
     "execution_count": 122,
     "metadata": {},
     "output_type": "execute_result"
    }
   ],
   "source": [
    "df['Textanalyse'].head()"
   ]
  },
  {
   "cell_type": "code",
   "execution_count": null,
   "metadata": {},
   "outputs": [],
   "source": []
  },
  {
   "cell_type": "code",
   "execution_count": null,
   "metadata": {},
   "outputs": [],
   "source": []
  },
  {
   "cell_type": "markdown",
   "metadata": {},
   "source": [
    "### Apply mit ganzen Zeilen"
   ]
  },
  {
   "cell_type": "markdown",
   "metadata": {},
   "source": [
    "Bis jetzt haben wir `apply()` benutzt, um eine Funktion auf eine einzelne Spalte anzuwenden.\n",
    "\n",
    "Wir können mit `apply()` aber auch den Inhalt von mehreren Spalten bearbeiten.\n",
    "\n",
    "Dazu müssen wir eine Funktion schreiben, die etwas mit einem Dictionary macht."
   ]
  },
  {
   "cell_type": "markdown",
   "metadata": {},
   "source": [
    "Zum Beispiel mit diesem hier - er ist nach unserem Songtexte-Dataframe nachgebildet:"
   ]
  },
  {
   "cell_type": "code",
   "execution_count": 125,
   "metadata": {},
   "outputs": [],
   "source": [
    "my_dictionary = {\n",
    "    'Rang': 20,\n",
    "    'Artist': 'Baschi',\n",
    "    'Titel': 'Bring en hei',\n",
    "    'Eintritt': '28.05.2006',\n",
    "    'Wochen': 100,\n",
    "    'Peak': 1,\n",
    "    'Punkte': 5356,\n",
    "    'Link': '/song/Baschi/Bring-en-hei-193080'\n",
    "}"
   ]
  },
  {
   "cell_type": "markdown",
   "metadata": {},
   "source": [
    "Unsere Funktion formatiert die Infos in diesem Dictionary nach einem bestimmten Muster"
   ]
  },
  {
   "cell_type": "code",
   "execution_count": 126,
   "metadata": {},
   "outputs": [],
   "source": [
    "def mach_was_mit_dictionary(dic):\n",
    "    \n",
    "    str_out = \"Die Single '\" + dic['Titel'] + \"' von \" + dic['Artist']\n",
    "    str_out += \" ist am \" + dic['Eintritt'] + \" in die Charts eingestiegen. \"\n",
    "    str_out += \"Sie blieb dort \" + str(dic['Wochen']) + \" Wochen und schaffte es auf Platz \" + str(dic['Peak']) + \".\"\n",
    "      \n",
    "    return str_out"
   ]
  },
  {
   "cell_type": "markdown",
   "metadata": {},
   "source": [
    "Das sieht testweise dann so aus:"
   ]
  },
  {
   "cell_type": "code",
   "execution_count": 127,
   "metadata": {
    "scrolled": true
   },
   "outputs": [
    {
     "data": {
      "text/plain": [
       "\"Die Single 'Bring en hei' von Baschi ist am 28.05.2006 in die Charts eingestiegen. Sie blieb dort 100 Wochen und schaffte es auf Platz 1.\""
      ]
     },
     "execution_count": 127,
     "metadata": {},
     "output_type": "execute_result"
    }
   ],
   "source": [
    "mach_was_mit_dictionary(my_dictionary)"
   ]
  },
  {
   "cell_type": "markdown",
   "metadata": {},
   "source": [
    "Um die Funktion auf die Zeilen im Dataframe anzuwenden, brauchen wir wiederum `apply()`.\n",
    "\n",
    "Wichtig ist der Parameter `axis=1` (Dataframe zeilenweise abarbeiten, nicht spaltenweise)."
   ]
  },
  {
   "cell_type": "markdown",
   "metadata": {},
   "source": [
    "=> Die Sache klappt, weil die Keys im Test-Dictionary denselben Namen haben wie die Spalten in unserem Dataframe"
   ]
  },
  {
   "cell_type": "code",
   "execution_count": 128,
   "metadata": {},
   "outputs": [
    {
     "data": {
      "text/plain": [
       "0                     Die Single 'Ein Stern (... der deinen Namen trägt)' von DJ Ötzi & Nik P. ist am 18.02.2007 in die Charts eingestiegen. Sie blieb dort 118 Wochen und schaffte es auf Platz 2.\n",
       "1                                                      Die Single 'Shape Of You' von Ed Sheeran ist am 15.01.2017 in die Charts eingestiegen. Sie blieb dort 93 Wochen und schaffte es auf Platz 1.\n",
       "2                                      Die Single 'Despacito' von Luis Fonsi feat. Daddy Yankee ist am 22.01.2017 in die Charts eingestiegen. Sie blieb dort 90 Wochen und schaffte es auf Platz 1.\n",
       "3                                Die Single '\"Ma chérie\"' von DJ Antoine feat. The Beat Shakers ist am 06.06.2010 in die Charts eingestiegen. Sie blieb dort 99 Wochen und schaffte es auf Platz 2.\n",
       "4                                                    Die Single 'Rolling In The Deep' von Adele ist am 30.01.2011 in die Charts eingestiegen. Sie blieb dort 93 Wochen und schaffte es auf Platz 1.\n",
       "5                                                        Die Single 'All Of Me' von John Legend ist am 02.02.2014 in die Charts eingestiegen. Sie blieb dort 97 Wochen und schaffte es auf Platz 1.\n",
       "6                                               Die Single 'This Is The Life' von Amy Macdonald ist am 23.03.2008 in die Charts eingestiegen. Sie blieb dort 94 Wochen und schaffte es auf Platz 2.\n",
       "7                                          Die Single 'I Gotta Feeling' von The Black Eyed Peas ist am 19.07.2009 in die Charts eingestiegen. Sie blieb dort 87 Wochen und schaffte es auf Platz 1.\n",
       "8                 Die Single 'Waka Waka (This Time For Africa)' von Shakira feat. Freshlyground ist am 23.05.2010 in die Charts eingestiegen. Sie blieb dort 86 Wochen und schaffte es auf Platz 1.\n",
       "9                                              Die Single 'Infinity 2008' von Guru Josh Project ist am 28.09.2008 in die Charts eingestiegen. Sie blieb dort 85 Wochen und schaffte es auf Platz 2.\n",
       "10                                                   Die Single 'Sonnentanz' von Klangkarussell ist am 26.08.2012 in die Charts eingestiegen. Sie blieb dort 87 Wochen und schaffte es auf Platz 3.\n",
       "11                                      Die Single 'Atemlos durch die Nacht' von Helene Fischer ist am 20.10.2013 in die Charts eingestiegen. Sie blieb dort 80 Wochen und schaffte es auf Platz 2.\n",
       "12                                                          Die Single 'Heavy Cross' von Gossip ist am 21.06.2009 in die Charts eingestiegen. Sie blieb dort 80 Wochen und schaffte es auf Platz 2.\n",
       "13                                                     Die Single 'Happy' von Pharrell Williams ist am 08.12.2013 in die Charts eingestiegen. Sie blieb dort 80 Wochen und schaffte es auf Platz 1.\n",
       "14                                                      Die Single 'Someone Like You' von Adele ist am 05.06.2011 in die Charts eingestiegen. Sie blieb dort 95 Wochen und schaffte es auf Platz 1.\n",
       "15                                                        Die Single 'Poker Face' von Lady Gaga ist am 11.01.2009 in die Charts eingestiegen. Sie blieb dort 72 Wochen und schaffte es auf Platz 1.\n",
       "16                                    Die Single 'Apologize' von Timbaland Presents OneRepublic ist am 04.11.2007 in die Charts eingestiegen. Sie blieb dort 89 Wochen und schaffte es auf Platz 1.\n",
       "17                                                           Die Single 'Faded' von Alan Walker ist am 17.01.2016 in die Charts eingestiegen. Sie blieb dort 86 Wochen und schaffte es auf Platz 1.\n",
       "18                                                        Die Single 'Let Her Go' von Passenger ist am 03.03.2013 in die Charts eingestiegen. Sie blieb dort 88 Wochen und schaffte es auf Platz 1.\n",
       "19                                                        Die Single 'Bring en hei' von Baschi ist am 28.05.2006 in die Charts eingestiegen. Sie blieb dort 100 Wochen und schaffte es auf Platz 1.\n",
       "20                                          Die Single 'Sexy Bitch' von David Guetta feat. Akon ist am 09.08.2009 in die Charts eingestiegen. Sie blieb dort 77 Wochen und schaffte es auf Platz 2.\n",
       "21                                                        Die Single 'Rehab' von Amy Winehouse ist am 18.03.2007 in die Charts eingestiegen. Sie blieb dort 88 Wochen und schaffte es auf Platz 11.\n",
       "22                                     Die Single 'Lean On' von Major Lazer & DJ Snake feat. MØ ist am 29.03.2015 in die Charts eingestiegen. Sie blieb dort 65 Wochen und schaffte es auf Platz 1.\n",
       "23    Die Single 'Prayer In C (Robin Schulz Remix)' von Lilly Wood & The Prick and Robin Schulz ist am 15.06.2014 in die Charts eingestiegen. Sie blieb dort 68 Wochen und schaffte es auf Platz 1.\n",
       "24                                                          Die Single 'Perfect' von Ed Sheeran ist am 12.03.2017 in die Charts eingestiegen. Sie blieb dort 57 Wochen und schaffte es auf Platz 1.\n",
       "25                                                Die Single 'You're Beautiful' von James Blunt ist am 21.08.2005 in die Charts eingestiegen. Sie blieb dort 97 Wochen und schaffte es auf Platz 2.\n",
       "26                                                   Die Single 'Relax (Take It Easy)' von Mika ist am 04.03.2007 in die Charts eingestiegen. Sie blieb dort 75 Wochen und schaffte es auf Platz 2.\n",
       "27                                              Die Single 'Up In The Sky' von 77 Bombay Street ist am 24.04.2011 in die Charts eingestiegen. Sie blieb dort 82 Wochen und schaffte es auf Platz 7.\n",
       "28                                                          Die Single 'Wake Me Up!' von Avicii ist am 30.06.2013 in die Charts eingestiegen. Sie blieb dort 68 Wochen und schaffte es auf Platz 1.\n",
       "29                                                    Die Single 'Take Me To Church' von Hozier ist am 28.09.2014 in die Charts eingestiegen. Sie blieb dort 68 Wochen und schaffte es auf Platz 1.\n",
       "                                                                                                  ...                                                                                              \n",
       "70                                                    Die Single 'Believer' von Imagine Dragons ist am 12.02.2017 in die Charts eingestiegen. Sie blieb dort 67 Wochen und schaffte es auf Platz 6.\n",
       "71                                                   Die Single 'Stolen Dance' von Milky Chance ist am 27.10.2013 in die Charts eingestiegen. Sie blieb dort 60 Wochen und schaffte es auf Platz 1.\n",
       "72                                                   Die Single 'Chasing Cars' von Snow Patrol ist am 26.11.2006 in die Charts eingestiegen. Sie blieb dort 106 Wochen und schaffte es auf Platz 4.\n",
       "73                                                  Die Single 'Set Fire To The Rain' von Adele ist am 13.02.2011 in die Charts eingestiegen. Sie blieb dort 57 Wochen und schaffte es auf Platz 4.\n",
       "74                                            Die Single 'Are You With Me' von Lost Frequencies ist am 08.02.2015 in die Charts eingestiegen. Sie blieb dort 56 Wochen und schaffte es auf Platz 1.\n",
       "75                                              Die Single 'Somebody Dance With Me' von DJ BoBo ist am 10.01.1993 in die Charts eingestiegen. Sie blieb dort 48 Wochen und schaffte es auf Platz 1.\n",
       "76                                                    Die Single 'I Follow Rivers' von Lykke Li ist am 01.04.2012 in die Charts eingestiegen. Sie blieb dort 61 Wochen und schaffte es auf Platz 2.\n",
       "77                                                             Die Single 'Run' von Leona Lewis ist am 14.12.2008 in die Charts eingestiegen. Sie blieb dort 72 Wochen und schaffte es auf Platz 2.\n",
       "78                   Die Single 'Welcome To St. Tropez' von DJ Antoine vs. Timati feat. Kalenna ist am 17.04.2011 in die Charts eingestiegen. Sie blieb dort 53 Wochen und schaffte es auf Platz 2.\n",
       "79                               Die Single 'Love Is Gone' von David Guetta feat. Chris Willis ist am 13.05.2007 in die Charts eingestiegen. Sie blieb dort 75 Wochen und schaffte es auf Platz 11.\n",
       "80                                 Die Single 'Get Lucky' von Daft Punk feat. Pharrell Williams ist am 05.05.2013 in die Charts eingestiegen. Sie blieb dort 56 Wochen und schaffte es auf Platz 1.\n",
       "81                                      Die Single 'Stole The Show' von Kygo feat. Parson James ist am 05.04.2015 in die Charts eingestiegen. Sie blieb dort 56 Wochen und schaffte es auf Platz 3.\n",
       "82                                                Die Single 'Mr Rock & Roll' von Amy Macdonald ist am 17.02.2008 in die Charts eingestiegen. Sie blieb dort 65 Wochen und schaffte es auf Platz 3.\n",
       "83                                    Die Single 'Sugar' von Robin Schulz feat. Francesco Yates ist am 26.07.2015 in die Charts eingestiegen. Sie blieb dort 51 Wochen und schaffte es auf Platz 1.\n",
       "84                                             Die Single 'My Heart Will Go On' von Céline Dion ist am 18.01.1998 in die Charts eingestiegen. Sie blieb dort 49 Wochen und schaffte es auf Platz 1.\n",
       "85                                                     Die Single 'Thunder' von Imagine Dragons ist am 07.05.2017 in die Charts eingestiegen. Sie blieb dort 54 Wochen und schaffte es auf Platz 2.\n",
       "86                     Die Single 'Party Rock Anthem' von LMFAO feat. Lauren Bennett & GoonRock ist am 17.04.2011 in die Charts eingestiegen. Sie blieb dort 54 Wochen und schaffte es auf Platz 1.\n",
       "87                                                        Die Single 'Rise Up' von Yves Larock ist am 07.10.2007 in die Charts eingestiegen. Sie blieb dort 88 Wochen und schaffte es auf Platz 16.\n",
       "88                                                          Die Single 'Sofia' von Alvaro Soler ist am 24.04.2016 in die Charts eingestiegen. Sie blieb dort 71 Wochen und schaffte es auf Platz 1.\n",
       "89                             Die Single 'Somebody That I Used To Know' von Gotye feat. Kimbra ist am 25.12.2011 in die Charts eingestiegen. Sie blieb dort 58 Wochen und schaffte es auf Platz 2.\n",
       "90                                      Die Single 'Havana' von Camila Cabello feat. Young Thug ist am 20.08.2017 in die Charts eingestiegen. Sie blieb dort 58 Wochen und schaffte es auf Platz 2.\n",
       "91                                              Die Single 'Tage wie diese' von Die Toten Hosen ist am 08.04.2012 in die Charts eingestiegen. Sie blieb dort 62 Wochen und schaffte es auf Platz 4.\n",
       "92                              Die Single 'All Good Things (Come To An End)' von Nelly Furtado ist am 10.12.2006 in die Charts eingestiegen. Sie blieb dort 62 Wochen und schaffte es auf Platz 1.\n",
       "93                                         Die Single 'One Dance' von Drake feat. Wizkid & Kyla ist am 10.04.2016 in die Charts eingestiegen. Sie blieb dort 51 Wochen und schaffte es auf Platz 1.\n",
       "94                                                       Die Single 'Hot N Cold' von Katy Perry ist am 09.11.2008 in die Charts eingestiegen. Sie blieb dort 62 Wochen und schaffte es auf Platz 1.\n",
       "95                                                      Die Single 'Maneater' von Nelly Furtado ist am 11.06.2006 in die Charts eingestiegen. Sie blieb dort 63 Wochen und schaffte es auf Platz 3.\n",
       "96                                   Die Single 'On The Floor' von Jennifer Lopez feat. Pitbull ist am 13.03.2011 in die Charts eingestiegen. Sie blieb dort 51 Wochen und schaffte es auf Platz 1.\n",
       "97                                    Die Single 'Hips Don't Lie' von Shakira feat. Wyclef Jean ist am 30.04.2006 in die Charts eingestiegen. Sie blieb dort 65 Wochen und schaffte es auf Platz 1.\n",
       "98                                   Die Single 'Can't Stop The Feeling!' von Justin Timberlake ist am 15.05.2016 in die Charts eingestiegen. Sie blieb dort 62 Wochen und schaffte es auf Platz 1.\n",
       "99                                            Die Single 'Right Round' von Flo Rida feat. Ke$ha ist am 15.03.2009 in die Charts eingestiegen. Sie blieb dort 59 Wochen und schaffte es auf Platz 2.\n",
       "Length: 100, dtype: object"
      ]
     },
     "execution_count": 128,
     "metadata": {},
     "output_type": "execute_result"
    }
   ],
   "source": [
    "df.apply(mach_was_mit_dictionary, axis=1)"
   ]
  },
  {
   "cell_type": "code",
   "execution_count": null,
   "metadata": {},
   "outputs": [],
   "source": []
  },
  {
   "cell_type": "code",
   "execution_count": null,
   "metadata": {},
   "outputs": [],
   "source": []
  },
  {
   "cell_type": "markdown",
   "metadata": {},
   "source": [
    "## Übung"
   ]
  },
  {
   "cell_type": "markdown",
   "metadata": {},
   "source": [
    "Das gute an `apply()` ist: man kann beliebig komplizierte Prozeduren implementieren, um eine neue Spalte zu generieren.\n",
    "\n",
    "Wir können uns zum Beispiel eine eigene Hitparaden-Metrik überlegen anhand der Infos, die in unserem Dataframe drin sind.\n",
    "\n",
    "Die aktuelle (uns unbekannte) Metrik ist in der Spalte \"Punkte\" angegeben. Sie bestimmt den Rang in der Allzeit-Liste."
   ]
  },
  {
   "cell_type": "code",
   "execution_count": 129,
   "metadata": {},
   "outputs": [
    {
     "data": {
      "text/html": [
       "<div>\n",
       "<style scoped>\n",
       "    .dataframe tbody tr th:only-of-type {\n",
       "        vertical-align: middle;\n",
       "    }\n",
       "\n",
       "    .dataframe tbody tr th {\n",
       "        vertical-align: top;\n",
       "    }\n",
       "\n",
       "    .dataframe thead th {\n",
       "        text-align: right;\n",
       "    }\n",
       "</style>\n",
       "<table border=\"1\" class=\"dataframe\">\n",
       "  <thead>\n",
       "    <tr style=\"text-align: right;\">\n",
       "      <th></th>\n",
       "      <th>Rang</th>\n",
       "      <th>Artist</th>\n",
       "      <th>Titel</th>\n",
       "      <th>Eintritt</th>\n",
       "      <th>Wochen</th>\n",
       "      <th>Peak</th>\n",
       "      <th>Punkte</th>\n",
       "      <th>Link</th>\n",
       "      <th>Songtext</th>\n",
       "      <th>Textanalyse</th>\n",
       "    </tr>\n",
       "  </thead>\n",
       "  <tbody>\n",
       "    <tr>\n",
       "      <th>0</th>\n",
       "      <td>1</td>\n",
       "      <td>DJ Ötzi &amp; Nik P.</td>\n",
       "      <td>Ein Stern (... der deinen Namen trägt)</td>\n",
       "      <td>18.02.2007</td>\n",
       "      <td>118</td>\n",
       "      <td>2</td>\n",
       "      <td>8109</td>\n",
       "      <td>/song/DJ-Oetzi-&amp;-Nik-P./Ein-Stern-(...-der-deinen-Namen-traegt)-283118</td>\n",
       "      <td>Einen Stern, der deinen Namen trägt\\nHoch am Himmelszelt\\nDen schenk ich Dir heut' Nacht\\nEinen Stern, der deinen Namen trägt\\nAlle Zeiten überlebt\\nUnd über unsere Liebe wacht\\n\\nSeit Jahren scho...</td>\n",
       "      <td>1</td>\n",
       "    </tr>\n",
       "    <tr>\n",
       "      <th>1</th>\n",
       "      <td>2</td>\n",
       "      <td>Ed Sheeran</td>\n",
       "      <td>Shape Of You</td>\n",
       "      <td>15.01.2017</td>\n",
       "      <td>93</td>\n",
       "      <td>1</td>\n",
       "      <td>7196</td>\n",
       "      <td>/song/Ed-Sheeran/Shape-Of-You-1622943</td>\n",
       "      <td>The club isn't the best place to find a lover\\nSo the bar is where I go\\nMe and my friends at the table doing shots\\nDrinking fast and then we talk slow\\n\\nCome over and start up a conversation wi...</td>\n",
       "      <td>1</td>\n",
       "    </tr>\n",
       "    <tr>\n",
       "      <th>2</th>\n",
       "      <td>3</td>\n",
       "      <td>Luis Fonsi feat. Daddy Yankee</td>\n",
       "      <td>Despacito</td>\n",
       "      <td>22.01.2017</td>\n",
       "      <td>90</td>\n",
       "      <td>1</td>\n",
       "      <td>6854</td>\n",
       "      <td>/song/Luis-Fonsi-feat.-Daddy-Yankee/Despacito-1625640</td>\n",
       "      <td>Ay\\nFonsi, DY\\nOh, oh no, oh no (ey)\\nHey, yeah, diri-diri-diriridi, Daddy, go!\\n\\nSí, sabes que ya llevo un rato mirándote\\nTengo que bailar contigo hoy (DY)\\nVi que tu mirada ya estaba llamándom...</td>\n",
       "      <td>1</td>\n",
       "    </tr>\n",
       "    <tr>\n",
       "      <th>3</th>\n",
       "      <td>4</td>\n",
       "      <td>DJ Antoine feat. The Beat Shakers</td>\n",
       "      <td>\"Ma chérie\"</td>\n",
       "      <td>06.06.2010</td>\n",
       "      <td>99</td>\n",
       "      <td>2</td>\n",
       "      <td>6745</td>\n",
       "      <td>/song/DJ-Antoine-feat.-The-Beat-Shakers/Ma-cherie-711060</td>\n",
       "      <td>When I look into your eyes\\nI see rainbows in the skies.\\nBaby when you're close to me\\nI know you are ma cherie.\\n\\nWe are gonna dance into the sea\\nAll I want is you - you're ma cherie\\nNever se...</td>\n",
       "      <td>1</td>\n",
       "    </tr>\n",
       "    <tr>\n",
       "      <th>4</th>\n",
       "      <td>5</td>\n",
       "      <td>Adele</td>\n",
       "      <td>Rolling In The Deep</td>\n",
       "      <td>30.01.2011</td>\n",
       "      <td>93</td>\n",
       "      <td>1</td>\n",
       "      <td>6588</td>\n",
       "      <td>/song/Adele/Rolling-In-The-Deep-767937</td>\n",
       "      <td>There's a fire starting in my heart\\nReaching a fever pitch and it's bring me out the dark\\nFinally, I can see you crystal clear\\nGo ahead and sell me out and I'll lay your ship bare\\n\\nSee how I'...</td>\n",
       "      <td>1</td>\n",
       "    </tr>\n",
       "    <tr>\n",
       "      <th>5</th>\n",
       "      <td>6</td>\n",
       "      <td>John Legend</td>\n",
       "      <td>All Of Me</td>\n",
       "      <td>02.02.2014</td>\n",
       "      <td>97</td>\n",
       "      <td>1</td>\n",
       "      <td>6547</td>\n",
       "      <td>/song/John-Legend/All-Of-Me-1183051</td>\n",
       "      <td>What would I do without your smart mouth?\\nDrawing me in, and you kicking me out\\nYou've got my head spinning, no kidding, I can't pin you down\\nWhat's going on in that beautiful mind\\nI'm on your...</td>\n",
       "      <td>1</td>\n",
       "    </tr>\n",
       "    <tr>\n",
       "      <th>6</th>\n",
       "      <td>7</td>\n",
       "      <td>Amy Macdonald</td>\n",
       "      <td>This Is The Life</td>\n",
       "      <td>23.03.2008</td>\n",
       "      <td>94</td>\n",
       "      <td>2</td>\n",
       "      <td>6125</td>\n",
       "      <td>/song/Amy-Macdonald/This-Is-The-Life-349688</td>\n",
       "      <td>Oh the wind whistles down\\nThe cold dark street tonight\\nAnd the people they were dancing to the music vibe\\nAnd the boys chase the girls with the curls in their hair\\n\\nWhile the shy tormented yo...</td>\n",
       "      <td>1</td>\n",
       "    </tr>\n",
       "    <tr>\n",
       "      <th>7</th>\n",
       "      <td>8</td>\n",
       "      <td>The Black Eyed Peas</td>\n",
       "      <td>I Gotta Feeling</td>\n",
       "      <td>19.07.2009</td>\n",
       "      <td>87</td>\n",
       "      <td>1</td>\n",
       "      <td>6085</td>\n",
       "      <td>/song/The-Black-Eyed-Peas/I-Gotta-Feeling-584715</td>\n",
       "      <td>I gotta feeling\\nThat tonight's gonna be a good night\\nThat tonight's gonna be a good night\\nThat tonight's gonna be a good, good night\\n\\nA feeling\\nThat tonight's gonna be a good night\\nThat ton...</td>\n",
       "      <td>1</td>\n",
       "    </tr>\n",
       "    <tr>\n",
       "      <th>8</th>\n",
       "      <td>9</td>\n",
       "      <td>Shakira feat. Freshlyground</td>\n",
       "      <td>Waka Waka (This Time For Africa)</td>\n",
       "      <td>23.05.2010</td>\n",
       "      <td>86</td>\n",
       "      <td>1</td>\n",
       "      <td>6004</td>\n",
       "      <td>/song/Shakira-feat.-Freshlyground/Waka-Waka-(This-Time-For-Africa)-700659</td>\n",
       "      <td>You're a good soldier\\nChoosing your battles\\nPick yourself up\\nDust yourself off\\nAnd get back in the saddle\\n\\nYou're on the front line\\nEveryone's watching\\nYou know it's serious\\nWe are gettin...</td>\n",
       "      <td>1</td>\n",
       "    </tr>\n",
       "    <tr>\n",
       "      <th>9</th>\n",
       "      <td>10</td>\n",
       "      <td>Guru Josh Project</td>\n",
       "      <td>Infinity 2008</td>\n",
       "      <td>28.09.2008</td>\n",
       "      <td>85</td>\n",
       "      <td>2</td>\n",
       "      <td>6001</td>\n",
       "      <td>/song/Guru-Josh-Project/Infinity-2008-484499</td>\n",
       "      <td>Here's my key\\nPhilosophy\\nA freak like me\\nJust needs infinity\\n\\nRelax\\nTake your time\\n\\nAnd take your time\\nTo trust in me\\nAnd you will find\\nInfinity, infinity\\n\\nAnd take your time\\nTo trus...</td>\n",
       "      <td>1</td>\n",
       "    </tr>\n",
       "  </tbody>\n",
       "</table>\n",
       "</div>"
      ],
      "text/plain": [
       "   Rang                             Artist  \\\n",
       "0     1                   DJ Ötzi & Nik P.   \n",
       "1     2                         Ed Sheeran   \n",
       "2     3      Luis Fonsi feat. Daddy Yankee   \n",
       "3     4  DJ Antoine feat. The Beat Shakers   \n",
       "4     5                              Adele   \n",
       "5     6                        John Legend   \n",
       "6     7                      Amy Macdonald   \n",
       "7     8                The Black Eyed Peas   \n",
       "8     9        Shakira feat. Freshlyground   \n",
       "9    10                  Guru Josh Project   \n",
       "\n",
       "                                    Titel    Eintritt  Wochen  Peak  Punkte  \\\n",
       "0  Ein Stern (... der deinen Namen trägt)  18.02.2007     118     2    8109   \n",
       "1                            Shape Of You  15.01.2017      93     1    7196   \n",
       "2                               Despacito  22.01.2017      90     1    6854   \n",
       "3                             \"Ma chérie\"  06.06.2010      99     2    6745   \n",
       "4                     Rolling In The Deep  30.01.2011      93     1    6588   \n",
       "5                               All Of Me  02.02.2014      97     1    6547   \n",
       "6                        This Is The Life  23.03.2008      94     2    6125   \n",
       "7                         I Gotta Feeling  19.07.2009      87     1    6085   \n",
       "8        Waka Waka (This Time For Africa)  23.05.2010      86     1    6004   \n",
       "9                           Infinity 2008  28.09.2008      85     2    6001   \n",
       "\n",
       "                                                                        Link  \\\n",
       "0     /song/DJ-Oetzi-&-Nik-P./Ein-Stern-(...-der-deinen-Namen-traegt)-283118   \n",
       "1                                      /song/Ed-Sheeran/Shape-Of-You-1622943   \n",
       "2                      /song/Luis-Fonsi-feat.-Daddy-Yankee/Despacito-1625640   \n",
       "3                   /song/DJ-Antoine-feat.-The-Beat-Shakers/Ma-cherie-711060   \n",
       "4                                     /song/Adele/Rolling-In-The-Deep-767937   \n",
       "5                                        /song/John-Legend/All-Of-Me-1183051   \n",
       "6                                /song/Amy-Macdonald/This-Is-The-Life-349688   \n",
       "7                           /song/The-Black-Eyed-Peas/I-Gotta-Feeling-584715   \n",
       "8  /song/Shakira-feat.-Freshlyground/Waka-Waka-(This-Time-For-Africa)-700659   \n",
       "9                               /song/Guru-Josh-Project/Infinity-2008-484499   \n",
       "\n",
       "                                                                                                                                                                                                  Songtext  \\\n",
       "0  Einen Stern, der deinen Namen trägt\\nHoch am Himmelszelt\\nDen schenk ich Dir heut' Nacht\\nEinen Stern, der deinen Namen trägt\\nAlle Zeiten überlebt\\nUnd über unsere Liebe wacht\\n\\nSeit Jahren scho...   \n",
       "1  The club isn't the best place to find a lover\\nSo the bar is where I go\\nMe and my friends at the table doing shots\\nDrinking fast and then we talk slow\\n\\nCome over and start up a conversation wi...   \n",
       "2  Ay\\nFonsi, DY\\nOh, oh no, oh no (ey)\\nHey, yeah, diri-diri-diriridi, Daddy, go!\\n\\nSí, sabes que ya llevo un rato mirándote\\nTengo que bailar contigo hoy (DY)\\nVi que tu mirada ya estaba llamándom...   \n",
       "3  When I look into your eyes\\nI see rainbows in the skies.\\nBaby when you're close to me\\nI know you are ma cherie.\\n\\nWe are gonna dance into the sea\\nAll I want is you - you're ma cherie\\nNever se...   \n",
       "4  There's a fire starting in my heart\\nReaching a fever pitch and it's bring me out the dark\\nFinally, I can see you crystal clear\\nGo ahead and sell me out and I'll lay your ship bare\\n\\nSee how I'...   \n",
       "5  What would I do without your smart mouth?\\nDrawing me in, and you kicking me out\\nYou've got my head spinning, no kidding, I can't pin you down\\nWhat's going on in that beautiful mind\\nI'm on your...   \n",
       "6  Oh the wind whistles down\\nThe cold dark street tonight\\nAnd the people they were dancing to the music vibe\\nAnd the boys chase the girls with the curls in their hair\\n\\nWhile the shy tormented yo...   \n",
       "7  I gotta feeling\\nThat tonight's gonna be a good night\\nThat tonight's gonna be a good night\\nThat tonight's gonna be a good, good night\\n\\nA feeling\\nThat tonight's gonna be a good night\\nThat ton...   \n",
       "8  You're a good soldier\\nChoosing your battles\\nPick yourself up\\nDust yourself off\\nAnd get back in the saddle\\n\\nYou're on the front line\\nEveryone's watching\\nYou know it's serious\\nWe are gettin...   \n",
       "9  Here's my key\\nPhilosophy\\nA freak like me\\nJust needs infinity\\n\\nRelax\\nTake your time\\n\\nAnd take your time\\nTo trust in me\\nAnd you will find\\nInfinity, infinity\\n\\nAnd take your time\\nTo trus...   \n",
       "\n",
       "   Textanalyse  \n",
       "0            1  \n",
       "1            1  \n",
       "2            1  \n",
       "3            1  \n",
       "4            1  \n",
       "5            1  \n",
       "6            1  \n",
       "7            1  \n",
       "8            1  \n",
       "9            1  "
      ]
     },
     "execution_count": 129,
     "metadata": {},
     "output_type": "execute_result"
    }
   ],
   "source": [
    "df.head(10)"
   ]
  },
  {
   "cell_type": "markdown",
   "metadata": {},
   "source": [
    "Wie wäre es, wenn wir anhand der restlichen Infos unsere eigene Metrik entwickeln würden?"
   ]
  },
  {
   "cell_type": "markdown",
   "metadata": {},
   "source": [
    "Was wir dazu tun müssen:\n",
    "1. eine Funktion definieren, welche die Metrik anhand der einzelnen Spalten berechnet\n",
    "1. die Funktion auf das Dataframe anwenden"
   ]
  },
  {
   "cell_type": "code",
   "execution_count": null,
   "metadata": {},
   "outputs": [],
   "source": [
    "# Schreiben Sie hier Ihre Funktion...\n",
    "def meine_metrik(dic):\n",
    "    \n",
    "    ...\n",
    "    \n",
    "    return score"
   ]
  },
  {
   "cell_type": "code",
   "execution_count": null,
   "metadata": {},
   "outputs": [],
   "source": [
    "# ... und wenden Sie sie hier an:\n"
   ]
  },
  {
   "cell_type": "markdown",
   "metadata": {},
   "source": [
    "Wie sieht das Ergebnis aus? Welches sind die Alltime Top 10?\n",
    "\n",
    "Sortieren Sie dazu das Dataframe nach der neuen Metrik und zeigen Sie die obersten zehn Spalten an:"
   ]
  },
  {
   "cell_type": "code",
   "execution_count": null,
   "metadata": {},
   "outputs": [],
   "source": []
  },
  {
   "cell_type": "code",
   "execution_count": null,
   "metadata": {},
   "outputs": [],
   "source": []
  },
  {
   "cell_type": "code",
   "execution_count": null,
   "metadata": {},
   "outputs": [],
   "source": []
  }
 ],
 "metadata": {
  "kernelspec": {
   "display_name": "Python 3",
   "language": "python",
   "name": "python3"
  },
  "language_info": {
   "codemirror_mode": {
    "name": "ipython",
    "version": 3
   },
   "file_extension": ".py",
   "mimetype": "text/x-python",
   "name": "python",
   "nbconvert_exporter": "python",
   "pygments_lexer": "ipython3",
   "version": "3.7.3"
  }
 },
 "nbformat": 4,
 "nbformat_minor": 2
}
