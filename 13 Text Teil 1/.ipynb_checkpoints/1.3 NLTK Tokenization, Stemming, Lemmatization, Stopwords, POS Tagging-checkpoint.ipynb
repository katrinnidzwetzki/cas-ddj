{
 "cells": [
  {
   "cell_type": "markdown",
   "metadata": {},
   "source": [
    "## Agenda"
   ]
  },
  {
   "cell_type": "markdown",
   "metadata": {},
   "source": [
    "- Tokenization\n",
    "- Stemming\n",
    "- Lemmatization\n",
    "    - Pattern\n",
    "    - TextBlob\n",
    "- POS Tagging\n",
    "    - Pattern\n",
    "    - TextBlob\n",
    "- Stop Word removal"
   ]
  },
  {
   "cell_type": "markdown",
   "metadata": {},
   "source": [
    "## Tokenizer\n",
    "- Wie splittet man einfach einen Satz in Wörter auf?\n",
    "- https://www.admin.ch/opc/de/classified-compilation/19995395/index.html#a8"
   ]
  },
  {
   "cell_type": "code",
   "execution_count": 1,
   "metadata": {},
   "outputs": [],
   "source": [
    "import nltk\n",
    "from nltk.tokenize import word_tokenize"
   ]
  },
  {
   "cell_type": "code",
   "execution_count": 2,
   "metadata": {},
   "outputs": [],
   "source": [
    "verfassung = '''\n",
    "Im Namen Gottes des Allmächtigen!\n",
    "\n",
    "Das Schweizervolk und die Kantone,\n",
    "\n",
    "in der Verantwortung gegenüber der Schöpfung,\n",
    "\n",
    "im Bestreben, den Bund zu erneuern, um Freiheit und Demokratie, Unabhängigkeit und Frieden in Solidarität und Offenheit gegenüber der Welt zu stärken,\n",
    "\n",
    "im Willen, in gegenseitiger Rücksichtnahme und Achtung ihre Vielfalt in der Einheit zu leben,\n",
    "\n",
    "im Bewusstsein der gemeinsamen Errungenschaften und der Verantwortung gegenüber den künftigen Generationen,\n",
    "\n",
    "gewiss, dass frei nur ist, wer seine Freiheit gebraucht, und dass die Stärke des Volkes sich misst am Wohl der Schwachen,\n",
    "\n",
    "geben sich folgende Verfassung:\n",
    "'''"
   ]
  },
  {
   "cell_type": "code",
   "execution_count": 3,
   "metadata": {},
   "outputs": [
    {
     "data": {
      "text/plain": [
       "'\\nIm Namen Gottes des Allmächtigen!\\n\\nDas Schweizervolk und die Kantone,\\n\\nin der Verantwortung gegenüber der Schöpfung,\\n\\nim Bestreben, den Bund zu erneuern, um Freiheit und Demokratie, Unabhängigkeit und Frieden in Solidarität und Offenheit gegenüber der Welt zu stärken,\\n\\nim Willen, in gegenseitiger Rücksichtnahme und Achtung ihre Vielfalt in der Einheit zu leben,\\n\\nim Bewusstsein der gemeinsamen Errungenschaften und der Verantwortung gegenüber den künftigen Generationen,\\n\\ngewiss, dass frei nur ist, wer seine Freiheit gebraucht, und dass die Stärke des Volkes sich misst am Wohl der Schwachen,\\n\\ngeben sich folgende Verfassung:\\n'"
      ]
     },
     "execution_count": 3,
     "metadata": {},
     "output_type": "execute_result"
    }
   ],
   "source": [
    "#verfassung = verfassung.decode('utf-8')\n",
    "verfassung"
   ]
  },
  {
   "cell_type": "markdown",
   "metadata": {},
   "source": [
    "### In einzelne Wörter + Zeichen"
   ]
  },
  {
   "cell_type": "code",
   "execution_count": 4,
   "metadata": {},
   "outputs": [
    {
     "data": {
      "text/plain": [
       "['Im',\n",
       " 'Namen',\n",
       " 'Gottes',\n",
       " 'des',\n",
       " 'Allmächtigen',\n",
       " '!',\n",
       " 'Das',\n",
       " 'Schweizervolk',\n",
       " 'und',\n",
       " 'die']"
      ]
     },
     "execution_count": 4,
     "metadata": {},
     "output_type": "execute_result"
    }
   ],
   "source": [
    "tokens = nltk.word_tokenize(verfassung)\n",
    "tokens[0:10]"
   ]
  },
  {
   "cell_type": "markdown",
   "metadata": {},
   "source": [
    "### In Wörter"
   ]
  },
  {
   "cell_type": "code",
   "execution_count": 11,
   "metadata": {},
   "outputs": [
    {
     "data": {
      "text/plain": [
       "False"
      ]
     },
     "execution_count": 11,
     "metadata": {},
     "output_type": "execute_result"
    }
   ],
   "source": [
    "\",\".isalpha()"
   ]
  },
  {
   "cell_type": "code",
   "execution_count": 8,
   "metadata": {},
   "outputs": [
    {
     "data": {
      "text/plain": [
       "True"
      ]
     },
     "execution_count": 8,
     "metadata": {},
     "output_type": "execute_result"
    }
   ],
   "source": [
    "\"Katrin\".isalpha()"
   ]
  },
  {
   "cell_type": "code",
   "execution_count": 10,
   "metadata": {},
   "outputs": [
    {
     "data": {
      "text/plain": [
       "'katrin'"
      ]
     },
     "execution_count": 10,
     "metadata": {},
     "output_type": "execute_result"
    }
   ],
   "source": [
    "\"Katrin\".lower()"
   ]
  },
  {
   "cell_type": "code",
   "execution_count": 5,
   "metadata": {},
   "outputs": [
    {
     "data": {
      "text/plain": [
       "['im',\n",
       " 'namen',\n",
       " 'gottes',\n",
       " 'des',\n",
       " 'allmächtigen',\n",
       " 'das',\n",
       " 'schweizervolk',\n",
       " 'und',\n",
       " 'die',\n",
       " 'kantone',\n",
       " 'in',\n",
       " 'der',\n",
       " 'verantwortung',\n",
       " 'gegenüber',\n",
       " 'der',\n",
       " 'schöpfung',\n",
       " 'im',\n",
       " 'bestreben',\n",
       " 'den',\n",
       " 'bund']"
      ]
     },
     "execution_count": 5,
     "metadata": {},
     "output_type": "execute_result"
    }
   ],
   "source": [
    "from nltk.tokenize import word_tokenize\n",
    "words = word_tokenize(verfassung)\n",
    "     ## isalpha: wörter auswählen, kleinbuchstaben\n",
    "words[0:20]"
   ]
  },
  {
   "cell_type": "code",
   "execution_count": 14,
   "metadata": {},
   "outputs": [
    {
     "data": {
      "text/plain": [
       "True"
      ]
     },
     "execution_count": 14,
     "metadata": {},
     "output_type": "execute_result"
    }
   ],
   "source": [
    "\"Terrorismus\".endswith(\"ismus\")"
   ]
  },
  {
   "cell_type": "code",
   "execution_count": null,
   "metadata": {},
   "outputs": [],
   "source": []
  },
  {
   "cell_type": "markdown",
   "metadata": {},
   "source": [
    "### Hier noch ein paar praktische Python funktionen wie isalpha\n",
    "\n",
    "|  s.startswith(t) | test if s starts with t |\n",
    "|  ------ | ------ |\n",
    "|  s.endswith(t) | test if s ends with t |\n",
    "|  t in s | test if t is a substring of s |\n",
    "|  s.islower() | test if s contains cased characters and all are lowercase |\n",
    "|  s.isupper() | test if s contains cased characters and all are uppercase |\n",
    "|  s.isalpha() | test if s is non-empty and all characters in s are alphabetic |\n",
    "|  s.isalnum() | test if s is non-empty and all characters in s are alphanumeric |\n",
    "|  s.isdigit() | test if s is non-empty and all characters in s are digits |\n",
    "|  s.istitle() | test if s contains cased characters and is titlecased (i.e. all words in s have initial capitals) |"
   ]
  },
  {
   "cell_type": "markdown",
   "metadata": {},
   "source": [
    "### In Sätze"
   ]
  },
  {
   "cell_type": "code",
   "execution_count": 19,
   "metadata": {
    "scrolled": true
   },
   "outputs": [
    {
     "data": {
      "text/plain": [
       "'Das Schweizervolk und die Kantone,\\n\\nin der Verantwortung gegenüber der Schöpfung,\\n\\nim Bestreben, den Bund zu erneuern, um Freiheit und Demokratie, Unabhängigkeit und Frieden in Solidarität und Offenheit gegenüber der Welt zu stärken,\\n\\nim Willen, in gegenseitiger Rücksichtnahme und Achtung ihre Vielfalt in der Einheit zu leben,\\n\\nim Bewusstsein der gemeinsamen Errungenschaften und der Verantwortung gegenüber den künftigen Generationen,\\n\\ngewiss, dass frei nur ist, wer seine Freiheit gebraucht, und dass die Stärke des Volkes sich misst am Wohl der Schwachen,\\n\\ngeben sich folgende Verfassung:'"
      ]
     },
     "execution_count": 19,
     "metadata": {},
     "output_type": "execute_result"
    }
   ],
   "source": [
    "from nltk.tokenize import sent_tokenize   ## füt ganze sätze\n",
    "sentences = sent_tokenize(verfassung)\n",
    "sentences[1]"
   ]
  },
  {
   "cell_type": "markdown",
   "metadata": {},
   "source": [
    "## Stemming\n",
    "- d.h. das überführen von Wörtern in den gleichen Stamm. \n",
    "- Übliche Probleme die Sprache so mit sich bringt:\n",
    "    - Deklination: gehe, gehst, gehen, geht, ... es handelt sich um das gleiche Wort. \n",
    "    - Plural, Groß/Kleinschreibung: katze, katzen, Katze ... es handelt sich auch um das gleiche Wort. \n",
    "    - ..."
   ]
  },
  {
   "cell_type": "code",
   "execution_count": 25,
   "metadata": {},
   "outputs": [],
   "source": [
    "porter = nltk.PorterStemmer()\n",
    "lancaster = nltk.LancasterStemmer()"
   ]
  },
  {
   "cell_type": "markdown",
   "metadata": {},
   "source": [
    "### Porter stemmer\n",
    "- geht ganz ok für Englisch\n",
    "- https://de.wikipedia.org/wiki/Porter-Stemmer-Algorithmus"
   ]
  },
  {
   "cell_type": "code",
   "execution_count": 26,
   "metadata": {},
   "outputs": [
    {
     "data": {
      "text/plain": [
       "['Universal',\n",
       " 'Declaration',\n",
       " 'of',\n",
       " 'Human',\n",
       " 'Rights',\n",
       " 'Preamble',\n",
       " 'Whereas',\n",
       " 'recognition',\n",
       " 'of',\n",
       " 'the',\n",
       " 'inherent',\n",
       " 'dignity',\n",
       " 'and',\n",
       " 'of',\n",
       " 'the',\n",
       " 'equal',\n",
       " 'and',\n",
       " 'inalienable',\n",
       " 'rights',\n",
       " 'of']"
      ]
     },
     "execution_count": 26,
     "metadata": {},
     "output_type": "execute_result"
    }
   ],
   "source": [
    "from nltk.corpus import udhr\n",
    "engl_words = udhr.words(\"English-Latin1\")\n",
    "engl_words[0:20]"
   ]
  },
  {
   "cell_type": "code",
   "execution_count": 27,
   "metadata": {
    "scrolled": true
   },
   "outputs": [
    {
     "data": {
      "text/plain": [
       "['univers',\n",
       " 'declar',\n",
       " 'of',\n",
       " 'human',\n",
       " 'right',\n",
       " 'preambl',\n",
       " 'wherea',\n",
       " 'recognit',\n",
       " 'of',\n",
       " 'the',\n",
       " 'inher',\n",
       " 'digniti',\n",
       " 'and',\n",
       " 'of',\n",
       " 'the',\n",
       " 'equal',\n",
       " 'and',\n",
       " 'inalien',\n",
       " 'right',\n",
       " 'of']"
      ]
     },
     "execution_count": 27,
     "metadata": {},
     "output_type": "execute_result"
    }
   ],
   "source": [
    "[porter.stem(w) for w in engl_words][0:20]   ## nur wortstämme"
   ]
  },
  {
   "cell_type": "code",
   "execution_count": 29,
   "metadata": {},
   "outputs": [
    {
     "data": {
      "text/plain": [
       "'univers'"
      ]
     },
     "execution_count": 29,
     "metadata": {},
     "output_type": "execute_result"
    }
   ],
   "source": [
    "porter.stem(\"Universe\")"
   ]
  },
  {
   "cell_type": "code",
   "execution_count": 30,
   "metadata": {},
   "outputs": [
    {
     "data": {
      "text/plain": [
       "'univers'"
      ]
     },
     "execution_count": 30,
     "metadata": {},
     "output_type": "execute_result"
    }
   ],
   "source": [
    "porter.stem(\"universal\")"
   ]
  },
  {
   "cell_type": "code",
   "execution_count": 32,
   "metadata": {},
   "outputs": [
    {
     "data": {
      "text/plain": [
       "'univers'"
      ]
     },
     "execution_count": 32,
     "metadata": {},
     "output_type": "execute_result"
    }
   ],
   "source": [
    "porter.stem(\"University\")   "
   ]
  },
  {
   "cell_type": "markdown",
   "metadata": {},
   "source": [
    "### Lancaster Stemmer\n",
    "- kommt zu leicht anderen \"stämmen\"\n",
    "- funktioniert nicht so gut für deutsch"
   ]
  },
  {
   "cell_type": "code",
   "execution_count": 33,
   "metadata": {},
   "outputs": [
    {
     "data": {
      "text/plain": [
       "['univers',\n",
       " 'decl',\n",
       " 'of',\n",
       " 'hum',\n",
       " 'right',\n",
       " 'preambl',\n",
       " 'wherea',\n",
       " 'recognit',\n",
       " 'of',\n",
       " 'the',\n",
       " 'inh',\n",
       " 'dign',\n",
       " 'and',\n",
       " 'of',\n",
       " 'the',\n",
       " 'eq',\n",
       " 'and',\n",
       " 'ina',\n",
       " 'right',\n",
       " 'of']"
      ]
     },
     "execution_count": 33,
     "metadata": {},
     "output_type": "execute_result"
    }
   ],
   "source": [
    "[lancaster.stem(w) for w in engl_words][0:20]"
   ]
  },
  {
   "cell_type": "markdown",
   "metadata": {},
   "source": [
    "### Snowball stemmer\n",
    "- Geht gut für deusch\n",
    "- http://snowball.tartarus.org/algorithms/german/stemmer.html"
   ]
  },
  {
   "cell_type": "code",
   "execution_count": 34,
   "metadata": {},
   "outputs": [],
   "source": [
    "snowball = nltk.stem.snowball.GermanStemmer()"
   ]
  },
  {
   "cell_type": "code",
   "execution_count": 37,
   "metadata": {},
   "outputs": [
    {
     "data": {
      "text/plain": [
       "'geh'"
      ]
     },
     "execution_count": 37,
     "metadata": {},
     "output_type": "execute_result"
    }
   ],
   "source": [
    "snowball.stem(\"gehen\")"
   ]
  },
  {
   "cell_type": "code",
   "execution_count": 38,
   "metadata": {},
   "outputs": [
    {
     "data": {
      "text/plain": [
       "'gest'"
      ]
     },
     "execution_count": 38,
     "metadata": {},
     "output_type": "execute_result"
    }
   ],
   "source": [
    "snowball.stem(\"gest\")"
   ]
  },
  {
   "cell_type": "code",
   "execution_count": 35,
   "metadata": {},
   "outputs": [
    {
     "data": {
      "text/plain": [
       "['im',\n",
       " 'nam',\n",
       " 'gott',\n",
       " 'des',\n",
       " 'allmacht',\n",
       " 'das',\n",
       " 'schweizervolk',\n",
       " 'und',\n",
       " 'die',\n",
       " 'kanton',\n",
       " 'in',\n",
       " 'der',\n",
       " 'verantwort',\n",
       " 'gegenub',\n",
       " 'der',\n",
       " 'schopfung',\n",
       " 'im',\n",
       " 'bestreb',\n",
       " 'den',\n",
       " 'bund']"
      ]
     },
     "execution_count": 35,
     "metadata": {},
     "output_type": "execute_result"
    }
   ],
   "source": [
    "[snowball.stem(w) for w in words][0:20]"
   ]
  },
  {
   "cell_type": "markdown",
   "metadata": {},
   "source": [
    "## Lemmatizer\n",
    "- Zurückführen des Textes zu \"Wörterbuchdefinitionen\""
   ]
  },
  {
   "cell_type": "code",
   "execution_count": 39,
   "metadata": {},
   "outputs": [],
   "source": [
    "text = \"Women in technologies areas are amazing at coding. Especially one woman is great, her name is Ursula Burns.\"\n",
    "words = word_tokenize(text)\n",
    "words_engl =[word.lower() for word in words if word.isalpha()]"
   ]
  },
  {
   "cell_type": "code",
   "execution_count": 40,
   "metadata": {},
   "outputs": [
    {
     "name": "stderr",
     "output_type": "stream",
     "text": [
      "[nltk_data] Downloading package wordnet to /home/pc/nltk_data...\n",
      "[nltk_data]   Unzipping corpora/wordnet.zip.\n"
     ]
    },
    {
     "data": {
      "text/plain": [
       "['woman',\n",
       " 'in',\n",
       " 'technology',\n",
       " 'area',\n",
       " 'are',\n",
       " 'amazing',\n",
       " 'at',\n",
       " 'coding',\n",
       " 'especially',\n",
       " 'one',\n",
       " 'woman',\n",
       " 'is',\n",
       " 'great',\n",
       " 'her',\n",
       " 'name',\n",
       " 'is',\n",
       " 'ursula',\n",
       " 'burn']"
      ]
     },
     "execution_count": 40,
     "metadata": {},
     "output_type": "execute_result"
    }
   ],
   "source": [
    "nltk.download('wordnet')\n",
    "from nltk import WordNetLemmatizer\n",
    "\n",
    "lemma = nltk.WordNetLemmatizer() \n",
    "lemmas = [lemma.lemmatize(i) for i in words_engl]\n",
    "lemmas[0:20]"
   ]
  },
  {
   "cell_type": "markdown",
   "metadata": {},
   "source": [
    "### Lematizer Deutsch NLTK\n",
    "- Geht leider nicht für deusch :( in nltk"
   ]
  },
  {
   "cell_type": "code",
   "execution_count": 45,
   "metadata": {},
   "outputs": [],
   "source": [
    "party_text = '''\n",
    "Kurz vor 22.00 Uhr sind Polizisten der Stadtpolizei in alle Richtungen aber vor allem in Richtung Kreis 9 ausgerückt. Grund war eine Meldung zu einer privaten Party an der Aargauerstrasse, die angeblich ausser Kontrolle geraten sei. \n",
    "'''\n",
    "#party_text = party_text.decode(\"UTF-8\")  ## nicht mehr nötig\n",
    "words = word_tokenize(party_text)\n",
    "words_german =[word.lower() for word in words if word.isalpha()]"
   ]
  },
  {
   "cell_type": "code",
   "execution_count": 46,
   "metadata": {},
   "outputs": [
    {
     "data": {
      "text/plain": [
       "['kurz',\n",
       " 'vor',\n",
       " 'uhr',\n",
       " 'sind',\n",
       " 'polizisten',\n",
       " 'der',\n",
       " 'stadtpolizei',\n",
       " 'in',\n",
       " 'alle',\n",
       " 'richtungen',\n",
       " 'aber',\n",
       " 'vor',\n",
       " 'allem',\n",
       " 'in',\n",
       " 'richtung',\n",
       " 'kreis',\n",
       " 'ausgerückt',\n",
       " 'grund',\n",
       " 'war',\n",
       " 'eine']"
      ]
     },
     "execution_count": 46,
     "metadata": {},
     "output_type": "execute_result"
    }
   ],
   "source": [
    "lemma = nltk.WordNetLemmatizer() \n",
    "lemmas = [lemma.lemmatize(i) for i in words_german]\n",
    "lemmas[0:20]"
   ]
  },
  {
   "cell_type": "markdown",
   "metadata": {},
   "source": [
    "## Lemmatizer in Pattern\n",
    "- Ähnlich wie NLTK funktioniert aber auch für deutsch\n",
    "- https://www.clips.uantwerpen.be/pattern\n",
    "- ```pip install pattern```\n",
    "- Deutsche modelle kommen übrigens von der Uni Zürich https://www.zora.uzh.ch/id/eprint/28579/"
   ]
  },
  {
   "cell_type": "code",
   "execution_count": 47,
   "metadata": {},
   "outputs": [
    {
     "name": "stdout",
     "output_type": "stream",
     "text": [
      "Collecting pattern\n",
      "\u001b[?25l  Downloading https://files.pythonhosted.org/packages/1e/07/b0e61b6c818ed4b6145fe01d1c341223aa6cfbc3928538ad1f2b890924a3/Pattern-3.6.0.tar.gz (22.2MB)\n",
      "\u001b[K     |████████████████████████████████| 22.3MB 3.8MB/s eta 0:00:01    |▊                               | 501kB 2.5MB/s eta 0:00:09     |████████████████████████████▋   | 19.9MB 6.2MB/s eta 0:00:01\n",
      "\u001b[?25hRequirement already satisfied: future in /home/pc/anaconda3/lib/python3.7/site-packages (from pattern) (0.17.1)\n",
      "Collecting backports.csv\n",
      "  Downloading https://files.pythonhosted.org/packages/8e/26/a6bd68f13e0f38fbb643d6e497fc3462be83a0b6c4d43425c78bb51a7291/backports.csv-1.0.7-py2.py3-none-any.whl\n",
      "Collecting mysqlclient\n",
      "\u001b[?25l  Downloading https://files.pythonhosted.org/packages/f8/9b/5db9a03e2088a87c26e3e4d4c7f7e8f4c2dbae610f9521cdfac15755a795/mysqlclient-1.4.5.tar.gz (86kB)\n",
      "\u001b[K     |████████████████████████████████| 92kB 3.6MB/s eta 0:00:01\n",
      "\u001b[31m    ERROR: Command errored out with exit status 1:\n",
      "     command: /home/pc/anaconda3/bin/python -c 'import sys, setuptools, tokenize; sys.argv[0] = '\"'\"'/tmp/pip-install-8jx3g23i/mysqlclient/setup.py'\"'\"'; __file__='\"'\"'/tmp/pip-install-8jx3g23i/mysqlclient/setup.py'\"'\"';f=getattr(tokenize, '\"'\"'open'\"'\"', open)(__file__);code=f.read().replace('\"'\"'\\r\\n'\"'\"', '\"'\"'\\n'\"'\"');f.close();exec(compile(code, __file__, '\"'\"'exec'\"'\"'))' egg_info --egg-base /tmp/pip-install-8jx3g23i/mysqlclient/pip-egg-info\n",
      "         cwd: /tmp/pip-install-8jx3g23i/mysqlclient/\n",
      "    Complete output (12 lines):\n",
      "    /bin/sh: 1: mysql_config: not found\n",
      "    /bin/sh: 1: mariadb_config: not found\n",
      "    /bin/sh: 1: mysql_config: not found\n",
      "    Traceback (most recent call last):\n",
      "      File \"<string>\", line 1, in <module>\n",
      "      File \"/tmp/pip-install-8jx3g23i/mysqlclient/setup.py\", line 16, in <module>\n",
      "        metadata, options = get_config()\n",
      "      File \"/tmp/pip-install-8jx3g23i/mysqlclient/setup_posix.py\", line 61, in get_config\n",
      "        libs = mysql_config(\"libs\")\n",
      "      File \"/tmp/pip-install-8jx3g23i/mysqlclient/setup_posix.py\", line 29, in mysql_config\n",
      "        raise EnvironmentError(\"%s not found\" % (_mysql_config_path,))\n",
      "    OSError: mysql_config not found\n",
      "    ----------------------------------------\u001b[0m\n",
      "\u001b[31mERROR: Command errored out with exit status 1: python setup.py egg_info Check the logs for full command output.\u001b[0m\n",
      "\u001b[?25h"
     ]
    }
   ],
   "source": [
    "!pip install pattern      ## funktioniert mit Python 2.6"
   ]
  },
  {
   "cell_type": "code",
   "execution_count": 51,
   "metadata": {},
   "outputs": [],
   "source": [
    "from pattern.de import parse"
   ]
  },
  {
   "cell_type": "code",
   "execution_count": 52,
   "metadata": {},
   "outputs": [
    {
     "data": {
      "text/plain": [
       "'Richtungen/JJ/B-NP/O/O/richtung Richtung/NN/I-NP/O/O/richtung ././O/O/O/.'"
      ]
     },
     "execution_count": 52,
     "metadata": {},
     "output_type": "execute_result"
    }
   ],
   "source": [
    "text = \"Richtungen Richtung.\"\n",
    "s = parse(text, relations=True, lemmata=True)\n",
    "s"
   ]
  },
  {
   "cell_type": "code",
   "execution_count": 53,
   "metadata": {},
   "outputs": [
    {
     "data": {
      "text/plain": [
       "['kurz',\n",
       " 'vor',\n",
       " '22.00',\n",
       " 'uhr',\n",
       " 'sein',\n",
       " 'polizist',\n",
       " 'der',\n",
       " 'stadtpolizei',\n",
       " 'in',\n",
       " 'all',\n",
       " 'richtungen',\n",
       " 'aber',\n",
       " 'vor',\n",
       " 'in',\n",
       " 'richtung',\n",
       " 'kreis',\n",
       " '9',\n",
       " 'ausger\\xfcckt',\n",
       " 'grund',\n",
       " 'sein']"
      ]
     },
     "execution_count": 53,
     "metadata": {},
     "output_type": "execute_result"
    }
   ],
   "source": [
    "lemmata = []\n",
    "from pattern.de import parsetree\n",
    "s = parsetree(party_text,relations=True, lemmata=True) \n",
    "for sentence in s: \n",
    "    for chunk in sentence.chunks:\n",
    "        for word in chunk.words:\n",
    "            #print(\"%s (%s)\" %(word,word.lemma))\n",
    "            lemmata.append(word.lemma)\n",
    "lemmata[0:20]"
   ]
  },
  {
   "cell_type": "markdown",
   "metadata": {},
   "source": [
    "## Lemmatizer in Textblob\n",
    " - https://textblob.readthedocs.io/en/dev/quickstart.html\n",
    " - ```pip install -U textblob```\n",
    " - ```pip install -U textblob-de```\n",
    " - https://github.com/markuskiller/textblob-de"
   ]
  },
  {
   "cell_type": "code",
   "execution_count": 48,
   "metadata": {},
   "outputs": [
    {
     "name": "stdout",
     "output_type": "stream",
     "text": [
      "Collecting textblob\n",
      "\u001b[?25l  Downloading https://files.pythonhosted.org/packages/60/f0/1d9bfcc8ee6b83472ec571406bd0dd51c0e6330ff1a51b2d29861d389e85/textblob-0.15.3-py2.py3-none-any.whl (636kB)\n",
      "\u001b[K     |████████████████████████████████| 645kB 1.9MB/s eta 0:00:01\n",
      "\u001b[?25hRequirement already satisfied, skipping upgrade: nltk>=3.1 in /home/pc/anaconda3/lib/python3.7/site-packages (from textblob) (3.4.4)\n",
      "Requirement already satisfied, skipping upgrade: six in /home/pc/anaconda3/lib/python3.7/site-packages (from nltk>=3.1->textblob) (1.12.0)\n",
      "Installing collected packages: textblob\n",
      "Successfully installed textblob-0.15.3\n"
     ]
    }
   ],
   "source": [
    "!pip install -U textblob"
   ]
  },
  {
   "cell_type": "code",
   "execution_count": 49,
   "metadata": {},
   "outputs": [
    {
     "name": "stdout",
     "output_type": "stream",
     "text": [
      "Collecting textblob-de\n",
      "\u001b[?25l  Downloading https://files.pythonhosted.org/packages/47/61/7a5759c3ac60bf9330a50ce81ebe7f0aac1bc6c674d45e00f7b3e190f5af/textblob_de-0.4.3-py2.py3-none-any.whl (468kB)\n",
      "\u001b[K     |████████████████████████████████| 471kB 2.2MB/s eta 0:00:01\n",
      "\u001b[?25hRequirement already satisfied, skipping upgrade: textblob>=0.9.0 in /home/pc/anaconda3/lib/python3.7/site-packages (from textblob-de) (0.15.3)\n",
      "Requirement already satisfied, skipping upgrade: nltk>=3.1 in /home/pc/anaconda3/lib/python3.7/site-packages (from textblob>=0.9.0->textblob-de) (3.4.4)\n",
      "Requirement already satisfied, skipping upgrade: six in /home/pc/anaconda3/lib/python3.7/site-packages (from nltk>=3.1->textblob>=0.9.0->textblob-de) (1.12.0)\n",
      "Installing collected packages: textblob-de\n",
      "Successfully installed textblob-de-0.4.3\n"
     ]
    }
   ],
   "source": [
    "!pip install -U textblob-de"
   ]
  },
  {
   "cell_type": "code",
   "execution_count": 51,
   "metadata": {},
   "outputs": [
    {
     "data": {
      "text/plain": [
       "['kurz',\n",
       " 'vor',\n",
       " '22.00',\n",
       " 'Uhr',\n",
       " 'sein',\n",
       " 'Polizist',\n",
       " 'der',\n",
       " 'Stadtpolizei',\n",
       " 'in',\n",
       " 'all',\n",
       " 'Richtungen',\n",
       " 'aber',\n",
       " 'vor',\n",
       " 'all',\n",
       " 'in',\n",
       " 'Richtung',\n",
       " 'Kreis',\n",
       " '9',\n",
       " 'ausgerückt',\n",
       " 'Grund']"
      ]
     },
     "execution_count": 51,
     "metadata": {},
     "output_type": "execute_result"
    }
   ],
   "source": [
    "party_text = '''\n",
    "Kurz vor 22.00 Uhr sind Polizisten der Stadtpolizei in alle Richtungen aber vor allem in Richtung Kreis 9 ausgerückt. Grund war eine Meldung zu einer privaten Party an der Aargauerstrasse, die angeblich ausser Kontrolle geraten sei. \n",
    "'''\n",
    "#party_text = party_text.decode(\"UTF-8\")   nicht mehr nötig\n",
    "from textblob_de import TextBlobDE\n",
    "from textblob_de import PatternParser\n",
    "blob = TextBlobDE(party_text, parser=PatternParser(pprint=False, lemmata=True))\n",
    "blob.parse()\n",
    "list(blob.words.lemmatize())[0:20]"
   ]
  },
  {
   "cell_type": "markdown",
   "metadata": {},
   "source": [
    "## POS Tagging (Part of Speech Tagging)\n",
    "- Ich bin nur interessiert an Substantiven oder Adjektiven oder Verben. \n",
    "- Wie kann ich nur diese filtern? \n",
    "- Funktioniert für Deutsch nicht auf Anhieb in NLTK :(\n",
    "- aber gut in pattern und textblob"
   ]
  },
  {
   "cell_type": "markdown",
   "metadata": {},
   "source": [
    "## Übersicht\n",
    "https://www.clips.uantwerpen.be/pages/mbsp-tags\n",
    "\n",
    "|  Tag | Description | Example |\n",
    "|  ------ | ------ | ------ |\n",
    "|  **CC** | conjunction, coordinating | and, or, but |\n",
    "|  **CD** | cardinal number | five, three, 13% |\n",
    "|  **DT** | determiner | the, a, these |\n",
    "|  **EX** | existential there | there were six boys |\n",
    "|  **FW** | foreign word | mais |\n",
    "|  **IN** | conjunction, subordinating or preposition | of, on, before, unless |\n",
    "|  **JJ** | adjective | nice, easy |\n",
    "|  **JJR** | adjective, comparative | nicer, easier |\n",
    "|  **JJS** | adjective, superlative | nicest, easiest |\n",
    "|  **LS** | list item marker |  |\n",
    "|  **MD** | verb, modal auxillary | may, should |\n",
    "|  **NN** | noun, singular or mass | tiger, chair, laughter |\n",
    "|  **NNS** | noun, plural | tigers, chairs, insects |\n",
    "|  **NNP** | noun, proper singular | Germany, God, Alice |\n",
    "|  **NNPS** | noun, proper plural | we met two Christmases ago |\n",
    "|  **PDT** | predeterminer | both his children |\n",
    "|  **POS** | possessive ending | s |\n",
    "|  **PRP** | pronoun, personal | me, you, it |\n",
    "|  **PRP** | pronoun, possessive | my, your, our |\n",
    "|  **RB** | adverb | extremely, loudly, hard |\n",
    "|  **RBR** | adverb, comparative | better |\n",
    "|  **RBS** | adverb, superlative | best |\n",
    "|  **RP** | adverb, particle | about, off, up |\n",
    "|  **SYM** | symbol | % |\n",
    "|  **TO** | infinitival to | what to do? |\n",
    "|  **UH** | interjection | oh, oops, gosh |\n",
    "|  **VB** | verb, base form | think |\n",
    "|  **VBZ** | verb, 3rd person singular present | she thinks |\n",
    "|  **VBP** | verb, non-3rd person singular present | I think |\n",
    "|  **VBD** | verb, past tense | they thought |\n",
    "|  **VBN** | verb, past participle | a sunken ship |\n",
    "|  **VBG** | verb, gerund or present participle | thinking is fun |\n",
    "|  **WDT** | wh-determiner | which, whatever, whichever |\n",
    "|  **WP** | wh-pronoun, personal | what, who, whom |\n",
    "|  **WP** | wh-pronoun, possessive | whose, whosever |\n",
    "|  **WRB** | wh-adverb | where, when |\n",
    "|  **.** | punctuation mark, sentence closer | .;?* |\n",
    "|  **,** | punctuation mark, comma | , |\n",
    "|  **:** | punctuation mark, colon | : |\n",
    "|  **(** | contextual separator, left paren | ( |\n",
    "|  **)** | contextual separator, right paren | ) |"
   ]
  },
  {
   "cell_type": "markdown",
   "metadata": {},
   "source": [
    "### POS Tags in pattern"
   ]
  },
  {
   "cell_type": "code",
   "execution_count": 58,
   "metadata": {},
   "outputs": [],
   "source": [
    "verben = []\n",
    "substantive = []\n",
    "adjektive = []\n",
    "from pattern.de import parsetree\n",
    "s = parsetree(party_text,relations=True, lemmata=True) \n",
    "for sentence in s: \n",
    "    for chunk in sentence.chunks:\n",
    "        for word in chunk.words:\n",
    "            if \"V\" in word.type:\n",
    "                verben.append(word)\n",
    "            if \"NN\" in word.type:\n",
    "                substantive.append(word)\n",
    "            if \"J\" in word.type:\n",
    "                adjektive.append(word)"
   ]
  },
  {
   "cell_type": "code",
   "execution_count": 59,
   "metadata": {},
   "outputs": [
    {
     "data": {
      "text/plain": [
       "[Word(u'sind/VB'), Word(u'war/VB'), Word(u'geraten/VBN'), Word(u'sei/VB')]"
      ]
     },
     "execution_count": 59,
     "metadata": {},
     "output_type": "execute_result"
    }
   ],
   "source": [
    "verben"
   ]
  },
  {
   "cell_type": "code",
   "execution_count": 60,
   "metadata": {},
   "outputs": [
    {
     "data": {
      "text/plain": [
       "[Word(u'Uhr/NN'),\n",
       " Word(u'Polizisten/NNS'),\n",
       " Word(u'Stadtpolizei/NN'),\n",
       " Word(u'Richtungen/NN'),\n",
       " Word(u'Richtung/NN'),\n",
       " Word(u'Kreis/NN'),\n",
       " Word(u'ausger\\xfcckt/NN'),\n",
       " Word(u'Meldung/NN'),\n",
       " Word(u'Party/NN'),\n",
       " Word(u'Aargauerstrasse/NNP'),\n",
       " Word(u'Kontrolle/NN')]"
      ]
     },
     "execution_count": 60,
     "metadata": {},
     "output_type": "execute_result"
    }
   ],
   "source": [
    "substantive"
   ]
  },
  {
   "cell_type": "code",
   "execution_count": 146,
   "metadata": {},
   "outputs": [
    {
     "data": {
      "text/plain": [
       "[Word(u'Kurz/JJ'),\n",
       " Word(u'alle/JJ'),\n",
       " Word(u'privaten/JJ'),\n",
       " Word(u'angeblich/JJ')]"
      ]
     },
     "execution_count": 146,
     "metadata": {},
     "output_type": "execute_result"
    }
   ],
   "source": [
    "adjektive"
   ]
  },
  {
   "cell_type": "markdown",
   "metadata": {},
   "source": [
    "### POS tags in textblob"
   ]
  },
  {
   "cell_type": "code",
   "execution_count": 56,
   "metadata": {
    "scrolled": true
   },
   "outputs": [
    {
     "data": {
      "text/plain": [
       "[('Kurz', 'JJ'),\n",
       " ('vor', 'IN'),\n",
       " ('22.00', 'CD'),\n",
       " ('Uhr', 'NN'),\n",
       " ('sind', 'VB'),\n",
       " ('Polizisten', 'NNS'),\n",
       " ('der', 'DT'),\n",
       " ('Stadtpolizei', 'NN'),\n",
       " ('in', 'IN'),\n",
       " ('alle', 'JJ'),\n",
       " ('Richtungen', 'NN'),\n",
       " ('aber', 'RB'),\n",
       " ('vor', 'IN'),\n",
       " ('allem', 'DT'),\n",
       " ('in', 'IN'),\n",
       " ('Richtung', 'NN'),\n",
       " ('Kreis', 'NN'),\n",
       " ('9', 'CD'),\n",
       " ('ausgerückt', 'NN'),\n",
       " ('Grund', 'NN'),\n",
       " ('war', 'VB'),\n",
       " ('eine', 'DT'),\n",
       " ('Meldung', 'NN'),\n",
       " ('zu', 'IN'),\n",
       " ('einer', 'DT'),\n",
       " ('privaten', 'JJ'),\n",
       " ('Party', 'NN'),\n",
       " ('an', 'IN'),\n",
       " ('der', 'DT'),\n",
       " ('Aargauerstrasse', 'NNP'),\n",
       " ('die', 'WDT'),\n",
       " ('angeblich', 'JJ'),\n",
       " ('ausser', 'IN'),\n",
       " ('Kontrolle', 'NN'),\n",
       " ('geraten', 'VBN'),\n",
       " ('sei', 'VB')]"
      ]
     },
     "execution_count": 56,
     "metadata": {},
     "output_type": "execute_result"
    }
   ],
   "source": [
    "blob = TextBlobDE(party_text, parser=PatternParser(pprint=False, lemmata=True))\n",
    "blob.tags      #tuple: word + part of speech"
   ]
  },
  {
   "cell_type": "code",
   "execution_count": 52,
   "metadata": {},
   "outputs": [],
   "source": [
    "substantive = []\n",
    "adjektive = []\n",
    "verben = []\n",
    "blob = TextBlobDE(party_text, parser=PatternParser(pprint=False, lemmata=True))     ## mit text, nicht liste\n",
    "for word in blob.tags:\n",
    "    if \"NN\" in word[1]:\n",
    "        substantive.append(word[0])\n",
    "    if \"V\" in word[1]:\n",
    "        verben.append(word[0])\n",
    "    if \"JJ\" in word[1]:\n",
    "        adjektive.append(word[0])"
   ]
  },
  {
   "cell_type": "code",
   "execution_count": 53,
   "metadata": {},
   "outputs": [
    {
     "data": {
      "text/plain": [
       "['Uhr',\n",
       " 'Polizisten',\n",
       " 'Stadtpolizei',\n",
       " 'Richtungen',\n",
       " 'Richtung',\n",
       " 'Kreis',\n",
       " 'ausgerückt',\n",
       " 'Grund',\n",
       " 'Meldung',\n",
       " 'Party',\n",
       " 'Aargauerstrasse',\n",
       " 'Kontrolle']"
      ]
     },
     "execution_count": 53,
     "metadata": {},
     "output_type": "execute_result"
    }
   ],
   "source": [
    "substantive"
   ]
  },
  {
   "cell_type": "code",
   "execution_count": 63,
   "metadata": {},
   "outputs": [
    {
     "data": {
      "text/plain": [
       "['Kurz', 'alle', 'privaten', 'angeblich']"
      ]
     },
     "execution_count": 63,
     "metadata": {},
     "output_type": "execute_result"
    }
   ],
   "source": [
    "adjektive"
   ]
  },
  {
   "cell_type": "code",
   "execution_count": 64,
   "metadata": {},
   "outputs": [
    {
     "data": {
      "text/plain": [
       "['sind', 'war', 'geraten', 'sei']"
      ]
     },
     "execution_count": 64,
     "metadata": {},
     "output_type": "execute_result"
    }
   ],
   "source": [
    "verben"
   ]
  },
  {
   "cell_type": "markdown",
   "metadata": {},
   "source": [
    "## Stop word removal\n"
   ]
  },
  {
   "cell_type": "code",
   "execution_count": 58,
   "metadata": {},
   "outputs": [
    {
     "name": "stderr",
     "output_type": "stream",
     "text": [
      "[nltk_data] Downloading package stopwords to /home/pc/nltk_data...\n",
      "[nltk_data]   Unzipping corpora/stopwords.zip.\n"
     ]
    }
   ],
   "source": [
    "nltk.download('stopwords')\n",
    "from nltk.corpus import stopwords"
   ]
  },
  {
   "cell_type": "markdown",
   "metadata": {},
   "source": [
    "### Englisch"
   ]
  },
  {
   "cell_type": "code",
   "execution_count": 59,
   "metadata": {},
   "outputs": [
    {
     "data": {
      "text/plain": [
       "['i',\n",
       " 'me',\n",
       " 'my',\n",
       " 'myself',\n",
       " 'we',\n",
       " 'our',\n",
       " 'ours',\n",
       " 'ourselves',\n",
       " 'you',\n",
       " \"you're\",\n",
       " \"you've\",\n",
       " \"you'll\",\n",
       " \"you'd\",\n",
       " 'your',\n",
       " 'yours',\n",
       " 'yourself',\n",
       " 'yourselves',\n",
       " 'he',\n",
       " 'him',\n",
       " 'his',\n",
       " 'himself',\n",
       " 'she',\n",
       " \"she's\",\n",
       " 'her',\n",
       " 'hers',\n",
       " 'herself',\n",
       " 'it',\n",
       " \"it's\",\n",
       " 'its',\n",
       " 'itself',\n",
       " 'they',\n",
       " 'them',\n",
       " 'their',\n",
       " 'theirs',\n",
       " 'themselves',\n",
       " 'what',\n",
       " 'which',\n",
       " 'who',\n",
       " 'whom',\n",
       " 'this',\n",
       " 'that',\n",
       " \"that'll\",\n",
       " 'these',\n",
       " 'those',\n",
       " 'am',\n",
       " 'is',\n",
       " 'are',\n",
       " 'was',\n",
       " 'were',\n",
       " 'be',\n",
       " 'been',\n",
       " 'being',\n",
       " 'have',\n",
       " 'has',\n",
       " 'had',\n",
       " 'having',\n",
       " 'do',\n",
       " 'does',\n",
       " 'did',\n",
       " 'doing',\n",
       " 'a',\n",
       " 'an',\n",
       " 'the',\n",
       " 'and',\n",
       " 'but',\n",
       " 'if',\n",
       " 'or',\n",
       " 'because',\n",
       " 'as',\n",
       " 'until',\n",
       " 'while',\n",
       " 'of',\n",
       " 'at',\n",
       " 'by',\n",
       " 'for',\n",
       " 'with',\n",
       " 'about',\n",
       " 'against',\n",
       " 'between',\n",
       " 'into',\n",
       " 'through',\n",
       " 'during',\n",
       " 'before',\n",
       " 'after',\n",
       " 'above',\n",
       " 'below',\n",
       " 'to',\n",
       " 'from',\n",
       " 'up',\n",
       " 'down',\n",
       " 'in',\n",
       " 'out',\n",
       " 'on',\n",
       " 'off',\n",
       " 'over',\n",
       " 'under',\n",
       " 'again',\n",
       " 'further',\n",
       " 'then',\n",
       " 'once']"
      ]
     },
     "execution_count": 59,
     "metadata": {},
     "output_type": "execute_result"
    }
   ],
   "source": [
    "stopwords.words('english')[0:100]"
   ]
  },
  {
   "cell_type": "code",
   "execution_count": 60,
   "metadata": {},
   "outputs": [
    {
     "data": {
      "text/plain": [
       "['big', 'tree', 'duck']"
      ]
     },
     "execution_count": 60,
     "metadata": {},
     "output_type": "execute_result"
    }
   ],
   "source": [
    "text = \"The big tree and the 7 ducks.\"\n",
    "words_engl = word.tokenize(text)\n",
    "words_engl = [\"the\", \"big\", \"tree\", \"and\", \"the\", \"duck\"]\n",
    "filtered_words = [word for word in words_engl if word not in stopwords.words('english')]\n",
    "filtered_words"
   ]
  },
  {
   "cell_type": "markdown",
   "metadata": {},
   "source": [
    "text = “The big tree and the 7 ducks.”\n",
    "words_engl = word_tokenize(text)\n",
    "words_engl = [word.lower() for word in words_engl if word.isalpha()]\n",
    "filtered_words = [word for word in words_engl if word not in stopwords.words(‘english’)]\n",
    "filtered_words"
   ]
  },
  {
   "cell_type": "code",
   "execution_count": null,
   "metadata": {},
   "outputs": [],
   "source": []
  },
  {
   "cell_type": "markdown",
   "metadata": {},
   "source": [
    "### Deutsch"
   ]
  },
  {
   "cell_type": "code",
   "execution_count": 61,
   "metadata": {},
   "outputs": [
    {
     "data": {
      "text/plain": [
       "['aber',\n",
       " 'alle',\n",
       " 'allem',\n",
       " 'allen',\n",
       " 'aller',\n",
       " 'alles',\n",
       " 'als',\n",
       " 'also',\n",
       " 'am',\n",
       " 'an',\n",
       " 'ander',\n",
       " 'andere',\n",
       " 'anderem',\n",
       " 'anderen',\n",
       " 'anderer',\n",
       " 'anderes',\n",
       " 'anderm',\n",
       " 'andern',\n",
       " 'anderr',\n",
       " 'anders',\n",
       " 'auch',\n",
       " 'auf',\n",
       " 'aus',\n",
       " 'bei',\n",
       " 'bin',\n",
       " 'bis',\n",
       " 'bist',\n",
       " 'da',\n",
       " 'damit',\n",
       " 'dann',\n",
       " 'der',\n",
       " 'den',\n",
       " 'des',\n",
       " 'dem',\n",
       " 'die',\n",
       " 'das',\n",
       " 'dass',\n",
       " 'daß',\n",
       " 'derselbe',\n",
       " 'derselben',\n",
       " 'denselben',\n",
       " 'desselben',\n",
       " 'demselben',\n",
       " 'dieselbe',\n",
       " 'dieselben',\n",
       " 'dasselbe',\n",
       " 'dazu',\n",
       " 'dein',\n",
       " 'deine',\n",
       " 'deinem',\n",
       " 'deinen',\n",
       " 'deiner',\n",
       " 'deines',\n",
       " 'denn',\n",
       " 'derer',\n",
       " 'dessen',\n",
       " 'dich',\n",
       " 'dir',\n",
       " 'du',\n",
       " 'dies',\n",
       " 'diese',\n",
       " 'diesem',\n",
       " 'diesen',\n",
       " 'dieser',\n",
       " 'dieses',\n",
       " 'doch',\n",
       " 'dort',\n",
       " 'durch',\n",
       " 'ein',\n",
       " 'eine',\n",
       " 'einem',\n",
       " 'einen',\n",
       " 'einer',\n",
       " 'eines',\n",
       " 'einig',\n",
       " 'einige',\n",
       " 'einigem',\n",
       " 'einigen',\n",
       " 'einiger',\n",
       " 'einiges',\n",
       " 'einmal',\n",
       " 'er',\n",
       " 'ihn',\n",
       " 'ihm',\n",
       " 'es',\n",
       " 'etwas',\n",
       " 'euer',\n",
       " 'eure',\n",
       " 'eurem',\n",
       " 'euren',\n",
       " 'eurer',\n",
       " 'eures',\n",
       " 'für',\n",
       " 'gegen',\n",
       " 'gewesen',\n",
       " 'hab',\n",
       " 'habe',\n",
       " 'haben',\n",
       " 'hat',\n",
       " 'hatte',\n",
       " 'hatten',\n",
       " 'hier',\n",
       " 'hin',\n",
       " 'hinter',\n",
       " 'ich',\n",
       " 'mich',\n",
       " 'mir',\n",
       " 'ihr',\n",
       " 'ihre',\n",
       " 'ihrem',\n",
       " 'ihren',\n",
       " 'ihrer',\n",
       " 'ihres',\n",
       " 'euch',\n",
       " 'im',\n",
       " 'in',\n",
       " 'indem',\n",
       " 'ins',\n",
       " 'ist',\n",
       " 'jede',\n",
       " 'jedem',\n",
       " 'jeden',\n",
       " 'jeder',\n",
       " 'jedes',\n",
       " 'jene',\n",
       " 'jenem',\n",
       " 'jenen',\n",
       " 'jener',\n",
       " 'jenes',\n",
       " 'jetzt',\n",
       " 'kann',\n",
       " 'kein',\n",
       " 'keine',\n",
       " 'keinem',\n",
       " 'keinen',\n",
       " 'keiner',\n",
       " 'keines',\n",
       " 'können',\n",
       " 'könnte',\n",
       " 'machen',\n",
       " 'man',\n",
       " 'manche',\n",
       " 'manchem',\n",
       " 'manchen',\n",
       " 'mancher',\n",
       " 'manches',\n",
       " 'mein',\n",
       " 'meine',\n",
       " 'meinem',\n",
       " 'meinen',\n",
       " 'meiner',\n",
       " 'meines',\n",
       " 'mit',\n",
       " 'muss',\n",
       " 'musste',\n",
       " 'nach',\n",
       " 'nicht',\n",
       " 'nichts',\n",
       " 'noch',\n",
       " 'nun',\n",
       " 'nur',\n",
       " 'ob',\n",
       " 'oder',\n",
       " 'ohne',\n",
       " 'sehr',\n",
       " 'sein',\n",
       " 'seine',\n",
       " 'seinem',\n",
       " 'seinen',\n",
       " 'seiner',\n",
       " 'seines',\n",
       " 'selbst',\n",
       " 'sich',\n",
       " 'sie',\n",
       " 'ihnen',\n",
       " 'sind',\n",
       " 'so',\n",
       " 'solche',\n",
       " 'solchem',\n",
       " 'solchen',\n",
       " 'solcher',\n",
       " 'solches',\n",
       " 'soll',\n",
       " 'sollte',\n",
       " 'sondern',\n",
       " 'sonst',\n",
       " 'über',\n",
       " 'um',\n",
       " 'und',\n",
       " 'uns',\n",
       " 'unsere',\n",
       " 'unserem',\n",
       " 'unseren',\n",
       " 'unser',\n",
       " 'unseres',\n",
       " 'unter',\n",
       " 'viel',\n",
       " 'vom',\n",
       " 'von',\n",
       " 'vor',\n",
       " 'während',\n",
       " 'war',\n",
       " 'waren',\n",
       " 'warst',\n",
       " 'was',\n",
       " 'weg',\n",
       " 'weil',\n",
       " 'weiter',\n",
       " 'welche',\n",
       " 'welchem',\n",
       " 'welchen',\n",
       " 'welcher',\n",
       " 'welches',\n",
       " 'wenn',\n",
       " 'werde',\n",
       " 'werden',\n",
       " 'wie',\n",
       " 'wieder',\n",
       " 'will',\n",
       " 'wir',\n",
       " 'wird',\n",
       " 'wirst',\n",
       " 'wo',\n",
       " 'wollen',\n",
       " 'wollte',\n",
       " 'würde',\n",
       " 'würden',\n",
       " 'zu',\n",
       " 'zum',\n",
       " 'zur',\n",
       " 'zwar',\n",
       " 'zwischen']"
      ]
     },
     "execution_count": 61,
     "metadata": {},
     "output_type": "execute_result"
    }
   ],
   "source": [
    "mylist = stopwords.words('german')\n",
    "mylist"
   ]
  },
  {
   "cell_type": "code",
   "execution_count": 63,
   "metadata": {},
   "outputs": [
    {
     "data": {
      "text/plain": [
       "['eurer',\n",
       " 'hinter',\n",
       " 'solches',\n",
       " 'wir',\n",
       " 'hin',\n",
       " 'würden',\n",
       " 'denselben',\n",
       " 'dich',\n",
       " 'eure',\n",
       " 'manche',\n",
       " 'ihnen',\n",
       " 'demselben',\n",
       " 'sehr',\n",
       " 'jeder',\n",
       " 'bei',\n",
       " 'können',\n",
       " 'wo',\n",
       " 'ob',\n",
       " 'meinem',\n",
       " 'gewesen',\n",
       " 'mich',\n",
       " 'solche',\n",
       " 'werde',\n",
       " 'wollen',\n",
       " 'seine',\n",
       " 'derselbe',\n",
       " 'seines',\n",
       " 'einige',\n",
       " 'ihrer',\n",
       " 'nur',\n",
       " 'anderr',\n",
       " 'welchen',\n",
       " 'anderes',\n",
       " 'jedes',\n",
       " 'einigem',\n",
       " 'sie',\n",
       " 'zu',\n",
       " 'manches',\n",
       " 'mein',\n",
       " 'am',\n",
       " 'hat',\n",
       " 'könnte',\n",
       " 'manchem',\n",
       " 'dem',\n",
       " 'deinen',\n",
       " 'vor',\n",
       " 'was',\n",
       " 'dazu',\n",
       " 'damit',\n",
       " 'zwar',\n",
       " 'unseres',\n",
       " 'zwischen',\n",
       " 'an',\n",
       " 'jenem',\n",
       " 'ihres',\n",
       " 'keine',\n",
       " 'seinen',\n",
       " 'ihm',\n",
       " 'im',\n",
       " 'jedem',\n",
       " 'jenes',\n",
       " 'deines',\n",
       " 'meine',\n",
       " 'dieses',\n",
       " 'ihn',\n",
       " 'waren',\n",
       " 'diese',\n",
       " 'sondern',\n",
       " 'welches',\n",
       " 'jener',\n",
       " 'derer',\n",
       " 'sonst',\n",
       " 'solchen',\n",
       " 'weg',\n",
       " 'oder',\n",
       " 'durch',\n",
       " 'desselben',\n",
       " 'seinem',\n",
       " 'sind',\n",
       " 'etwas',\n",
       " 'den',\n",
       " 'zur',\n",
       " 'einiger',\n",
       " 'einiges',\n",
       " 'wie',\n",
       " 'muss',\n",
       " 'um',\n",
       " 'viel',\n",
       " 'deinem',\n",
       " 'jenen',\n",
       " 'derselben',\n",
       " 'seiner',\n",
       " 'allem',\n",
       " 'wieder',\n",
       " 'weiter',\n",
       " 'diesen',\n",
       " 'dieser',\n",
       " 'habe',\n",
       " 'dein',\n",
       " 'keinen',\n",
       " 'warst',\n",
       " 'andern',\n",
       " 'solchem',\n",
       " 'welchem',\n",
       " 'kein',\n",
       " 'uns',\n",
       " 'ihren',\n",
       " 'eurem',\n",
       " 'einen',\n",
       " 'nichts',\n",
       " 'ohne',\n",
       " 'während',\n",
       " 'wirst',\n",
       " 'haben',\n",
       " 'sein',\n",
       " 'doch',\n",
       " 'als',\n",
       " 'auch',\n",
       " 'sollte',\n",
       " 'dir',\n",
       " 'also',\n",
       " 'würde',\n",
       " 'deiner',\n",
       " 'war',\n",
       " 'das',\n",
       " 'aber',\n",
       " 'aus',\n",
       " 'einem',\n",
       " 'keiner',\n",
       " 'gegen',\n",
       " 'der',\n",
       " 'ins',\n",
       " 'bist',\n",
       " 'will',\n",
       " 'eines',\n",
       " 'jede',\n",
       " 'welcher',\n",
       " 'aller',\n",
       " 'meinen',\n",
       " 'ander',\n",
       " 'dann',\n",
       " 'ein',\n",
       " 'sich',\n",
       " 'andere',\n",
       " 'anderem',\n",
       " 'es',\n",
       " 'euer',\n",
       " 'anders',\n",
       " 'keines',\n",
       " 'euren',\n",
       " 'dort',\n",
       " 'kann',\n",
       " 'mancher',\n",
       " 'euch',\n",
       " 'unsere',\n",
       " 'bis',\n",
       " 'alle',\n",
       " 'unser',\n",
       " 'meiner',\n",
       " 'bin',\n",
       " 'anderm',\n",
       " 'dass',\n",
       " 'machen',\n",
       " 'da',\n",
       " 'dasselbe',\n",
       " 'du',\n",
       " 'jeden',\n",
       " 'alles',\n",
       " 'und',\n",
       " 'ihrem',\n",
       " 'jene',\n",
       " 'so',\n",
       " 'noch',\n",
       " 'vom',\n",
       " 'dieselben',\n",
       " 'einigen',\n",
       " 'man',\n",
       " 'werden',\n",
       " 'allen',\n",
       " 'einig',\n",
       " 'dies',\n",
       " 'dieselbe',\n",
       " 'selbst',\n",
       " 'soll',\n",
       " 'ihr',\n",
       " 'ihre',\n",
       " 'indem',\n",
       " 'anderen',\n",
       " 'wird',\n",
       " 'musste',\n",
       " 'jetzt',\n",
       " 'nach',\n",
       " 'zum',\n",
       " 'daß',\n",
       " 'dessen',\n",
       " 'hier',\n",
       " 'solcher',\n",
       " 'nicht',\n",
       " 'nun',\n",
       " 'die',\n",
       " 'mir',\n",
       " 'denn',\n",
       " 'keinem',\n",
       " 'in',\n",
       " 'weil',\n",
       " 'mit',\n",
       " 'auf',\n",
       " 'für',\n",
       " 'meines',\n",
       " 'des',\n",
       " 'deine',\n",
       " 'manchen',\n",
       " 'von',\n",
       " 'wollte',\n",
       " 'eine',\n",
       " 'hatte',\n",
       " 'über',\n",
       " 'eures',\n",
       " 'wenn',\n",
       " 'einer',\n",
       " 'hab',\n",
       " 'hatten',\n",
       " 'er',\n",
       " 'einmal',\n",
       " 'unserem',\n",
       " 'unter',\n",
       " 'unseren',\n",
       " 'welche',\n",
       " 'diesem',\n",
       " 'anderer',\n",
       " 'ist']"
      ]
     },
     "execution_count": 63,
     "metadata": {},
     "output_type": "execute_result"
    }
   ],
   "source": [
    "mylist_new_list = list(set(mylist)- set([\"ich\", \"dich\"])) # kann mehrere wörter entfernen\n",
    "mylist_new_list"
   ]
  },
  {
   "cell_type": "code",
   "execution_count": null,
   "metadata": {},
   "outputs": [],
   "source": []
  },
  {
   "cell_type": "code",
   "execution_count": 64,
   "metadata": {},
   "outputs": [],
   "source": [
    "mylist = stopwords.words('german')"
   ]
  },
  {
   "cell_type": "code",
   "execution_count": 80,
   "metadata": {},
   "outputs": [
    {
     "data": {
      "text/plain": [
       "[u'andere',\n",
       " u'unseres',\n",
       " u'euch',\n",
       " u'anderm',\n",
       " u'andern',\n",
       " u'das',\n",
       " u'w\\xfcrde',\n",
       " u'w\\xe4hrend',\n",
       " u'sollte',\n",
       " u'selbst',\n",
       " u'anderr',\n",
       " u'anders',\n",
       " u'dem',\n",
       " u'aber',\n",
       " u'unserem',\n",
       " u'als',\n",
       " u'unseren',\n",
       " u'alle',\n",
       " u'dessen',\n",
       " u'machen',\n",
       " u'dazu',\n",
       " u'auf',\n",
       " u'dich',\n",
       " u'hab',\n",
       " u'demselben',\n",
       " u'aus',\n",
       " u'einige',\n",
       " u'derselbe',\n",
       " u'indem',\n",
       " u'hatte',\n",
       " u'hat',\n",
       " u'sich',\n",
       " u'bin',\n",
       " u'musste',\n",
       " u'sie',\n",
       " u'mein',\n",
       " u'deine',\n",
       " u'ihnen',\n",
       " u'deinem',\n",
       " u'deinen',\n",
       " u'allen',\n",
       " u'deines',\n",
       " u'deiner',\n",
       " u'einmal',\n",
       " u'dasselbe',\n",
       " u'du',\n",
       " u'bis',\n",
       " u'hin',\n",
       " u'wenn',\n",
       " u'viel',\n",
       " u'keiner',\n",
       " u'keines',\n",
       " u'die',\n",
       " u'warst',\n",
       " u'w\\xfcrden',\n",
       " u'haben',\n",
       " u'doch',\n",
       " u'nichts',\n",
       " u'keinem',\n",
       " u'keinen',\n",
       " u'anderem',\n",
       " u'dir',\n",
       " u'eine',\n",
       " u'kann',\n",
       " u'solcher',\n",
       " u'nur',\n",
       " u'hinter',\n",
       " u'eurer',\n",
       " u'werden',\n",
       " u'solchen',\n",
       " u'es',\n",
       " u'er',\n",
       " u'um',\n",
       " u'ohne',\n",
       " u'einem',\n",
       " u'meinen',\n",
       " u'diesem',\n",
       " u'diesen',\n",
       " u'meinem',\n",
       " u'meiner',\n",
       " u'meines',\n",
       " u'dieser',\n",
       " u'dieses',\n",
       " u'sonst',\n",
       " u'werde',\n",
       " u'dein',\n",
       " u'jede',\n",
       " u'denselben',\n",
       " u'vom',\n",
       " u'dort',\n",
       " u'soll',\n",
       " u'jeden',\n",
       " u'jedem',\n",
       " u'diese',\n",
       " u'wo',\n",
       " u'seine',\n",
       " u'wirst',\n",
       " u'auch',\n",
       " u'weil',\n",
       " u'jedes',\n",
       " u'jeder',\n",
       " u'habe',\n",
       " u'weiter',\n",
       " u'zur',\n",
       " u'uns',\n",
       " u'bist',\n",
       " u'ob',\n",
       " u'ist',\n",
       " u'k\\xf6nnte',\n",
       " u'ander',\n",
       " u'und',\n",
       " u'einig',\n",
       " u'da\\xdf',\n",
       " u'zum',\n",
       " u'solches',\n",
       " u'wie',\n",
       " u'einer',\n",
       " u'eines',\n",
       " u'ihr',\n",
       " u'nach',\n",
       " u'gewesen',\n",
       " u'desselben',\n",
       " u'ihn',\n",
       " u'wir',\n",
       " u'ihm',\n",
       " u'einen',\n",
       " u'alles',\n",
       " u'f\\xfcr',\n",
       " u'jene',\n",
       " u'sind',\n",
       " u'jenem',\n",
       " u'welches',\n",
       " u'jenen',\n",
       " u'einiger',\n",
       " u'einiges',\n",
       " u'oder',\n",
       " u'weg',\n",
       " u'einigem',\n",
       " u'damit',\n",
       " u'euer',\n",
       " u'dieselbe',\n",
       " u'was',\n",
       " u'war',\n",
       " u'sondern',\n",
       " u'jener',\n",
       " u'einigen',\n",
       " u'unsere',\n",
       " u'mich',\n",
       " u'muss',\n",
       " u'an',\n",
       " u'nun',\n",
       " u'bei',\n",
       " u'welchem',\n",
       " u'der',\n",
       " u'des',\n",
       " u'nicht',\n",
       " u'will',\n",
       " u'dann',\n",
       " u'jenes',\n",
       " u'den',\n",
       " u'welchen',\n",
       " u'sein',\n",
       " u'ein',\n",
       " u'ihre',\n",
       " u'seinem',\n",
       " u'seinen',\n",
       " u'keine',\n",
       " u'wieder',\n",
       " u'aller',\n",
       " u'noch',\n",
       " u'wollen',\n",
       " u'von',\n",
       " u'gegen',\n",
       " u'am',\n",
       " u'ins',\n",
       " u'\\xfcber',\n",
       " u'im',\n",
       " u'zwischen',\n",
       " u'vor',\n",
       " u'in',\n",
       " u'welcher',\n",
       " u'allem',\n",
       " u'welche',\n",
       " u'ihren',\n",
       " u'seiner',\n",
       " u'seines',\n",
       " u'anderer',\n",
       " u'anderes',\n",
       " u'unter',\n",
       " u'manchem',\n",
       " u'wollte',\n",
       " u'manchen',\n",
       " u'k\\xf6nnen',\n",
       " u'also',\n",
       " u'manches',\n",
       " u'mancher',\n",
       " u'dieselben',\n",
       " u'solchem',\n",
       " u'waren',\n",
       " u'zu',\n",
       " u'hier',\n",
       " u'mir',\n",
       " u'anderen',\n",
       " u'mit',\n",
       " u'durch',\n",
       " u'manche',\n",
       " u'eures',\n",
       " u'zwar',\n",
       " u'dies',\n",
       " u'wird',\n",
       " u'jetzt',\n",
       " u'etwas',\n",
       " u'derselben',\n",
       " u'eure',\n",
       " u'euren',\n",
       " u'eurem',\n",
       " u'ihres',\n",
       " u'man',\n",
       " u'ihrem',\n",
       " u'kein',\n",
       " u'sehr',\n",
       " u'meine',\n",
       " u'hatten',\n",
       " u'so',\n",
       " u'denn',\n",
       " u'da',\n",
       " u'derer',\n",
       " u'unser',\n",
       " u'solche',\n",
       " u'ihrer']"
      ]
     },
     "execution_count": 80,
     "metadata": {},
     "output_type": "execute_result"
    }
   ],
   "source": [
    "my_new_list = list(set(mylist)- set([\"ich\"]))\n",
    "my_new_list"
   ]
  },
  {
   "cell_type": "code",
   "execution_count": 82,
   "metadata": {},
   "outputs": [
    {
     "data": {
      "text/plain": [
       "['wald', 'spazieren']"
      ]
     },
     "execution_count": 82,
     "metadata": {},
     "output_type": "execute_result"
    }
   ],
   "source": [
    "words_german = [\"ich\", \"war\", \"im\", \"wald\", \"spazieren\"]\n",
    "filtered_words = [word for word in words_german if word not in stopwords.words('german')]\n",
    "filtered_words"
   ]
  },
  {
   "cell_type": "markdown",
   "metadata": {},
   "source": [
    "## Wordle 2.0"
   ]
  },
  {
   "cell_type": "markdown",
   "metadata": {},
   "source": [
    "- Tokenization\n",
    "- Lemmatization"
   ]
  },
  {
   "cell_type": "code",
   "execution_count": 91,
   "metadata": {},
   "outputs": [],
   "source": [
    "text = (\" \").join(udhr.words(\"German_Deutsch-Latin1\"))\n",
    "# tokenize and lemmatize\n",
    "words = word_tokenize(text)\n",
    "words_german =[word.lower() for word in words if word.isalpha()]\n",
    "lemma = nltk.WordNetLemmatizer()  # besser mit Textblob\n",
    "lemmas = [lemma.lemmatize(i) for i in words_german]\n",
    "clean_blob = lemmas"
   ]
  },
  {
   "cell_type": "markdown",
   "metadata": {},
   "source": [
    "- Numbers etc.. removal\n",
    "- Stop word removal"
   ]
  },
  {
   "cell_type": "code",
   "execution_count": 97,
   "metadata": {},
   "outputs": [
    {
     "data": {
      "text/plain": [
       "[u'allgemeine',\n",
       " u'erkl\\xe4rung',\n",
       " u'menschenrechte',\n",
       " u'resolution',\n",
       " u'a',\n",
       " u'iii',\n",
       " u'pr\\xe4ambel',\n",
       " u'anerkennung',\n",
       " u'angeborenen',\n",
       " u'gleichen',\n",
       " u'unver\\xe4u\\xdferlichen',\n",
       " u'rechte',\n",
       " u'mitglieder',\n",
       " u'gemeinschaft',\n",
       " u'menschen',\n",
       " u'grundlage',\n",
       " u'freiheit',\n",
       " u'gerechtigkeit',\n",
       " u'frieden',\n",
       " u'welt']"
      ]
     },
     "execution_count": 97,
     "metadata": {},
     "output_type": "execute_result"
    }
   ],
   "source": [
    "from nltk.corpus import stopwords\n",
    "words_alpha =[word.lower() for word in clean_blob if word.isalpha()]\n",
    "stopwords = stopwords.words('german')\n",
    "stopwords.append(\"jede\")\n",
    "result = [word for word in words_alpha if word not in stopwords]\n",
    "result[0:20]"
   ]
  },
  {
   "cell_type": "code",
   "execution_count": 99,
   "metadata": {},
   "outputs": [
    {
     "data": {
      "text/plain": [
       "[u'allgemeine',\n",
       " u'erkl\\xe4rung',\n",
       " u'menschenrechte',\n",
       " u'resolution',\n",
       " u'a',\n",
       " u'iii',\n",
       " u'pr\\xe4ambel',\n",
       " u'anerkennung',\n",
       " u'angeborenen',\n",
       " u'gleichen',\n",
       " u'unver\\xe4u\\xdferlichen',\n",
       " u'rechte',\n",
       " u'mitglieder',\n",
       " u'gemeinschaft',\n",
       " u'menschen',\n",
       " u'grundlage',\n",
       " u'freiheit',\n",
       " u'gerechtigkeit',\n",
       " u'frieden',\n",
       " u'welt']"
      ]
     },
     "execution_count": 99,
     "metadata": {},
     "output_type": "execute_result"
    }
   ],
   "source": [
    "result[0:20]"
   ]
  },
  {
   "cell_type": "code",
   "execution_count": 100,
   "metadata": {},
   "outputs": [],
   "source": [
    "text = (\" \").join(result)"
   ]
  },
  {
   "cell_type": "code",
   "execution_count": 106,
   "metadata": {},
   "outputs": [],
   "source": [
    " a = [123,\n",
    "     123]"
   ]
  },
  {
   "cell_type": "code",
   "execution_count": 66,
   "metadata": {},
   "outputs": [
    {
     "data": {
      "image/png": "[encoded data removed]",
      "text/plain": [
       "<Figure size 1080x576 with 1 Axes>"
      ]
     },
     "metadata": {
      "needs_background": "light"
     },
     "output_type": "display_data"
    }
   ],
   "source": [
    "%matplotlib inline\n",
    "from wordcloud import WordCloud\n",
    "import matplotlib.pyplot as plt\n",
    "import numpy as np\n",
    "from PIL import Image\n",
    "import os\n",
    "from os import path\n",
    "d = path.dirname(__file__) if \"__file__\" in locals() else os.getcwd()\n",
    "\n",
    "maske = np.array(Image.open(path.join(d, \"maske.png\")))\n",
    "\n",
    "wc = WordCloud(background_color=\"white\", max_words=2000, mask=maske, contour_width=3, contour_color='steelblue',collocations=False, normalize_plurals=False)\n",
    "wc.generate(text)\n",
    "plt.figure(figsize=(15,8))\n",
    "plt.imshow(wc, interpolation=\"bilinear\")\n",
    "plt.axis(\"off\")\n",
    "plt.show()"
   ]
  },
  {
   "cell_type": "code",
   "execution_count": null,
   "metadata": {},
   "outputs": [],
   "source": []
  }
 ],
 "metadata": {
  "kernelspec": {
   "display_name": "Python 3",
   "language": "python",
   "name": "python3"
  },
  "language_info": {
   "codemirror_mode": {
    "name": "ipython",
    "version": 3
   },
   "file_extension": ".py",
   "mimetype": "text/x-python",
   "name": "python",
   "nbconvert_exporter": "python",
   "pygments_lexer": "ipython3",
   "version": "3.7.3"
  }
 },
 "nbformat": 4,
 "nbformat_minor": 2
}
