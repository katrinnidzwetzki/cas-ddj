{
 "cells": [
  {
   "cell_type": "code",
   "execution_count": 6,
   "metadata": {},
   "outputs": [],
   "source": [
    "import camelot\n",
    "import tabula\n",
    "import pandas as pd"
   ]
  },
  {
   "cell_type": "markdown",
   "metadata": {},
   "source": [
    "### Die Dokumentation ist hier"
   ]
  },
  {
   "cell_type": "markdown",
   "metadata": {},
   "source": [
    "Hier ist die Dokumentation von [Camelot](https://camelot-py.readthedocs.io/en/master/)"
   ]
  },
  {
   "cell_type": "markdown",
   "metadata": {},
   "source": [
    "### Wir arbeiten mit den Unfällen, die Sandra interessieren"
   ]
  },
  {
   "cell_type": "code",
   "execution_count": 4,
   "metadata": {},
   "outputs": [
    {
     "data": {
      "text/plain": [
       "<TableList n=0>"
      ]
     },
     "execution_count": 4,
     "metadata": {},
     "output_type": "execute_result"
    }
   ],
   "source": [
    "#Kein Resultat \n",
    "tables = camelot.read_pdf('https://www.police.be.ch/police/de/index/ueber-uns/kantonspolizei/statistik/Verkehrsstatistik.assetref/dam/documents/POM/Police/de/Statistik/Bericht_110%20ohne%20AB_AS%20Gemeinden-Stand%202018%20%28D%29.pdf', pages = \"1\") \n",
    "tables\n",
    "#Ansteuern können wir die Tabelle auch mit der url selber:\n",
    "#https://www.police.be.ch/police/de/index/ueber-uns/kantonspolizei/statistik/Verkehrsstatistik.assetref/dam/documents/POM/Police/de/Statistik/Bericht_110%20ohne%20AB_AS%20Gemeinden-Stand%202018%20%28D%29.pdf"
   ]
  },
  {
   "cell_type": "code",
   "execution_count": null,
   "metadata": {},
   "outputs": [],
   "source": [
    "#Kein Resultat\n",
    "tables = camelot.read_pdf('https://www.police.be.ch/police/de/index/ueber-uns/kantonspolizei/statistik/Verkehrsstatistik.assetref/dam/documents/POM/Police/de/Statistik/Bericht_110%20ohne%20AB_AS%20Gemeinden-Stand%202018%20%28D%29.pdf', flavor='lattice', pages = \"1\") \n",
    "tables"
   ]
  },
  {
   "cell_type": "code",
   "execution_count": null,
   "metadata": {},
   "outputs": [],
   "source": [
    "#Resultat, hurrah!\n",
    "tables = camelot.read_pdf('https://www.police.be.ch/police/de/index/ueber-uns/kantonspolizei/statistik/Verkehrsstatistik.assetref/dam/documents/POM/Police/de/Statistik/Bericht_110%20ohne%20AB_AS%20Gemeinden-Stand%202018%20%28D%29.pdf', flavor='stream', pages = \"1\") \n",
    "tables"
   ]
  },
  {
   "cell_type": "code",
   "execution_count": null,
   "metadata": {},
   "outputs": [],
   "source": [
    "#hmm, Aber nur mit einer unvollständigen Tabelle :-/\n",
    "tables[0].df"
   ]
  },
  {
   "cell_type": "code",
   "execution_count": null,
   "metadata": {},
   "outputs": [],
   "source": [
    "#Wir müssen dem Code sagen, wo er überall nachschauen muss. Nämlich auf der ganzen Seite.\n",
    "tables_stream = camelot.read_pdf(\"https://www.police.be.ch/police/de/index/ueber-uns/kantonspolizei/statistik/Verkehrsstatistik.assetref/dam/documents/POM/Police/de/Statistik/Bericht_110%20ohne%20AB_AS%20Gemeinden-Stand%202018%20%28D%29.pdf\", flavor='stream', pages='all', table_areas=['0,842,595,0'])"
   ]
  },
  {
   "cell_type": "markdown",
   "metadata": {},
   "source": [
    "## Datenbereinigung "
   ]
  },
  {
   "cell_type": "code",
   "execution_count": null,
   "metadata": {},
   "outputs": [],
   "source": [
    "# Nun müssen alle Tabelln zusammengeführt werden. Aber wie soll eine einzelne aussehen?\n",
    "test_df = tables_stream[3].df"
   ]
  },
  {
   "cell_type": "code",
   "execution_count": null,
   "metadata": {},
   "outputs": [],
   "source": [
    "#Ab der 8 Zeile\n",
    "data = test_df[9:]"
   ]
  },
  {
   "cell_type": "code",
   "execution_count": null,
   "metadata": {},
   "outputs": [],
   "source": [
    "headers = ['Gemeinde', 'Sachschaden', 'Personenschaden', 'Getötete', \n",
    "           'Schwerverletzte', 'Lebensbedrohlich Verletzte', \n",
    "           'Erheblich Verletzte', 'Leichtverletzte']"
   ]
  },
  {
   "cell_type": "code",
   "execution_count": null,
   "metadata": {},
   "outputs": [],
   "source": [
    "data.columns = headers"
   ]
  },
  {
   "cell_type": "code",
   "execution_count": null,
   "metadata": {},
   "outputs": [],
   "source": [
    "data.head()"
   ]
  },
  {
   "cell_type": "markdown",
   "metadata": {},
   "source": [
    "### Und nun hängen wir alls zusammen"
   ]
  },
  {
   "cell_type": "code",
   "execution_count": null,
   "metadata": {},
   "outputs": [],
   "source": [
    "#eine leere df bauen\n",
    "ff = pd.DataFrame()\n",
    "headers = ['Gemeinde', 'Sachschaden', 'Personenschaden', 'Getötete', \n",
    "           'Schwerverletzte', 'Lebensbedrohlich Verletzte', \n",
    "           'Erheblich Verletzte', 'Leichtverletzte']\n",
    "\n",
    "#Und nun durch alles iterieren\n",
    "#https://pandas.pydata.org/pandas-docs/stable/user_guide/merging.html\n",
    "for number in range(0,8):\n",
    "    temp = tables_stream[number].df #\n",
    "    temp = temp[9:]\n",
    "    temp.columns = headers\n",
    "    frames = [ff, temp]\n",
    "    ff = pd.concat(frames)"
   ]
  },
  {
   "cell_type": "code",
   "execution_count": null,
   "metadata": {},
   "outputs": [],
   "source": [
    "ff.info()"
   ]
  },
  {
   "cell_type": "code",
   "execution_count": null,
   "metadata": {},
   "outputs": [],
   "source": [
    "## Mit leeren Strings umgehen\n",
    "def clean(elem):\n",
    "    if elem == \"\":\n",
    "        return 0\n",
    "    else:\n",
    "        return elem\n",
    "ff = ff.applymap(clean)"
   ]
  },
  {
   "cell_type": "code",
   "execution_count": null,
   "metadata": {},
   "outputs": [],
   "source": [
    "## Die Gemeinden zwischenzeitlich löschen und dann wieder reinnehmen bei der Umwandlung in Zahlen\n",
    "gem = ff['Gemeinde'] \n",
    "del ff['Gemeinde']\n",
    "ff = ff.astype(int)\n",
    "ff['Gemeinde'] = gem\n",
    "ff = ff[['Gemeinde', 'Sachschaden', 'Personenschaden', 'Getötete', \n",
    "           'Schwerverletzte', 'Lebensbedrohlich Verletzte', \n",
    "           'Erheblich Verletzte', 'Leichtverletzte']].copy() ##Reihenfolge"
   ]
  },
  {
   "cell_type": "code",
   "execution_count": null,
   "metadata": {},
   "outputs": [],
   "source": [
    "#index anpassen\n",
    "ff = ff.reset_index()\n",
    "del ff['index']"
   ]
  },
  {
   "cell_type": "code",
   "execution_count": null,
   "metadata": {},
   "outputs": [],
   "source": [
    "ff"
   ]
  },
  {
   "cell_type": "code",
   "execution_count": null,
   "metadata": {},
   "outputs": [],
   "source": [
    "ff.sort_values(by='Sachschaden', ascending=False)"
   ]
  }
 ],
 "metadata": {
  "kernelspec": {
   "display_name": "Python 3",
   "language": "python",
   "name": "python3"
  },
  "language_info": {
   "codemirror_mode": {
    "name": "ipython",
    "version": 3
   },
   "file_extension": ".py",
   "mimetype": "text/x-python",
   "name": "python",
   "nbconvert_exporter": "python",
   "pygments_lexer": "ipython3",
   "version": "3.7.3"
  }
 },
 "nbformat": 4,
 "nbformat_minor": 2
}
