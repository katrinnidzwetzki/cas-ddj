{
 "cells": [
  {
   "cell_type": "markdown",
   "metadata": {},
   "source": [
    "https://realpython.com/python-send-email/"
   ]
  },
  {
   "cell_type": "code",
   "execution_count": null,
   "metadata": {},
   "outputs": [],
   "source": []
  },
  {
   "cell_type": "code",
   "execution_count": null,
   "metadata": {},
   "outputs": [],
   "source": []
  },
  {
   "cell_type": "markdown",
   "metadata": {},
   "source": [
    "https://stackoverflow.com/questions/48019851/sending-email-from-python"
   ]
  },
  {
   "cell_type": "code",
   "execution_count": null,
   "metadata": {},
   "outputs": [],
   "source": [
    "import smtplib \n",
    "import email\n",
    "from email.MIMEMultipart import MIMEMultipart\n",
    "from email.Utils import COMMASPACE\n",
    "from email.MIMEBase import MIMEBase\n",
    "from email.parser import Parser\n",
    "from email.MIMEImage import MIMEImage\n",
    "from email.MIMEText import MIMEText\n",
    "from email.MIMEAudio import MIMEAudio\n",
    "import mimetypes\n",
    "\n",
    "def send(user, password, fromaddr, to, subject, body):\n",
    "smtp_host = 'smtp.gmail.com'\n",
    "smtp_port = 587\n",
    "server = smtplib.SMTP()\n",
    "server.connect(smtp_host,smtp_port)\n",
    "server.ehlo()\n",
    "server.starttls()\n",
    "server.login(user, password)\n",
    "\n",
    "msg = email.MIMEMultipart.MIMEMultipart()\n",
    "msg['From'] = fromaddr\n",
    "msg['To'] = email.Utils.COMMASPACE.join(to)\n",
    "msg['Subject'] = subject\n",
    "msg.attach(MIMEText(body))\n",
    "server.sendmail(user,to,msg.as_string())"
   ]
  },
  {
   "cell_type": "markdown",
   "metadata": {},
   "source": []
  },
  {
   "cell_type": "markdown",
   "metadata": {},
   "source": [
    "https://stackoverflow.com/questions/39487103/how-to-send-email-from-python"
   ]
  },
  {
   "cell_type": "code",
   "execution_count": null,
   "metadata": {},
   "outputs": [],
   "source": [
    "import socket\n",
    "import sys\n",
    "import smtplib\n",
    "EMAIL_TO = [\"rajiv@domain.com\"]\n",
    "EMAIL_FROM = \"rajiv@domain.com\"\n",
    "EMAIL_SUBJECT = \"Test Mail... \"\n",
    "msg= {}\n",
    "EMAIL_SPACE = \", \"\n",
    "\n",
    "\n",
    "\n",
    "msg['Subject'] = EMAIL_SUBJECT \n",
    "msg['To'] = EMAIL_SPACE.join(EMAIL_TO)\n",
    "msg['From'] = EMAIL_FROM\n",
    "try:\n",
    "    mail = smtplib.SMTP_SSL('smtp.bizmail.yahoo.com',465)\n",
    "    # \n",
    "    # if you are using gmail then  use\n",
    "    #   smtplib.SMTP_SSL('smtp.gmail.com',587)\n",
    "    #\n",
    "    mail.login(\"rajiv@domain.com\", 'password')   # you account email password..\n",
    "    mail.sendmail(\"rajiv@domain.com\", EMAIL_TO, msg.as_string())   \n",
    "    mail.quit()\n",
    "except Exception,e:\n",
    "    print e\n",
    "finally:\n",
    "    print \"Error of email sending mail\""
   ]
  },
  {
   "cell_type": "code",
   "execution_count": null,
   "metadata": {},
   "outputs": [],
   "source": []
  },
  {
   "cell_type": "markdown",
   "metadata": {},
   "source": [
    "Yagmail\n",
    "There are multiple libraries designed to make sending emails easier, such as Envelopes, Flanker and Yagmail. Yagmail is designed to work specifically with Gmail, and it greatly simplifies the process of sending emails through a friendly API, as you can see in the code example below:"
   ]
  },
  {
   "cell_type": "code",
   "execution_count": null,
   "metadata": {},
   "outputs": [],
   "source": [
    "import yagmail\n",
    "\n",
    "receiver = \"your@gmail.com\"\n",
    "body = \"Hello there from Yagmail\"\n",
    "filename = \"document.pdf\"\n",
    "\n",
    "yag = yagmail.SMTP(\"my@gmail.com\")\n",
    "yag.send(\n",
    "    to=receiver,\n",
    "    subject=\"Yagmail test with attachment\",\n",
    "    contents=body, \n",
    "    attachments=filename,\n",
    ")"
   ]
  },
  {
   "cell_type": "code",
   "execution_count": null,
   "metadata": {},
   "outputs": [],
   "source": []
  }
 ],
 "metadata": {
  "kernelspec": {
   "display_name": "Python 3",
   "language": "python",
   "name": "python3"
  },
  "language_info": {
   "codemirror_mode": {
    "name": "ipython",
    "version": 3
   },
   "file_extension": ".py",
   "mimetype": "text/x-python",
   "name": "python",
   "nbconvert_exporter": "python",
   "pygments_lexer": "ipython3",
   "version": "3.7.3"
  }
 },
 "nbformat": 4,
 "nbformat_minor": 2
}
