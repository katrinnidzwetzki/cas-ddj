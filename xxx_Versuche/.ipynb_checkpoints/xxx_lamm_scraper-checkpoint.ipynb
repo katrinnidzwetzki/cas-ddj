{
 "cells": [
  {
   "cell_type": "code",
   "execution_count": null,
   "metadata": {},
   "outputs": [],
   "source": [
    "#scraper für server\n",
    "import requests\n",
    "from bs4 import BeautifulSoup\n",
    "import pandas as pd\n",
    "from datetime import datetime\n",
    "now = datetime.now()\n",
    "url = \"https://daslamm.ch/\"\n",
    "r = requests.get(url)\n",
    "soup = BeautifulSoup(r.content, 'lxml')\n",
    "titles = soup.find_all('h2')\n",
    "lst = []\n",
    "for title in titles:\n",
    "   lst.append(title.text)\n",
    "pd.DataFrame(lst).to_csv(str(now)+'header.csv')\n"
   ]
  },
  {
   "cell_type": "code",
   "execution_count": null,
   "metadata": {},
   "outputs": [],
   "source": [
    "### scraper in terminal installieren\n",
    "#python3 FILENAME.py\n",
    "\n"
   ]
  },
  {
   "cell_type": "code",
   "execution_count": null,
   "metadata": {},
   "outputs": [],
   "source": []
  },
  {
   "cell_type": "code",
   "execution_count": null,
   "metadata": {},
   "outputs": [],
   "source": []
  }
 ],
 "metadata": {
  "kernelspec": {
   "display_name": "Python 3",
   "language": "python",
   "name": "python3"
  },
  "language_info": {
   "codemirror_mode": {
    "name": "ipython",
    "version": 3
   },
   "file_extension": ".py",
   "mimetype": "text/x-python",
   "name": "python",
   "nbconvert_exporter": "python",
   "pygments_lexer": "ipython3",
   "version": "3.7.3"
  }
 },
 "nbformat": 4,
 "nbformat_minor": 2
}
