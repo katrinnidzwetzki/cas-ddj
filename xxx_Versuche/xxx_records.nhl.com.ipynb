{
 "cells": [
  {
   "cell_type": "code",
   "execution_count": null,
   "metadata": {},
   "outputs": [],
   "source": [
    "#https://records.nhl.com/records/skater-records/seasons-and-games/most-seasons"
   ]
  },
  {
   "cell_type": "code",
   "execution_count": 2,
   "metadata": {},
   "outputs": [],
   "source": [
    "from selenium import webdriver\n",
    "from selenium.webdriver.common.keys import Keys\n",
    "from selenium.webdriver.common.by import By\n",
    "from selenium.webdriver.support.ui import Select\n",
    "import time\n",
    "import pandas as pd\n",
    "from bs4 import BeautifulSoup\n",
    "import random\n",
    "import requests"
   ]
  },
  {
   "cell_type": "code",
   "execution_count": 3,
   "metadata": {},
   "outputs": [],
   "source": [
    "driver = webdriver.Chrome(executable_path='/usr/bin/chromedriver')"
   ]
  },
  {
   "cell_type": "code",
   "execution_count": 4,
   "metadata": {},
   "outputs": [],
   "source": [
    "driver.get('https://records.nhl.com/records/skater-records/seasons-and-games/most-seasons')"
   ]
  },
  {
   "cell_type": "code",
   "execution_count": null,
   "metadata": {},
   "outputs": [],
   "source": []
  },
  {
   "cell_type": "code",
   "execution_count": 6,
   "metadata": {},
   "outputs": [],
   "source": [
    "nhl_page = driver.page_source.encode('utf-8')\n",
    "with open(\"nhl.htm\", \"wb+\") as file:\n",
    "    file.write(nhl_page)\n",
    "    file.close()"
   ]
  },
  {
   "cell_type": "code",
   "execution_count": 7,
   "metadata": {},
   "outputs": [],
   "source": [
    "#Seite öffnen und in bs einlesen\n",
    "file = open('nhl.htm', 'r')\n",
    "text = file.read()\n",
    "h = BeautifulSoup(text, 'html.parser')"
   ]
  },
  {
   "cell_type": "code",
   "execution_count": 8,
   "metadata": {},
   "outputs": [],
   "source": [
    "#player = h.find_all('div', {'class':'rt-td name left'})"
   ]
  },
  {
   "cell_type": "code",
   "execution_count": 10,
   "metadata": {},
   "outputs": [],
   "source": [
    "#player"
   ]
  },
  {
   "cell_type": "code",
   "execution_count": 12,
   "metadata": {},
   "outputs": [
    {
     "data": {
      "text/plain": [
       "[<div class=\"rt-td\" role=\"gridcell\" style=\"flex: 40 0 auto; width: 40px;\">1</div>,\n",
       " <div class=\"rt-td name left\" role=\"gridcell\" style=\"flex: 150 0 auto; width: 150px;\"><a class=\"\" href=\"https://www.nhl.com/player/chris-chelios-8446053\" target=\"_blank\">Chris Chelios</a></div>,\n",
       " <div class=\"rt-td\" role=\"gridcell\" style=\"flex: 100 0 auto; width: 100px;\">MTL, CHI, DET, ATL</div>,\n",
       " <div class=\"rt-td\" role=\"gridcell\" style=\"flex: 100 0 auto; width: 100px;\">1.651</div>,\n",
       " <div class=\"rt-td\" role=\"gridcell\" style=\"background: rgba(1, 131, 218, 0.3); border-bottom: 1px solid rgba(0, 0, 0, 0.02); flex: 100 0 auto; width: 100px;\">26</div>,\n",
       " <div class=\"rt-td\" role=\"gridcell\" style=\"flex: 100 0 auto; width: 100px;\">1983-84</div>,\n",
       " <div class=\"rt-td\" role=\"gridcell\" style=\"flex: 100 0 auto; width: 100px;\">2009-10</div>]"
      ]
     },
     "execution_count": 12,
     "metadata": {},
     "output_type": "execute_result"
    }
   ],
   "source": [
    "h.find_all('div', {'class':'rt-tr'})[1].find_all('div')"
   ]
  },
  {
   "cell_type": "code",
   "execution_count": null,
   "metadata": {},
   "outputs": [],
   "source": []
  },
  {
   "cell_type": "code",
   "execution_count": null,
   "metadata": {},
   "outputs": [],
   "source": []
  },
  {
   "cell_type": "code",
   "execution_count": null,
   "metadata": {},
   "outputs": [],
   "source": []
  }
 ],
 "metadata": {
  "kernelspec": {
   "display_name": "Python 3",
   "language": "python",
   "name": "python3"
  },
  "language_info": {
   "codemirror_mode": {
    "name": "ipython",
    "version": 3
   },
   "file_extension": ".py",
   "mimetype": "text/x-python",
   "name": "python",
   "nbconvert_exporter": "python",
   "pygments_lexer": "ipython3",
   "version": "3.7.3"
  }
 },
 "nbformat": 4,
 "nbformat_minor": 2
}
