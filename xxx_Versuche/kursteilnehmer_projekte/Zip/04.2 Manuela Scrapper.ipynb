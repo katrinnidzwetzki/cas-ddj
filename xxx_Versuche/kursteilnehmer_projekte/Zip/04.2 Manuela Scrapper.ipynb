{
 "cells": [
  {
   "cell_type": "markdown",
   "metadata": {},
   "source": [
    "# Scraper (Post-Request)"
   ]
  },
  {
   "cell_type": "markdown",
   "metadata": {},
   "source": [
    "Der Reihe nach:\n",
    "\n",
    "  * Url (mit post anstatt get) aufrufen.\n",
    "  * Dabei Post-Info senden\n",
    "  * Antwort als Json weiterverarbeiten.\n",
    "\n",
    "For-Loop:\n",
    "\n",
    "  * Mit einer For-Loop auf das Json-Array zugreifen\n",
    "  * In der Loop ein Dictionary mit den Angaben die mir interessieren aufsetzen\n",
    "  * & das Dictionary zu einer Liste hinzufügen.\n",
    "      * in der For-Loop die sub_url des Eintrags aufrufen (url + id)\n",
    "      * Mit BeautifulSoup auf die sub_page angucken & die Elemente \"legend\" abgreifen\n",
    "      * Das legend-Element das \"Herr\"/\"Frau\" enthält zum dictionary hinzufügen.\n",
    "\n",
    "Die fertige Liste mit Pandas angucken und freuen.\n"
   ]
  },
  {
   "cell_type": "code",
   "execution_count": 4,
   "metadata": {},
   "outputs": [],
   "source": [
    "import requests\n",
    "from bs4 import BeautifulSoup\n",
    "import pandas as pd"
   ]
  },
  {
   "cell_type": "code",
   "execution_count": 6,
   "metadata": {},
   "outputs": [
    {
     "ename": "NameError",
     "evalue": "name 'json' is not defined",
     "output_type": "error",
     "traceback": [
      "\u001b[0;31m---------------------------------------------------------------------------\u001b[0m",
      "\u001b[0;31mNameError\u001b[0m                                 Traceback (most recent call last)",
      "\u001b[0;32m<ipython-input-6-a2c73d1ae517>\u001b[0m in \u001b[0;36m<module>\u001b[0;34m\u001b[0m\n\u001b[1;32m     15\u001b[0m \u001b[0;34m\u001b[0m\u001b[0m\n\u001b[1;32m     16\u001b[0m \u001b[0mresponse\u001b[0m \u001b[0;34m=\u001b[0m \u001b[0mrequests\u001b[0m\u001b[0;34m.\u001b[0m\u001b[0mpost\u001b[0m\u001b[0;34m(\u001b[0m\u001b[0murl\u001b[0m\u001b[0;34m,\u001b[0m \u001b[0mdata\u001b[0m\u001b[0;34m=\u001b[0m\u001b[0mdata\u001b[0m\u001b[0;34m,\u001b[0m \u001b[0mcookies\u001b[0m\u001b[0;34m=\u001b[0m\u001b[0mcookies\u001b[0m\u001b[0;34m)\u001b[0m\u001b[0;34m\u001b[0m\u001b[0;34m\u001b[0m\u001b[0m\n\u001b[0;32m---> 17\u001b[0;31m \u001b[0mresponse_as_json\u001b[0m \u001b[0;34m=\u001b[0m \u001b[0mjson\u001b[0m\u001b[0;34m.\u001b[0m\u001b[0mloads\u001b[0m\u001b[0;34m(\u001b[0m\u001b[0mresponse\u001b[0m\u001b[0;34m.\u001b[0m\u001b[0mtext\u001b[0m\u001b[0;34m)\u001b[0m\u001b[0;34m\u001b[0m\u001b[0;34m\u001b[0m\u001b[0m\n\u001b[0m\u001b[1;32m     18\u001b[0m \u001b[0;34m\u001b[0m\u001b[0m\n\u001b[1;32m     19\u001b[0m \u001b[0;31m# For Loop\u001b[0m\u001b[0;34m\u001b[0m\u001b[0;34m\u001b[0m\u001b[0;34m\u001b[0m\u001b[0m\n",
      "\u001b[0;31mNameError\u001b[0m: name 'json' is not defined"
     ]
    }
   ],
   "source": [
    "# Sachen vorbereiten\n",
    "\n",
    "data = {'page': '1',\n",
    "        'pageSize': '50',   #'1593',  <- Für vollständigen Datensatz\n",
    "        'mainSearchText': '*'\n",
    "       }\n",
    "\n",
    "cookies = {'ASP.NET_SessionId': 'nt4pmcae3gesz4kk41h2lang'}\n",
    "\n",
    "url = 'http://appl.fr.ch/ate/Person/FilterGridWithIds'\n",
    "sub_base = 'http://appl.fr.ch/ate/Person/Detail/'\n",
    "\n",
    "\n",
    "# Zugriff auf die Webseite\n",
    "\n",
    "response = requests.post(url, data=data, cookies=cookies)\n",
    "response_as_json = json.loads(response.text)\n",
    "\n",
    "# For Loop\n",
    "\n",
    "verzeichnis = []\n",
    "\n",
    "for person in response_as_json['Data']:\n",
    "    thisperson = {}\n",
    "    thisperson['1 Name'] = person['DisplayName'] if not person['DisplayName'] is None else ''\n",
    "    thisperson['2 ID'] = person['Id'] if not person['Id'] is None else ''\n",
    "    thisperson['3 Email'] = person['Email'] if not person['Email'] is None else ''\n",
    "    thisperson['4 Direktion'] = person['Roles'][0]['DirectionName'] if not person['Roles'] is None and len(person['Roles']) > 0 else ''\n",
    "    thisperson['5 Sektion'] = person['UnitsDisplay'] if not person['UnitsDisplay'] is None else ''\n",
    "    thisperson['6 Abteilung'] = person['UnitsExports'] if not person['UnitsExports'] is None else ''\n",
    "    thisperson['7 Funktion'] = person['RolesDisplay'] if not person['RolesDisplay'] is None else ''\n",
    "    \n",
    "    # Uuund das Sub-Page Aufrufen.\n",
    "    sub_url = sub_base + str(person['Id'])\n",
    "    \n",
    "    r = requests.get(sub_url)\n",
    "    soup = BeautifulSoup(r.content, 'lxml')\n",
    "    legend = soup.find_all('legend')[0]\n",
    "    for span in legend('span'):\n",
    "        span.decompose()\n",
    "    \n",
    "    thisperson['8 Gender'] = legend\n",
    "    \n",
    "    verzeichnis.append(thisperson)\n",
    "    \n",
    "pd.DataFrame(verzeichnis)"
   ]
  },
  {
   "cell_type": "code",
   "execution_count": null,
   "metadata": {},
   "outputs": [],
   "source": [
    "pd"
   ]
  },
  {
   "cell_type": "code",
   "execution_count": null,
   "metadata": {},
   "outputs": [],
   "source": []
  },
  {
   "cell_type": "code",
   "execution_count": null,
   "metadata": {},
   "outputs": [],
   "source": []
  },
  {
   "cell_type": "code",
   "execution_count": null,
   "metadata": {},
   "outputs": [],
   "source": []
  },
  {
   "cell_type": "code",
   "execution_count": null,
   "metadata": {},
   "outputs": [],
   "source": []
  }
 ],
 "metadata": {
  "kernelspec": {
   "display_name": "Python 3",
   "language": "python",
   "name": "python3"
  },
  "language_info": {
   "codemirror_mode": {
    "name": "ipython",
    "version": 3
   },
   "file_extension": ".py",
   "mimetype": "text/x-python",
   "name": "python",
   "nbconvert_exporter": "python",
   "pygments_lexer": "ipython3",
   "version": "3.7.3"
  }
 },
 "nbformat": 4,
 "nbformat_minor": 2
}
